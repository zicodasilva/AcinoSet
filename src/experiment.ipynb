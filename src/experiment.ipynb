{
 "cells": [
  {
   "cell_type": "code",
   "execution_count": null,
   "source": [
    "import os\n",
    "import glob\n",
    "from typing import Dict\n",
    "\n",
    "import numpy as np\n",
    "import pandas as pd\n",
    "import matplotlib as mpl\n",
    "import matplotlib.pyplot as plt\n",
    "import matplotlib.cm as cm\n",
    "import cycler\n",
    "\n",
    "from py_utils import data_ops\n",
    "from lib import misc\n",
    "\n",
    "plt.rcParams['axes.grid'] = True"
   ],
   "outputs": [],
   "metadata": {}
  },
  {
   "cell_type": "code",
   "execution_count": null,
   "source": [
    "# First load all labelled frames into a pandas dataframe.\n",
    "gt_root_dir = \"/Users/zico/msc/data/gt_labels\"\n",
    "labelled_files = sorted(glob.glob(os.path.join(gt_root_dir, \"**/CollectedData_UCT.h5\"), recursive=True))\n",
    "vid = None\n",
    "for curr_file in labelled_files:\n",
    "    vid = curr_file.split(gt_root_dir + \"/\")[1]\n",
    "    vid = vid.split(\"/\")[0]\n",
    "    # Assuming that cam1 indicates the start of a new video sequence (the videos are sorted above).\n",
    "    cam_idx = int(vid[-1])\n",
    "    if cam_idx == 1:\n",
    "        out_dir = curr_file.split(\"cam1/CollectedData_UCT.h5\")[0]\n",
    "        os.makedirs(out_dir, exist_ok=True)\n",
    "    try:\n",
    "        curr_df = pd.read_hdf(curr_file)\n",
    "    except ValueError:\n",
    "        continue    \n",
    "    start_frame = int(curr_df.index[0].split(\"img\")[1][0:3])\n",
    "    frame_index = range(start_frame, start_frame + len(curr_df.index))\n",
    "    curr_df.index = frame_index\n",
    "    curr_df.to_hdf(os.path.join(out_dir, f\"cam{cam_idx}.h5\"), \"df_with_missing\", format=\"table\", mode=\"w\")"
   ],
   "outputs": [],
   "metadata": {}
  },
  {
   "cell_type": "code",
   "execution_count": 3,
   "source": [
    "def load_dlc_points_as_df(df_fpaths):\n",
    "    dfs = []\n",
    "    cam_indices = []\n",
    "    for path in df_fpaths:\n",
    "        vid = path.split(\".h5\")[0]\n",
    "        cam_indices.append(int(vid[-1]) - 1)\n",
    "        dlc_df = pd.read_hdf(path)\n",
    "        dlc_df = dlc_df.droplevel([0], axis=1).swaplevel(0,1,axis=1).T.unstack().T.reset_index().rename({'level_0':'frame'}, axis=1)\n",
    "        dlc_df.columns.name = ''\n",
    "        dfs.append(dlc_df)\n",
    "    #create new dataframe\n",
    "    dlc_df = pd.DataFrame(columns=['frame', 'camera', 'marker', 'x', 'y'])\n",
    "    for i, df in enumerate(dfs):\n",
    "        df['camera'] = cam_indices[i]\n",
    "        df.rename(columns={'bodyparts':'marker'}, inplace=True)\n",
    "        dlc_df = pd.concat([dlc_df, df], sort=True, ignore_index=True)\n",
    "\n",
    "    dlc_df = dlc_df[['frame', 'camera', 'marker', 'x', 'y']]\n",
    "    return dlc_df"
   ],
   "outputs": [],
   "metadata": {}
  },
  {
   "cell_type": "code",
   "execution_count": 4,
   "source": [
    "dlc_dirs = (\"/Users/zico/msc/data/gt_labels/2019_03_09LilyFlick\", \"/Users/zico/msc/data/gt_labels/2019_03_09JulesFlick2\", \"/Users/zico/msc/data/gt_labels/2017_12_16PhantomFlick2_1\", \"/Users/zico/msc/data/gt_labels/2017_09_03ZorroFlick1_1\")\n",
    "for dlc_file in dlc_dirs:\n",
    "    dlc_fpaths = sorted(glob.glob(os.path.join(dlc_file, \"*.h5\")))\n",
    "    res_df = load_dlc_points_as_df(dlc_fpaths)\n",
    "    df = pd.DataFrame(res_df)\n",
    "    ret_name = dlc_file.split(\"/\")[-1]\n",
    "    print(f\"Saving...{ret_name}\")\n",
    "    df.to_csv(os.path.join(dlc_file, f\"{ret_name}.csv\"))"
   ],
   "outputs": [
    {
     "output_type": "stream",
     "name": "stdout",
     "text": [
      "Saving...2019_03_09LilyFlick\n",
      "Saving...2019_03_09JulesFlick2\n",
      "Saving...2017_12_16PhantomFlick2_1\n",
      "Saving...2017_09_03ZorroFlick1_1\n"
     ]
    }
   ],
   "metadata": {}
  },
  {
   "cell_type": "code",
   "execution_count": null,
   "source": [
    "def plot_reprojection_error(data: Dict, results_dir: str, show_plot=False) -> None:\n",
    "    start_frame = data[\"start_frame\"]\n",
    "    meas_err = data[\"meas_err\"]\n",
    "    meas_weight = data[\"meas_weight\"]\n",
    "\n",
    "    x_axis_range = range(start_frame, start_frame + len(meas_weight))\n",
    "\n",
    "    num_cams = meas_err.shape[1]\n",
    "    meas_weight = np.expand_dims(meas_weight, 3) if len(meas_weight.shape) > 2 else np.expand_dims(meas_weight, 2)\n",
    "    weighted_meas_err = meas_weight * meas_err\n",
    "    xy_filtered_meas_err = np.array([np.mean(weighted_meas_err[:, cam_idx], axis=2) for cam_idx in range(num_cams)])\n",
    "\n",
    "    markers = misc.get_markers()\n",
    "    marker_colors = cm.jet(np.linspace(0, 1, len(markers)))\n",
    "    mpl.rcParams['axes.prop_cycle'] = cycler.cycler('color', marker_colors)\n",
    "\n",
    "\n",
    "    fig = plt.figure(figsize=(16, 12), dpi=120)\n",
    "    fig.suptitle(\"Reprojection Error (After Filtering and Scaling)\", fontsize=14)\n",
    "    base_subplot_value = 320\n",
    "    for idx in range(num_cams):\n",
    "        base_subplot_value += 1\n",
    "        plt.subplot(base_subplot_value)\n",
    "        plt.title(\n",
    "            f\"CAM {idx+1} (\\u03BC: {np.mean(xy_filtered_meas_err[idx, :, :]):.2f}, \\u03C3: {np.std(xy_filtered_meas_err[idx, :, :]):.2f})\"\n",
    "        )\n",
    "        plotted_values = plt.plot(x_axis_range, xy_filtered_meas_err[idx, :, :], marker=\"o\", markersize=2)\n",
    "\n",
    "    # Set common labels\n",
    "    fig.legend(plotted_values, markers, loc=(0.91, 0.4))\n",
    "    fig.text(0.5, 0.04, \"Frame Number\", ha='center', va='center')\n",
    "    fig.text(0.06, 0.5, \"Error [pixels]\", ha='center', va='center', rotation='vertical')\n",
    "\n",
    "    if show_plot:\n",
    "        plt.show()\n",
    "    else:\n",
    "        plt.savefig(os.path.join(results_dir, \"fte_meas_error_filtered.png\"))\n",
    "        plt.close()"
   ],
   "outputs": [],
   "metadata": {}
  }
 ],
 "metadata": {
  "orig_nbformat": 4,
  "language_info": {
   "name": "python",
   "version": "3.9.5",
   "mimetype": "text/x-python",
   "codemirror_mode": {
    "name": "ipython",
    "version": 3
   },
   "pygments_lexer": "ipython3",
   "nbconvert_exporter": "python",
   "file_extension": ".py"
  },
  "kernelspec": {
   "name": "python3",
   "display_name": "Python 3.9.5 64-bit"
  },
  "interpreter": {
   "hash": "aee8b7b246df8f9039afb4144a1f6fd8d2ca17a180786b69acc140d282b71a49"
  }
 },
 "nbformat": 4,
 "nbformat_minor": 2
}