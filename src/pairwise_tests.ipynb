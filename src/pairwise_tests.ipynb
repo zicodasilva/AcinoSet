{
 "cells": [
  {
   "cell_type": "code",
   "execution_count": 1,
   "metadata": {},
   "outputs": [
    {
     "name": "stdout",
     "output_type": "stream",
     "text": [
      "The autoreload extension is already loaded. To reload it, use:\n",
      "  %reload_ext autoreload\n"
     ]
    }
   ],
   "source": [
    "import os\n",
    "from glob import glob\n",
    "\n",
    "import main_fte\n",
    "from py_utils import data_ops\n",
    "import evaluate_fte\n",
    "from lib import app\n",
    "from py_utils import log\n",
    "\n",
    "%load_ext autoreload\n",
    "%autoreload 2\n",
    "\n",
    "%matplotlib inline\n",
    "\n",
    "# root_dir = os.path.join(\"..\", \"data\")\n",
    "root_dir = os.path.join(\"/Users/zico/OneDrive - University of Cape Town/CheetahReconstructionResults/cheetah_videos\")\n",
    "# If you are running the code remotely on the Linux i9.\n",
    "# root_dir = os.path.join(\"/\",\"data\", \"dlc\", \"to_analyse\", \"cheetah_videos\")\\\n",
    "logger = log.logger(\"main\")"
   ]
  },
  {
   "cell_type": "code",
   "execution_count": null,
   "metadata": {},
   "outputs": [],
   "source": [
    "# Generate the pose functions if this has not been done before (note this should only be performed once). It will be saved in the root_dir.\n",
    "functions = main_fte.create_pose_functions(root_dir)"
   ]
  },
  {
   "cell_type": "code",
   "execution_count": 2,
   "metadata": {},
   "outputs": [],
   "source": [
    "# Configurations for the optimisation. 2017_08_29/top/phantom/run1_1 2017_08_29/top/phantom/flick1_1 2019_02_27/kiara/run\n",
    "# 2017_08_29/top/jules/run1_1\n",
    "data_path = os.path.join(\"2017_08_29\", \"top\", \"jules\", \"run1_1\")\n",
    "# /Users/zico/OneDrive - University of Cape Town/CheetahReconstructionResults/paws-pw-included/2019_03_09/jules/flick2\n",
    "start_frame = 10\n",
    "end_frame = 110\n",
    "dlc_thresh = 0.5"
   ]
  },
  {
   "cell_type": "code",
   "execution_count": null,
   "metadata": {
    "tags": [
     "outputPrepend"
    ]
   },
   "outputs": [
    {
     "name": "stderr",
     "output_type": "stream",
     "text": [
      "2021-09-24T08:22:02.662 | INFO | main_fte: Prepare data - Start\n"
     ]
    },
    {
     "name": "stdout",
     "output_type": "stream",
     "text": [
      "Loaded extrinsics from /Users/zico/OneDrive - University of Cape Town/CheetahReconstructionResults/cheetah_videos/2017_08_29/top/extrinsic_calib/6_cam_scene_sba.json\n",
      "\n"
     ]
    },
    {
     "name": "stderr",
     "output_type": "stream",
     "text": [
      "2021-09-24T08:22:05.752 | INFO | main_fte: Load H5 2D DLC prediction data\n"
     ]
    },
    {
     "name": "stdout",
     "output_type": "stream",
     "text": [
      "Found 2070 pairwise points between camera 0 and 1\n",
      "Found 1729 pairwise points between camera 1 and 2\n",
      "Found 1016 pairwise points between camera 2 and 3\n",
      "Found 785 pairwise points between camera 3 and 4\n",
      "Found 767 pairwise points between camera 4 and 5\n",
      "Found 903 pairwise points between camera 5 and 0\n",
      "\n"
     ]
    },
    {
     "name": "stderr",
     "output_type": "stream",
     "text": [
      "2021-09-24T08:22:06.255 | INFO | main_fte: Estimate the initial trajectory\n",
      "2021-09-24T08:22:06.971 | INFO | main_fte: Train motion prediction model\n",
      "2021-09-24T08:22:07.054 | INFO | main_fte: X_train: (1119, 58), y_train: (1119, 29)\n",
      "2021-09-24T08:22:07.057 | INFO | main_fte: X_test: (280, 58), y_test: (280, 29)\n",
      "2021-09-24T08:22:07.240 | INFO | main_fte: Pure Python LR prediction matches sklearn :)\n",
      "2021-09-24T08:22:07.246 | INFO | main_fte: Model prediction error: 0.17306254153641434\n",
      "2021-09-24T08:22:07.252 | INFO | main_fte: Prepare data - End\n",
      "2021-09-24T08:22:07.259 | INFO | main_fte: Start frame: 9, End frame: 110, Frame rate: 90\n",
      "2021-09-24T08:22:07.263 | INFO | main_fte: Setup optimisation - Start\n",
      "2021-09-24T08:22:07.502 | INFO | main_fte: Measurement initialisation...Done\n",
      "2021-09-24T08:22:11.323 | INFO | main_fte: Variable initialisation...Done\n",
      "2021-09-24T08:22:48.642 | INFO | main_fte: Constaint initialisation...Done\n",
      "2021-09-24T08:22:49.238 | INFO | main_fte: Objective initialisation...Done\n",
      "2021-09-24T08:22:49.241 | INFO | main_fte: Setup optimisation - End\n",
      "2021-09-24T08:22:49.245 | INFO | main_fte: Initialisation took 46.58s\n"
     ]
    },
    {
     "name": "stdout",
     "output_type": "stream",
     "text": [
      "Ipopt 3.13.3: print_level=5\n",
      "max_iter=400\n",
      "max_cpu_time=10000\n",
      "Tol=0.1\n",
      "linear_solver=ma86\n",
      "option_file_name=/var/folders/_2/61j71l3s06zfdc543275_g8w0000gn/T/tmpoim_nqw9_ipopt.opt\n",
      "\n",
      "Using option file \"/var/folders/_2/61j71l3s06zfdc543275_g8w0000gn/T/tmpoim_nqw9_ipopt.opt\".\n",
      "\n",
      "\n",
      "******************************************************************************\n",
      "This program contains Ipopt, a library for large-scale nonlinear optimization.\n",
      " Ipopt is released as open source code under the Eclipse Public License (EPL).\n",
      "         For more information visit https://github.com/coin-or/Ipopt\n",
      "******************************************************************************\n",
      "\n",
      "This is Ipopt version 3.13.3, running with linear solver ma86.\n",
      "\n",
      "Number of nonzeros in equality constraint Jacobian...:   295926\n",
      "Number of nonzeros in inequality constraint Jacobian.:     2525\n",
      "Number of nonzeros in Lagrangian Hessian.............:        0\n",
      "\n",
      "Total number of variables............................:    26765\n",
      "                     variables with only lower bounds:        0\n",
      "                variables with lower and upper bounds:        0\n",
      "                     variables with only upper bounds:        0\n",
      "Total number of equality constraints.................:    23691\n",
      "Total number of inequality constraints...............:     2525\n",
      "        inequality constraints with only lower bounds:        0\n",
      "   inequality constraints with lower and upper bounds:     2525\n",
      "        inequality constraints with only upper bounds:        0\n",
      "\n",
      "iter    objective    inf_pr   inf_du lg(mu)  ||d||  lg(rg) alpha_du alpha_pr  ls\n",
      "   0 -1.0379436e+00 1.29e+03 3.74e-05   0.0 0.00e+00    -  0.00e+00 0.00e+00   0\n",
      "   8  1.5747359e+01 2.69e+00 6.20e+01  -2.0 1.06e+02    -  1.00e+00 1.00e+00h  1\n",
      "  17  1.0359131e+01 7.73e-01 4.70e+01  -2.7 1.26e+02    -  6.59e-02 6.45e-01h  1\n",
      "  26  1.0118351e+01 5.53e-01 4.16e+01  -2.5 1.48e+02    -  5.19e-01 5.64e-01h  1\n",
      "  35  5.5643502e+00 3.41e-02 7.98e+00  -9.9 7.38e+01    -  1.03e-01 1.57e-01h  1\n",
      "  44  4.9559953e+00 5.36e-03 4.66e+00  -4.2 6.44e+01    -  1.00e+00 1.55e-01h  1\n",
      "  53  4.6573653e+00 1.83e-02 6.00e-01  -4.5 1.30e+01    -  1.00e+00 1.00e+00h  1\n",
      "  62  4.5136105e+00 6.30e-02 3.89e+00  -4.5 2.02e+01    -  1.00e+00 1.28e-01h  1\n",
      "  71  4.4066361e+00 1.79e-02 2.74e+00  -5.7 4.18e+02    -  2.06e-01 4.89e-03h  1\n",
      "  80  4.3320816e+00 4.63e-01 7.54e+00  -5.9 1.31e+02    -  2.18e-05 1.56e-01h  1\n",
      "iter    objective    inf_pr   inf_du lg(mu)  ||d||  lg(rg) alpha_du alpha_pr  ls\n",
      "  89  4.1553426e+00 1.04e-01 1.23e+01  -4.4 3.95e+01    -  9.64e-02 5.30e-01h  1\n",
      "  98  3.9900404e+00 4.21e-02 8.03e+00  -5.9 2.04e+01    -  3.71e-01 1.00e+00h  1\n",
      " 107  3.8774880e+00 1.75e-02 8.24e+00  -5.7 1.37e+01    -  8.01e-01 1.00e+00h  1\n",
      " 116  4.3280860e+00 2.46e-01 8.09e+00  -5.8 2.27e+02    -  9.29e-05 6.65e-02h  1\n",
      " 125  3.6625948e+00 9.60e-03 4.55e+00  -5.9 5.88e+00    -  1.00e+00 1.00e+00h  1\n",
      " 134  3.8219204e+00 7.42e-02 6.50e+00 -11.0 3.97e+01    -  1.99e-01 7.39e-01h  1\n",
      " 143  3.6154525e+00 9.68e-03 3.45e+00  -4.8 6.42e+00    -  1.00e+00 1.00e+00h  1\n",
      " 152  3.5741702e+00 4.86e-03 1.17e+00  -5.5 5.53e+00    -  1.00e+00 7.95e-01h  1\n",
      " 161  4.1477905e+00 1.57e-01 1.06e+01  -6.8 1.20e+02    -  1.07e-03 3.10e-01f  1\n",
      " 170  3.5439759e+00 8.01e-03 7.55e-01  -6.4 8.30e+00    -  2.69e-01 1.00e+00h  1\n",
      "iter    objective    inf_pr   inf_du lg(mu)  ||d||  lg(rg) alpha_du alpha_pr  ls\n",
      " 179  3.5547629e+00 3.81e-03 3.05e+00  -6.1 9.98e+00    -  1.00e+00 1.00e+00h  1\n",
      " 188  3.5205817e+00 6.98e-03 3.92e+00  -5.0 8.88e+00    -  3.04e-01 7.21e-01h  1\n",
      " 197  3.5393471e+00 3.24e-02 2.67e+00  -6.2 7.66e+00    -  4.30e-01 1.00e+00h  1\n",
      " 206  3.4990387e+00 1.38e-04 1.07e+00  -6.7 1.72e+00    -  1.00e+00 1.00e+00h  1\n",
      " 215  4.0438012e+00 1.46e-01 1.20e+01 -11.0 2.34e+02    -  1.60e-02 3.00e-01h  1\n",
      " 224  4.0575953e+00 3.92e-01 1.03e+01  -9.2 7.69e+01    -  7.26e-02 1.99e-01h  1\n",
      "In iteration 224, 1 Slack too small, adjusting variable bound\n",
      " 233  3.4153263e+00 6.68e-04 7.23e-01  -7.2 2.25e+00    -  1.00e+00 1.00e+00h  1\n",
      " 242  3.4615686e+00 7.98e-03 5.22e+00  -7.1 1.04e+01    -  5.52e-01 1.00e+00h  1\n",
      " 251  3.6905250e+00 8.99e-02 6.39e+00  -4.5 1.13e+02    -  6.14e-03 1.73e-01h  1\n",
      " 260  3.3792350e+00 1.80e-04 2.16e-01  -6.6 4.10e+00    -  1.00e+00 1.12e-01h  1\n",
      "iter    objective    inf_pr   inf_du lg(mu)  ||d||  lg(rg) alpha_du alpha_pr  ls\n",
      "\n",
      "Number of Iterations....: 267\n",
      "\n",
      "                                   (scaled)                 (unscaled)\n",
      "Objective...............:   3.3766020780300714e+00    3.3766020780300714e+00\n",
      "Dual infeasibility......:   6.8470298557194831e-02    6.8470298557194831e-02\n",
      "Constraint violation....:   2.1630389416185767e-06    2.4597572938489520e-06\n",
      "Complementarity.........:   2.9629615660080455e-07    2.9629615660080455e-07\n",
      "Overall NLP error.......:   6.8470298557194831e-02    6.8470298557194831e-02\n",
      "\n",
      "\n",
      "Number of objective function evaluations             = 268\n",
      "Number of objective gradient evaluations             = 268\n",
      "Number of equality constraint evaluations            = 268\n",
      "Number of inequality constraint evaluations          = 268\n",
      "Number of equality constraint Jacobian evaluations   = 268\n",
      "Number of inequality constraint Jacobian evaluations = 268\n",
      "Number of Lagrangian Hessian evaluations             = 0\n",
      "Total CPU secs in IPOPT (w/o function evaluations)   =    252.787\n",
      "Total CPU secs in NLP function evaluations           =    121.964\n",
      "\n",
      "\n",
      "Timing Statistics:\n",
      "\n",
      "OverallAlgorithm....................:    374.751 (sys:     65.606 wall:    317.118)\n",
      " PrintProblemStatistics.............:      0.000 (sys:      0.000 wall:      0.000)\n",
      " InitializeIterates.................:      4.381 (sys:      0.561 wall:      3.672)\n",
      " UpdateHessian......................:      0.452 (sys:      0.005 wall:      0.457)\n",
      " OutputIteration....................:      0.003 (sys:      0.001 wall:      0.004)\n",
      " UpdateBarrierParameter.............:    132.669 (sys:     34.821 wall:    101.454)\n",
      " ComputeSearchDirection.............:    115.194 (sys:     29.814 wall:     88.840)\n",
      " ComputeAcceptableTrialPoint........:     86.411 (sys:      0.163 wall:     86.727)\n",
      " AcceptTrialPoint...................:      0.014 (sys:      0.001 wall:      0.015)\n",
      " CheckConvergence...................:     35.626 (sys:      0.239 wall:     35.946)\n",
      "PDSystemSolverTotal.................:    247.703 (sys:     64.598 wall:    190.096)\n",
      " PDSystemSolverSolveOnce............:    246.692 (sys:     64.588 wall:    189.074)\n",
      " ComputeResiduals...................:      0.954 (sys:      0.005 wall:      0.960)\n",
      " StdAugSystemSolverMultiSolve.......:    247.511 (sys:     64.431 wall:    188.456)\n",
      " LinearSystemScaling................:      0.000 (sys:      0.000 wall:      0.000)\n",
      " LinearSystemSymbolicFactorization..:      0.045 (sys:      0.006 wall:      0.053)\n",
      " LinearSystemFactorization..........:    218.883 (sys:     57.754 wall:    164.459)\n",
      " LinearSystemBackSolve..............:     27.354 (sys:      5.892 wall:     21.930)\n",
      " LinearSystemStructureConverter.....:      0.166 (sys:      0.005 wall:      0.171)\n",
      "  LinearSystemStructureConverterInit:      0.016 (sys:      0.003 wall:      0.019)\n",
      "QualityFunctionSearch...............:      0.104 (sys:      0.013 wall:      0.117)\n",
      "TryCorrector........................:      0.000 (sys:      0.000 wall:      0.000)\n",
      "Task1...............................:      0.026 (sys:      0.003 wall:      0.030)\n",
      "Task2...............................:      0.052 (sys:      0.001 wall:      0.053)\n",
      "Task3...............................:      0.005 (sys:      0.001 wall:      0.006)\n",
      "Task4...............................:      0.000 (sys:      0.000 wall:      0.000)\n",
      "Task5...............................:      0.011 (sys:      0.001 wall:      0.013)\n",
      "Function Evaluations................:    121.964 (sys:      0.368 wall:    122.566)\n",
      " Objective function.................:      2.841 (sys:      0.006 wall:      2.850)\n",
      " Objective function gradient........:      1.397 (sys:      0.003 wall:      1.403)\n",
      " Equality constraints...............:     83.429 (sys:      0.138 wall:     83.718)\n",
      " Inequality constraints.............:      0.278 (sys:      0.001 wall:      0.279)\n",
      " Equality constraint Jacobian.......:     34.014 (sys:      0.220 wall:     34.312)\n",
      " Inequality constraint Jacobian.....:      0.005 (sys:      0.000 wall:      0.005)\n",
      " Lagrangian Hessian.................:      0.000 (sys:      0.000 wall:      0.000)\n",
      "\n",
      "EXIT: Optimal Solution Found.\n"
     ]
    },
    {
     "name": "stderr",
     "output_type": "stream",
     "text": [
      "2021-09-24T08:28:29.110 | INFO | main_fte: Optimisation solver took 339.86s\n",
      "2021-09-24T08:28:29.113 | INFO | main_fte: Generate outputs...\n"
     ]
    },
    {
     "name": "stdout",
     "output_type": "stream",
     "text": [
      "Saved /Users/zico/msc/dev/AcinoSet/data/2017_08_29/top/jules/run1_1/fte_pw_2/fte.pickle\n",
      "Saved /Users/zico/msc/dev/AcinoSet/data/2017_08_29/top/jules/run1_1/fte_pw_2/cam*_fte.h5\n",
      "Saved /Users/zico/msc/dev/AcinoSet/data/2017_08_29/top/jules/run1_1/fte_pw_2/cam*_fte.csv\n",
      "\n",
      "Saving labeled videos...\n",
      "Loading cam1 and data.\n",
      "Loading cam2 and data.\n",
      "Loading cam5 and data.Loading cam3 and data.\n",
      "\n",
      "Loading cam4 and data.\n",
      "Loading cam6 and data.\n",
      "\n",
      "Duration of video: 1.59 s, recorded with 90.0 fps!\n",
      "Total frames: 143 with frame dimensions: 1920 x 1080\n",
      "\n",
      "Duration of video: 1.59 s, recorded with 90.0 fps!Generating frames and creating video...\n",
      "\n",
      "\n",
      "\n",
      "Duration of video: 1.59 s, recorded with 90.0 fps!Total frames: 143 with frame dimensions: 1920 x 1080\n",
      "Duration of video: 1.59 s, recorded with 90.0 fps!\n",
      "\n",
      "\n",
      "Duration of video: 1.59 s, recorded with 90.0 fps!Total frames: 143 with frame dimensions: 1920 x 1080\n",
      "Generating frames and creating video...\n",
      "\n",
      "\n",
      "Total frames: 143 with frame dimensions: 1920 x 1080Total frames: 143 with frame dimensions: 1920 x 1080\n",
      "Generating frames and creating video...Generating frames and creating video...Generating frames and creating video...\n",
      "\n",
      "\n",
      "\n",
      "Duration of video: 1.59 s, recorded with 90.0 fps!\n"
     ]
    },
    {
     "name": "stderr",
     "output_type": "stream",
     "text": [
      "  0%|          | 0/143 [00:00<?, ? f/s]"
     ]
    },
    {
     "name": "stdout",
     "output_type": "stream",
     "text": [
      "Total frames: 143 with frame dimensions: 1920 x 1080\n"
     ]
    },
    {
     "name": "stderr",
     "output_type": "stream",
     "text": [
      "  0%|          | 0/143 [00:00<?, ? f/s]"
     ]
    },
    {
     "name": "stdout",
     "output_type": "stream",
     "text": [
      "Generating frames and creating video...\n"
     ]
    },
    {
     "name": "stderr",
     "output_type": "stream",
     "text": [
      "  0%|          | 0/143 [00:00<?, ? f/s]"
     ]
    }
   ],
   "source": [
    "# Run the optimisation\n",
    "main_fte.run(root_dir, data_path, start_frame, end_frame, dlc_thresh, init_ekf=False, single_view=2, pairwise_included=0, generate_reprojection_videos=True, out_dir_prefix=\"/Users/zico/msc/dev/AcinoSet/data\")"
   ]
  },
  {
   "cell_type": "code",
   "execution_count": null,
   "metadata": {},
   "outputs": [],
   "source": [
    "dummy_scene = \"/Users/zico/OneDrive - University of Cape Town/CheetahReconstructionResults/cheetah_videos/2017_08_29/top/extrinsic_calib/6_cam_scene_sba.json\"\n",
    "main_fte.plot_trajectory(\"/Users/zico/msc/dev/monocular_estimation/data/synthesized.pickle\", dummy_scene)"
   ]
  },
  {
   "cell_type": "code",
   "execution_count": null,
   "metadata": {},
   "outputs": [],
   "source": [
    "# Compare the optimisation with previous results i.e. compare the output pickle file fte.pickle. This is a visual inspection.abs\n",
    "main_fte.plot_cheetah(root_dir, data_path, out_dir_prefix=\"/Users/zico/msc/dev/AcinoSet/data\")"
   ]
  },
  {
   "cell_type": "code",
   "execution_count": null,
   "metadata": {},
   "outputs": [],
   "source": [
    "# Compare the optimisation with previous results i.e. compare the output pickle file fte.pickle. This is a visual inspection.abs\n",
    "main_fte.compare_cheetahs(\"/Users/zico/msc/dev/monocular_estimation/lily_discrete_trajectory.pickle\", root_dir, data_path, out_dir_prefix=\"/Users/zico/msc/dev/AcinoSet/data\")"
   ]
  },
  {
   "cell_type": "code",
   "execution_count": null,
   "metadata": {},
   "outputs": [],
   "source": [
    "eval_dir = os.path.join(\"/Users/zico/msc/dev/AcinoSet/data\", data_path, \"fte_pw\")\n",
    "data = data_ops.load_pickle(os.path.join(eval_dir, \"fte.pickle\"))\n",
    "results_dir = os.path.join(eval_dir, \"evaluation\")\n",
    "os.makedirs(eval_dir, exist_ok=True)\n",
    "max_delta_acc = evaluate_fte.eval_delta_acc(data, results_dir)\n",
    "evaluate_fte.eval_model_error(data, results_dir)\n",
    "evaluate_fte.eval_meas_error(data, results_dir)\n",
    "logger.info(max_delta_acc)"
   ]
  },
  {
   "cell_type": "code",
   "execution_count": null,
   "metadata": {},
   "outputs": [],
   "source": [
    "fig_fpath = os.path.join(os.path.join(os.path.join(\"..\", \"data\"), data_path, \"fte_pw\"), 'fte.svg')\n",
    "pw_file = data_ops.load_pickle(os.path.join(os.path.join(\"..\", \"data\"), data_path, \"fte_pw\", \"fte.pickle\"))\n",
    "app.plot_cheetah_states(pw_file[\"x\"], out_fpath=fig_fpath)"
   ]
  },
  {
   "cell_type": "code",
   "execution_count": null,
   "metadata": {},
   "outputs": [],
   "source": [
    "main_fte.plot_cost_functions()"
   ]
  },
  {
   "cell_type": "code",
   "execution_count": null,
   "metadata": {},
   "outputs": [],
   "source": []
  }
 ],
 "metadata": {
  "interpreter": {
   "hash": "aee8b7b246df8f9039afb4144a1f6fd8d2ca17a180786b69acc140d282b71a49"
  },
  "kernelspec": {
   "display_name": "Python [conda env:pypy] *",
   "language": "python",
   "name": "conda-env-pypy-py"
  },
  "language_info": {
   "codemirror_mode": {
    "name": "ipython",
    "version": 3
   },
   "file_extension": ".py",
   "mimetype": "text/x-python",
   "name": "python",
   "nbconvert_exporter": "python",
   "pygments_lexer": "ipython3",
   "version": "3.7.10"
  },
  "metadata": {
   "interpreter": {
    "hash": "aee8b7b246df8f9039afb4144a1f6fd8d2ca17a180786b69acc140d282b71a49"
   }
  }
 },
 "nbformat": 4,
 "nbformat_minor": 4
}
