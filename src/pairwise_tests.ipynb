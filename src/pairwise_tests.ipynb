{
 "cells": [
  {
   "cell_type": "code",
   "execution_count": null,
   "metadata": {},
   "outputs": [],
   "source": [
    "import os\n",
    "from glob import glob\n",
    "\n",
    "import main_fte\n",
    "from py_utils import data_ops\n",
    "import evaluate_fte\n",
    "from lib import app\n",
    "from py_utils import log\n",
    "\n",
    "%load_ext autoreload\n",
    "%autoreload 2\n",
    "\n",
    "%matplotlib inline\n",
    "\n",
    "# root_dir = os.path.join(\"..\", \"data\")\n",
    "root_dir = os.path.join(\"/Users/zico/OneDrive - University of Cape Town/CheetahReconstructionResults/cheetah_videos\")\n",
    "# If you are running the code remotely on the Linux i9.\n",
    "# root_dir = os.path.join(\"/\",\"data\", \"dlc\", \"to_analyse\", \"cheetah_videos\")\\\n",
    "logger = log.logger(\"main\")"
   ]
  },
  {
   "cell_type": "code",
   "execution_count": null,
   "metadata": {},
   "outputs": [],
   "source": [
    "# Generate the pose functions if this has not been done before (note this should only be performed once). It will be saved in the root_dir.\n",
    "functions = main_fte.create_pose_functions(root_dir)"
   ]
  },
  {
   "cell_type": "code",
   "execution_count": null,
   "metadata": {},
   "outputs": [],
   "source": [
    "# Configurations for the optimisation. 2017_08_29/top/phantom/run1_1 2017_08_29/top/phantom/flick1_1 2019_02_27/kiara/run\n",
    "# 2017_08_29/top/jules/run1_1\n",
    "data_path = os.path.join(\"2017_08_29\", \"top\", \"jules\", \"run1_1\")\n",
    "# 2019_03_09LilyFlick\n",
    "# 2019_03_09JulesFlick2\n",
    "# 2017_12_16PhantomFlick2_1\n",
    "# 2017_12_21/bottom/jules/flick2_1\n",
    "start_frame = 10\n",
    "end_frame = 110\n",
    "dlc_thresh = 0.5\n",
    "# filtered_markers = ()\n",
    "filtered_markers = (\"r_shoulder\", \"r_front_knee\", \"r_front_ankle\", \"r_front_paw\", \"r_hip\", \"r_back_knee\", \"r_back_ankle\", \"r_back_paw\")"
   ]
  },
  {
   "cell_type": "code",
   "execution_count": null,
   "metadata": {
    "tags": [
     "outputPrepend"
    ]
   },
   "outputs": [
    {
     "name": "stderr",
     "output_type": "stream",
     "text": [
      "2021-08-22T14:09:47.243 | INFO | main_fte: Prepare data - Start\n",
      "2021-08-22T14:09:47.813 | INFO | main_fte: Load H5 2D DLC prediction data\n",
      "2021-08-22T14:09:48.232 | INFO | main_fte: Estimate the initial trajectory\n",
      "2021-08-22T14:09:48.589 | INFO | main_fte: Prepare data - End\n",
      "2021-08-22T14:09:48.593 | INFO | main_fte: Start frame: 9, End frame: 110, Frame rate: 90\n",
      "2021-08-22T14:09:48.596 | INFO | main_fte: Setup optimisation - Start\n",
      "2021-08-22T14:09:48.600 | INFO | main_fte: Drop out frames [25]: (10, 11, 12, 13, 14, 15, 16, 17, 18, 19, 50, 51, 52, 53, 54, 80, 81, 82, 83, 84, 85, 86, 87, 88, 89)\n",
      "2021-08-22T14:09:50.247 | INFO | main_fte: Measurement initialisation...Done\n",
      "2021-08-22T14:09:53.868 | INFO | main_fte: Variable initialisation...Done\n",
      "2021-08-22T14:10:40.877 | INFO | main_fte: Constaint initialisation...Done\n",
      "2021-08-22T14:10:43.093 | INFO | main_fte: Objective initialisation...Done\n",
      "2021-08-22T14:10:43.095 | INFO | main_fte: Setup optimisation - End\n",
      "2021-08-22T14:10:43.098 | INFO | main_fte: Initialisation took 55.85s\n"
     ]
    }
   ],
   "source": [
    "# Run the optimisation\n",
    "main_fte.run(root_dir, data_path, start_frame, end_frame, dlc_thresh, drop_out_frame_ranges = ((10, 20), (50, 55), (80, 90)), filtered_markers=filtered_markers, init_ekf=False, single_view=0, pairwise_included=2, generate_reprojection_videos=True, out_dir_prefix=\"/Users/zico/msc/dev/AcinoSet/data\")"
   ]
  },
  {
   "cell_type": "code",
   "execution_count": 8,
   "metadata": {},
   "outputs": [
    {
     "name": "stderr",
     "output_type": "stream",
     "text": [
      "2021-08-22T14:07:59.935 | WARNING | main_fte: No ground truth labels for this test.\n"
     ]
    },
    {
     "data": {
      "text/plain": [
       "(               count       mean        std       min       25%        50%  \\\n",
       " nose           446.0   3.258121   2.041535  0.152677  1.940589   2.809220   \n",
       " r_eye          331.0   3.119356   1.812407  0.147727  1.828903   2.819818   \n",
       " l_eye          265.0   3.153367   2.410369  0.085507  1.557578   2.484564   \n",
       " neck_base      446.0   8.939618   7.761392  0.311264  3.552756   6.693185   \n",
       " spine          506.0  11.843619  42.176676  0.139883  4.329998   7.435679   \n",
       " tail_base      451.0  14.808324  44.855030  1.064721  5.557355   9.749097   \n",
       " tail1          464.0  13.488186  36.107524  0.285836  4.764971   8.246161   \n",
       " tail2          475.0  12.580782  64.341390  0.114901  2.119066   3.295480   \n",
       " r_shoulder     292.0   8.027511   3.796289  0.614726  5.318435   7.746217   \n",
       " r_front_knee   342.0  11.187977  11.580015  0.685833  5.540987   8.429165   \n",
       " r_front_ankle  445.0  13.921096  13.088291  1.009155  5.989928  10.070847   \n",
       " r_front_paw    466.0  18.531384  23.534935  0.552480  6.435627  12.227533   \n",
       " l_shoulder     194.0  15.523623  11.430784  0.515918  7.508043  12.974012   \n",
       " l_front_knee   244.0  12.405752   8.425557  0.779454  6.441047  10.308838   \n",
       " l_front_ankle  384.0  11.643913  12.663316  0.342634  5.673404   9.042544   \n",
       " l_front_paw    375.0  14.028298  20.828900  0.114002  4.700074   8.451797   \n",
       " r_hip          297.0   9.928407   7.353261  0.340761  4.914775   8.686246   \n",
       " r_back_knee    317.0  11.864581  11.162331  1.994277  6.760748  10.532291   \n",
       " r_back_ankle   383.0   8.484219   9.276035  0.360376  3.641863   5.633307   \n",
       " r_back_paw     414.0  13.535793  19.080004  0.312214  4.907997   8.043062   \n",
       " l_hip          170.0  20.844517  18.690094  0.673487  8.094646  12.880796   \n",
       " l_back_knee    250.0  18.931149  16.880118  1.072299  7.562442  11.690614   \n",
       " l_back_ankle   362.0   8.786418   7.041761  0.820543  5.073421   7.357912   \n",
       " l_back_paw     393.0  10.915934   9.781478  0.603693  4.670701   8.539519   \n",
       " \n",
       "                      75%         max  \n",
       " nose            4.147691   13.950066  \n",
       " r_eye           4.051298    9.664616  \n",
       " l_eye           4.226898   19.332051  \n",
       " neck_base      11.422465   43.917936  \n",
       " spine          14.497937  942.899817  \n",
       " tail_base      15.816595  937.759290  \n",
       " tail1          13.703166  748.601456  \n",
       " tail2           4.917983  733.238942  \n",
       " r_shoulder     10.453664   20.166724  \n",
       " r_front_knee   12.673617   81.333789  \n",
       " r_front_ankle  17.552593  100.239422  \n",
       " r_front_paw    21.622774  239.885264  \n",
       " l_shoulder     19.105643   56.698370  \n",
       " l_front_knee   16.072860   51.350146  \n",
       " l_front_ankle  13.878064  169.903266  \n",
       " l_front_paw    14.717157  198.590421  \n",
       " r_hip          13.848248   77.649890  \n",
       " r_back_knee    14.725449  180.564672  \n",
       " r_back_ankle    9.471698   89.363251  \n",
       " r_back_paw     14.193230  137.274858  \n",
       " l_hip          30.432920   94.326136  \n",
       " l_back_knee    24.790669   72.013989  \n",
       " l_back_ankle   10.943108   72.503910  \n",
       " l_back_paw     13.927855   77.169359  ,\n",
       "         nose      r_eye      l_eye  neck_base      spine  tail_base  \\\n",
       " %  72.607261  55.775578  43.894389  76.732673  80.363036  75.907591   \n",
       " \n",
       "        tail1     tail2  r_shoulder  r_front_knee  ...  l_front_ankle  \\\n",
       " %  74.422442  76.89769   36.138614     40.429043  ...      57.920792   \n",
       " \n",
       "    l_front_paw      r_hip  r_back_knee  r_back_ankle  r_back_paw      l_hip  \\\n",
       " %    60.726073  37.458746    41.914191     48.184818   53.135314  29.867987   \n",
       " \n",
       "    l_back_knee  l_back_ankle  l_back_paw  \n",
       " %    49.834983     55.775578   64.191419  \n",
       " \n",
       " [1 rows x 24 columns])"
      ]
     },
     "execution_count": 8,
     "metadata": {},
     "output_type": "execute_result"
    },
    {
     "name": "stderr",
     "output_type": "stream",
     "text": [
      "/Users/zico/opt/anaconda3/envs/pypy/lib_pypy/_functools.py:80: MatplotlibDeprecationWarning: savefig() got unexpected keyword argument \"orientation\" which is no longer supported as of 3.3 and will become an error two minor releases later\n",
      "  return self._func(*(self._args + fargs), **fkeywords)\n"
     ]
    },
    {
     "data": {
      "image/png": "[encoded data removed]",
      "text/plain": [
       "<Figure size 432x288 with 1 Axes>"
      ]
     },
     "metadata": {
      "needs_background": "light"
     },
     "output_type": "display_data"
    },
    {
     "data": {
      "image/png": "[encoded data removed]",
      "text/plain": [
       "<Figure size 432x288 with 1 Axes>"
      ]
     },
     "metadata": {
      "needs_background": "light"
     },
     "output_type": "display_data"
    }
   ],
   "source": [
    "main_fte.metrics(root_dir, data_path, start_frame, end_frame, dlc_thresh, out_dir_prefix=\"/Users/zico/msc/dev/AcinoSet/data\")"
   ]
  },
  {
   "cell_type": "code",
   "execution_count": null,
   "metadata": {},
   "outputs": [],
   "source": [
    "dummy_scene = \"/Users/zico/OneDrive - University of Cape Town/CheetahReconstructionResults/cheetah_videos/2017_08_29/top/extrinsic_calib/6_cam_scene_sba.json\"\n",
    "main_fte.plot_trajectory(\"/Users/zico/msc/dev/monocular_estimation/data/synthesized.pickle\", dummy_scene)"
   ]
  },
  {
   "cell_type": "code",
   "execution_count": null,
   "metadata": {},
   "outputs": [],
   "source": [
    "# Compare the optimisation with previous results i.e. compare the output pickle file fte.pickle. This is a visual inspection.abs\n",
    "main_fte.plot_cheetah(root_dir, data_path, out_dir_prefix=\"/Users/zico/msc/dev/AcinoSet/data\")"
   ]
  },
  {
   "cell_type": "code",
   "execution_count": null,
   "metadata": {},
   "outputs": [],
   "source": [
    "# Compare the optimisation with previous results i.e. compare the output pickle file fte.pickle. This is a visual inspection.abs\n",
    "main_fte.compare_cheetahs(\"/Users/zico/msc/dev/monocular_estimation/lily_discrete_trajectory.pickle\", root_dir, data_path, out_dir_prefix=\"/Users/zico/msc/dev/AcinoSet/data\")"
   ]
  },
  {
   "cell_type": "code",
   "execution_count": null,
   "metadata": {},
   "outputs": [],
   "source": [
    "eval_dir = os.path.join(\"/Users/zico/msc/dev/AcinoSet/data\", data_path, \"fte_pw\")\n",
    "data = data_ops.load_pickle(os.path.join(eval_dir, \"fte.pickle\"))\n",
    "results_dir = os.path.join(eval_dir, \"evaluation\")\n",
    "os.makedirs(eval_dir, exist_ok=True)\n",
    "max_delta_acc = evaluate_fte.eval_delta_acc(data, results_dir)\n",
    "evaluate_fte.eval_model_error(data, results_dir)\n",
    "evaluate_fte.eval_meas_error(data, results_dir)\n",
    "logger.info(max_delta_acc)"
   ]
  },
  {
   "cell_type": "code",
   "execution_count": null,
   "metadata": {},
   "outputs": [],
   "source": [
    "fig_fpath = os.path.join(os.path.join(os.path.join(\"..\", \"data\"), data_path, \"fte_pw\"), 'fte.svg')\n",
    "pw_file = data_ops.load_pickle(os.path.join(os.path.join(\"..\", \"data\"), data_path, \"fte_pw\", \"fte.pickle\"))\n",
    "app.plot_cheetah_states(pw_file[\"x\"], out_fpath=fig_fpath)"
   ]
  },
  {
   "cell_type": "code",
   "execution_count": null,
   "metadata": {},
   "outputs": [],
   "source": [
    "main_fte.plot_cost_functions()"
   ]
  },
  {
   "cell_type": "code",
   "execution_count": null,
   "metadata": {},
   "outputs": [],
   "source": []
  }
 ],
 "metadata": {
  "interpreter": {
   "hash": "aee8b7b246df8f9039afb4144a1f6fd8d2ca17a180786b69acc140d282b71a49"
  },
  "kernelspec": {
   "display_name": "Python [conda env:pypy] *",
   "language": "python",
   "name": "conda-env-pypy-py"
  },
  "language_info": {
   "codemirror_mode": {
    "name": "ipython",
    "version": 3
   },
   "file_extension": ".py",
   "mimetype": "text/x-python",
   "name": "python",
   "nbconvert_exporter": "python",
   "pygments_lexer": "ipython3",
   "version": "3.7.10"
  },
  "metadata": {
   "interpreter": {
    "hash": "aee8b7b246df8f9039afb4144a1f6fd8d2ca17a180786b69acc140d282b71a49"
   }
  }
 },
 "nbformat": 4,
 "nbformat_minor": 4
}
