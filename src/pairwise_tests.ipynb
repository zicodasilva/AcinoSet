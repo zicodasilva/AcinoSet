{
 "cells": [
  {
   "cell_type": "code",
   "execution_count": 1,
   "metadata": {},
   "outputs": [],
   "source": [
    "import os\n",
    "from glob import glob\n",
    "\n",
    "import pairwise_fte\n",
    "from all_optimizations import ekf\n",
    "from lib.app import create_labeled_videos\n",
    "\n",
    "%load_ext autoreload\n",
    "%autoreload 2\n",
    "\n",
    "%matplotlib inline\n",
    "\n",
    "root_dir = os.path.join(\"..\", \"data\")\n",
    "# If you are running the code remotely on the Linux i9.\n",
    "# root_dir = os.path.join(\"/\",\"data\", \"dlc\", \"to_analyse\", \"cheetah_videos\")"
   ]
  },
  {
   "cell_type": "code",
   "execution_count": null,
   "metadata": {},
   "outputs": [],
   "source": [
    "# Generate the pose functions if this has not been done before (note this should only be performed once). It will be saved in the root_dir.\n",
    "functions = pairwise_fte.create_pose_functions(root_dir)"
   ]
  },
  {
   "cell_type": "code",
   "execution_count": 2,
   "metadata": {},
   "outputs": [],
   "source": [
    "# Configurations for the optimisation.\n",
    "data_path = os.path.join(\"2017_09_02\", \"bottom\", \"jules\", \"run2\")\n",
    "start_frame = 50\n",
    "end_frame = 100\n",
    "dlc_thresh = 0.5"
   ]
  },
  {
   "cell_type": "code",
   "execution_count": 3,
   "metadata": {
    "tags": [
     "outputPrepend"
    ]
   },
   "outputs": [
    {
     "name": "stderr",
     "output_type": "stream",
     "text": [
      "2021-05-10T15:50:27.685 | INFO | pairwise_fte: Prepare data - Start\n"
     ]
    },
    {
     "name": "stdout",
     "output_type": "stream",
     "text": [
      "Loaded extrinsics from ../data/2017_09_02/bottom/extrinsic_calib/6_cam_scene_sba.json\n",
      "\n"
     ]
    },
    {
     "name": "stderr",
     "output_type": "stream",
     "text": [
      "2021-05-10T15:50:28.046 | INFO | pairwise_fte: Start frame: 49, End frame: 100, Frame rate: 90.0\n",
      "2021-05-10T15:50:28.050 | INFO | pairwise_fte: Load H5 2D DLC prediction data\n",
      "2021-05-10T15:50:28.306 | INFO | pairwise_fte: Estimate the initial trajectory\n",
      "2021-05-10T15:50:28.310 | INFO | pairwise_fte: Prepare data - End\n",
      "2021-05-10T15:50:28.311 | INFO | pairwise_fte: Setup optimisation - Start\n"
     ]
    },
    {
     "name": "stdout",
     "output_type": "stream",
     "text": [
      "Found 1884 pairwise points between camera 0 and 1\n",
      "Found 2025 pairwise points between camera 1 and 2\n",
      "Found 1237 pairwise points between camera 2 and 3\n",
      "Found 1712 pairwise points between camera 3 and 4\n",
      "Found 2287 pairwise points between camera 4 and 5\n",
      "Found 1239 pairwise points between camera 5 and 0\n",
      "\n"
     ]
    },
    {
     "name": "stderr",
     "output_type": "stream",
     "text": [
      "2021-05-10T15:50:28.497 | INFO | pairwise_fte: Measurement initialisation...Done\n",
      "2021-05-10T15:50:28.989 | INFO | pairwise_fte: Variable initialisation...Done\n",
      "2021-05-10T15:50:56.500 | INFO | pairwise_fte: Constaint initialisation...Done\n",
      "2021-05-10T15:50:59.958 | INFO | pairwise_fte: Objective initialisation...Done\n",
      "2021-05-10T15:50:59.959 | INFO | pairwise_fte: Setup optimisation - End\n",
      "2021-05-10T15:50:59.960 | INFO | pairwise_fte: Initialisation took 32.27s\n"
     ]
    },
    {
     "name": "stdout",
     "output_type": "stream",
     "text": [
      "Ipopt 3.13.3: print_level=5\n",
      "max_iter=10000\n",
      "max_cpu_time=10000\n",
      "Tol=0.1\n",
      "linear_solver=ma86\n",
      "option_file_name=/var/folders/_2/61j71l3s06zfdc543275_g8w0000gn/T/tmpvgpzn1a1_ipopt.opt\n",
      "\n",
      "Using option file \"/var/folders/_2/61j71l3s06zfdc543275_g8w0000gn/T/tmpvgpzn1a1_ipopt.opt\".\n",
      "\n",
      "\n",
      "******************************************************************************\n",
      "This program contains Ipopt, a library for large-scale nonlinear optimization.\n",
      " Ipopt is released as open source code under the Eclipse Public License (EPL).\n",
      "         For more information visit https://github.com/coin-or/Ipopt\n",
      "******************************************************************************\n",
      "\n",
      "This is Ipopt version 3.13.3, running with linear solver ma86.\n",
      "\n",
      "Number of nonzeros in equality constraint Jacobian...:   100626\n",
      "Number of nonzeros in inequality constraint Jacobian.:     1071\n",
      "Number of nonzeros in Lagrangian Hessian.............:        0\n",
      "\n",
      "Total number of variables............................:    24460\n",
      "                     variables with only lower bounds:        0\n",
      "                variables with lower and upper bounds:        0\n",
      "                     variables with only upper bounds:        0\n",
      "Total number of equality constraints.................:    22050\n",
      "Total number of inequality constraints...............:     1071\n",
      "        inequality constraints with only lower bounds:        0\n",
      "   inequality constraints with lower and upper bounds:        0\n",
      "        inequality constraints with only upper bounds:     1071\n",
      "\n",
      "iter    objective    inf_pr   inf_du lg(mu)  ||d||  lg(rg) alpha_du alpha_pr  ls\n",
      "   0 -2.6205506e+00 1.89e+03 4.52e-02   0.0 0.00e+00    -  0.00e+00 0.00e+00   0\n",
      "  19  2.2775169e+01 3.03e+00 1.53e+00  -2.8 5.50e+02 -12.6 1.11e-01 9.84e-02h  1\n",
      "  43  1.9497946e+01 1.26e+00 7.63e-01  -3.3 3.86e+02 -20.0 1.25e-01 3.90e-01h  1\n",
      "  69  1.6457312e+01 5.02e-04 5.25e-03  -4.8 1.28e+01 -20.0 1.00e+00 9.74e-01h  1\n",
      "\n",
      "Number of Iterations....: 82\n",
      "\n",
      "                                   (scaled)                 (unscaled)\n",
      "Objective...............:   1.6413180511131209e+01    1.6413180511131209e+01\n",
      "Dual infeasibility......:   2.7194641445494098e-04    2.7194641445494098e-04\n",
      "Constraint violation....:   1.7046514250386658e-05    4.4655513079305820e-05\n",
      "Complementarity.........:   1.0075170428937194e-06    1.0075170428937194e-06\n",
      "Overall NLP error.......:   2.7194641445494098e-04    2.7194641445494098e-04\n",
      "\n",
      "\n",
      "Number of objective function evaluations             = 83\n",
      "Number of objective gradient evaluations             = 83\n",
      "Number of equality constraint evaluations            = 83\n",
      "Number of inequality constraint evaluations          = 83\n",
      "Number of equality constraint Jacobian evaluations   = 83\n",
      "Number of inequality constraint Jacobian evaluations = 83\n",
      "Number of Lagrangian Hessian evaluations             = 0\n",
      "Total CPU secs in IPOPT (w/o function evaluations)   =     13.514\n",
      "Total CPU secs in NLP function evaluations           =     21.576\n",
      "\n",
      "\n",
      "Timing Statistics:\n",
      "\n",
      "OverallAlgorithm....................:     35.090 (sys:      2.617 wall:     37.171)\n",
      " PrintProblemStatistics.............:      0.000 (sys:      0.000 wall:      0.000)\n",
      " InitializeIterates.................:      1.047 (sys:      0.054 wall:      1.064)\n",
      " UpdateHessian......................:      0.062 (sys:      0.002 wall:      0.064)\n",
      " OutputIteration....................:      0.001 (sys:      0.000 wall:      0.001)\n",
      " UpdateBarrierParameter.............:      7.000 (sys:      1.430 wall:      7.762)\n",
      " ComputeSearchDirection.............:      5.392 (sys:      0.952 wall:      5.736)\n",
      " ComputeAcceptableTrialPoint........:     15.015 (sys:      0.086 wall:     15.598)\n",
      " AcceptTrialPoint...................:      0.249 (sys:      0.040 wall:      0.265)\n",
      " CheckConvergence...................:      6.324 (sys:      0.052 wall:      6.679)\n",
      "PDSystemSolverTotal.................:     12.365 (sys:      2.368 wall:     13.457)\n",
      " PDSystemSolverSolveOnce............:     12.227 (sys:      2.364 wall:     13.314)\n",
      " ComputeResiduals...................:      0.124 (sys:      0.003 wall:      0.128)\n",
      " StdAugSystemSolverMultiSolve.......:     12.179 (sys:      2.327 wall:     13.154)\n",
      " LinearSystemScaling................:      0.000 (sys:      0.000 wall:      0.000)\n",
      " LinearSystemSymbolicFactorization..:      0.012 (sys:      0.002 wall:      0.015)\n",
      " LinearSystemFactorization..........:      9.308 (sys:      1.875 wall:      9.948)\n",
      " LinearSystemBackSolve..............:      2.604 (sys:      0.286 wall:      2.770)\n",
      " LinearSystemStructureConverter.....:      0.032 (sys:      0.002 wall:      0.034)\n",
      "  LinearSystemStructureConverterInit:      0.008 (sys:      0.002 wall:      0.010)\n",
      "QualityFunctionSearch...............:      0.012 (sys:      0.004 wall:      0.016)\n",
      "TryCorrector........................:      0.000 (sys:      0.000 wall:      0.000)\n",
      "Task1...............................:      0.002 (sys:      0.001 wall:      0.003)\n",
      "Task2...............................:      0.004 (sys:      0.000 wall:      0.005)\n",
      "Task3...............................:      0.001 (sys:      0.000 wall:      0.001)\n",
      "Task4...............................:      0.000 (sys:      0.000 wall:      0.000)\n",
      "Task5...............................:      0.003 (sys:      0.000 wall:      0.003)\n",
      "Function Evaluations................:     21.576 (sys:      0.129 wall:     22.512)\n",
      " Objective function.................:      1.953 (sys:      0.011 wall:      2.013)\n",
      " Objective function gradient........:      0.902 (sys:      0.004 wall:      0.915)\n",
      " Equality constraints...............:     13.046 (sys:      0.068 wall:     13.562)\n",
      " Inequality constraints.............:      0.146 (sys:      0.001 wall:      0.147)\n",
      " Equality constraint Jacobian.......:      5.528 (sys:      0.045 wall:      5.875)\n",
      " Inequality constraint Jacobian.....:      0.000 (sys:      0.000 wall:      0.000)\n",
      " Lagrangian Hessian.................:      0.000 (sys:      0.000 wall:      0.000)\n",
      "\n",
      "EXIT: Optimal Solution Found.\n"
     ]
    },
    {
     "name": "stderr",
     "output_type": "stream",
     "text": [
      "2021-05-10T15:52:10.542 | INFO | pairwise_fte: Optimisation solver took 70.58s\n",
      "2021-05-10T15:52:10.543 | INFO | pairwise_fte: Generate outputs...\n"
     ]
    },
    {
     "name": "stdout",
     "output_type": "stream",
     "text": [
      "Saved ../data/2017_09_02/bottom/jules/run2/fte_pw/fte.pickle\n",
      "Saved ../data/2017_09_02/bottom/jules/run2/fte_pw/cam*_fte.h5\n",
      "Saved ../data/2017_09_02/bottom/jules/run2/fte_pw/cam*_fte.csv\n",
      "\n",
      "Saving labeled videos...\n"
     ]
    },
    {
     "name": "stderr",
     "output_type": "stream",
     "text": [
      "2021-05-10T15:52:21.282 | INFO | pairwise_fte: Done\n"
     ]
    },
    {
     "name": "stdout",
     "output_type": "stream",
     "text": [
      "Done!\n",
      "\n"
     ]
    }
   ],
   "source": [
    "# Run the optimisation\n",
    "pairwise_fte.run(root_dir, data_path, start_frame, end_frame, dlc_thresh, generate_reprojection_videos=True)"
   ]
  },
  {
   "cell_type": "code",
   "execution_count": null,
   "metadata": {},
   "outputs": [],
   "source": [
    "# Create 2D reprojection videos.\n",
    "video_fpaths = sorted(glob(os.path.join(root_dir, data_path, \"cam[1-9].mp4\"))) # original vids should be in the parent dir\n",
    "create_labeled_videos(video_fpaths, out_dir=os.path.join(root_dir, data_path, \"fte_pw\"), draw_skeleton=True, pcutoff=dlc_thresh)"
   ]
  },
  {
   "cell_type": "code",
   "execution_count": null,
   "metadata": {},
   "outputs": [],
   "source": [
    "# Compare the optimisation with previous results i.e. compare the output pickle file fte.pickle. This is a visual inspection.abs\n",
    "orig_file = os.path.join(root_dir, data_path, \"ekf\", \"ekf.pickle\")\n",
    "pw_file = os.path.join(root_dir, data_path, \"fte_pw\", \"fte.pickle\")\n",
    "pairwise_fte.compare(orig_file, pw_file)"
   ]
  },
  {
   "cell_type": "code",
   "execution_count": null,
   "metadata": {},
   "outputs": [],
   "source": [
    "# DEBUB purposes - if you want to display particular frames to inspect the measurements that are incorporated in the optimisation process.\n",
    "# The camera to use.\n",
    "cam_num = 1\n",
    "# The measurements to display 1 - base prediction, 2 - 3 pairwise measurements. Max is 3.\n",
    "pw_values = (1, 2, 3)\n",
    "# Frame number to display.\n",
    "frame_num = 110\n",
    "pairwise_fte.display_test_image(data_dir, cam_num, pw_values, frame_num)"
   ]
  },
  {
   "cell_type": "code",
   "execution_count": null,
   "metadata": {},
   "outputs": [],
   "source": []
  }
 ],
 "metadata": {
  "kernelspec": {
   "display_name": "Python 3",
   "language": "python",
   "name": "python3"
  },
  "language_info": {
   "codemirror_mode": {
    "name": "ipython",
    "version": 3
   },
   "file_extension": ".py",
   "mimetype": "text/x-python",
   "name": "python",
   "nbconvert_exporter": "python",
   "pygments_lexer": "ipython3",
   "version": "3.9.1"
  },
  "metadata": {
   "interpreter": {
    "hash": "767d51c1340bd893661ea55ea3124f6de3c7a262a8b4abca0554b478b1e2ff90"
   }
  }
 },
 "nbformat": 4,
 "nbformat_minor": 4
}
