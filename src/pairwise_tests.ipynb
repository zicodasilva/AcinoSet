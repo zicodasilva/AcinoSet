{
 "cells": [
  {
   "cell_type": "code",
   "execution_count": 1,
   "metadata": {},
   "outputs": [
    {
     "name": "stdout",
     "output_type": "stream",
     "text": [
      "The autoreload extension is already loaded. To reload it, use:\n",
      "  %reload_ext autoreload\n"
     ]
    }
   ],
   "source": [
    "import os\n",
    "from glob import glob\n",
    "\n",
    "import main_fte\n",
    "from py_utils import data_ops\n",
    "import evaluate_fte\n",
    "from lib import app\n",
    "from py_utils import log\n",
    "\n",
    "%load_ext autoreload\n",
    "%autoreload 2\n",
    "\n",
    "%matplotlib inline\n",
    "\n",
    "# root_dir = os.path.join(\"..\", \"data\")\n",
    "root_dir = os.path.join(\"/Users/zico/OneDrive - University of Cape Town/CheetahReconstructionResults/cheetah_videos\")\n",
    "# If you are running the code remotely on the Linux i9.\n",
    "# root_dir = os.path.join(\"/\",\"data\", \"dlc\", \"to_analyse\", \"cheetah_videos\")\\\n",
    "logger = log.logger(\"main\")"
   ]
  },
  {
   "cell_type": "code",
   "execution_count": null,
   "metadata": {},
   "outputs": [],
   "source": [
    "# Generate the pose functions if this has not been done before (note this should only be performed once). It will be saved in the root_dir.\n",
    "functions = main_fte.create_pose_functions(root_dir)"
   ]
  },
  {
   "cell_type": "code",
   "execution_count": 2,
   "metadata": {},
   "outputs": [],
   "source": [
    "# Configurations for the optimisation. 2017_08_29/top/phantom/run1_1 2017_08_29/top/phantom/flick1_1 2019_02_27/kiara/run\n",
    "data_path = os.path.join(\"2017_08_29\", \"top\", \"jules\", \"run1_1\")\n",
    "start_frame = 20\n",
    "end_frame = 120\n",
    "dlc_thresh = 0.5"
   ]
  },
  {
   "cell_type": "code",
   "execution_count": 10,
   "metadata": {
    "tags": [
     "outputPrepend"
    ]
   },
   "outputs": [
    {
     "name": "stderr",
     "output_type": "stream",
     "text": [
      "2021-06-23T12:10:13.833 | INFO | main_fte: Prepare data - Start\n"
     ]
    },
    {
     "name": "stdout",
     "output_type": "stream",
     "text": [
      "Loaded extrinsics from /Users/zico/OneDrive - University of Cape Town/CheetahReconstructionResults/cheetah_videos/2017_08_29/top/extrinsic_calib/6_cam_scene_sba.json\n",
      "\n"
     ]
    },
    {
     "name": "stderr",
     "output_type": "stream",
     "text": [
      "2021-06-23T12:10:14.715 | INFO | main_fte: Load H5 2D DLC prediction data\n"
     ]
    },
    {
     "name": "stdout",
     "output_type": "stream",
     "text": [
      "Found 2070 pairwise points between camera 0 and 1\n",
      "Found 1729 pairwise points between camera 1 and 2\n",
      "Found 1016 pairwise points between camera 2 and 3\n",
      "Found 785 pairwise points between camera 3 and 4\n"
     ]
    },
    {
     "name": "stderr",
     "output_type": "stream",
     "text": [
      "2021-06-23T12:10:15.161 | INFO | main_fte: Estimate the initial trajectory\n"
     ]
    },
    {
     "name": "stdout",
     "output_type": "stream",
     "text": [
      "Found 767 pairwise points between camera 4 and 5\n",
      "Found 903 pairwise points between camera 5 and 0\n",
      "\n"
     ]
    },
    {
     "name": "stderr",
     "output_type": "stream",
     "text": [
      "2021-06-23T12:10:15.678 | INFO | main_fte: Prepare data - End\n",
      "2021-06-23T12:10:15.682 | INFO | main_fte: Start frame: 19, End frame: 120, Frame rate: 90\n",
      "2021-06-23T12:10:15.685 | INFO | main_fte: Setup optimisation - Start\n",
      "2021-06-23T12:10:16.032 | INFO | main_fte: Measurement initialisation...Done\n",
      "2021-06-23T12:10:19.649 | INFO | main_fte: Variable initialisation...Done\n",
      "2021-06-23T12:10:53.681 | INFO | main_fte: Constaint initialisation...Done\n",
      "2021-06-23T12:10:54.490 | INFO | main_fte: Objective initialisation...Done\n",
      "2021-06-23T12:10:54.493 | INFO | main_fte: Setup optimisation - End\n",
      "2021-06-23T12:10:54.496 | INFO | main_fte: Initialisation took 40.66s\n"
     ]
    },
    {
     "name": "stdout",
     "output_type": "stream",
     "text": [
      "Ipopt 3.13.3: print_level=5\n",
      "max_iter=500\n",
      "max_cpu_time=10000\n",
      "Tol=0.1\n",
      "linear_solver=ma86\n",
      "option_file_name=/var/folders/_2/61j71l3s06zfdc543275_g8w0000gn/T/tmpt_6ft08z_ipopt.opt\n",
      "\n",
      "Using option file \"/var/folders/_2/61j71l3s06zfdc543275_g8w0000gn/T/tmpt_6ft08z_ipopt.opt\".\n",
      "\n",
      "\n",
      "******************************************************************************\n",
      "This program contains Ipopt, a library for large-scale nonlinear optimization.\n",
      " Ipopt is released as open source code under the Eclipse Public License (EPL).\n",
      "         For more information visit https://github.com/coin-or/Ipopt\n",
      "******************************************************************************\n",
      "\n",
      "This is Ipopt version 3.13.3, running with linear solver ma86.\n",
      "\n",
      "Number of nonzeros in equality constraint Jacobian...:   220626\n",
      "Number of nonzeros in inequality constraint Jacobian.:     2525\n",
      "Number of nonzeros in Lagrangian Hessian.............:        0\n",
      "\n",
      "Total number of variables............................:    48076\n",
      "                     variables with only lower bounds:        0\n",
      "                variables with lower and upper bounds:        0\n",
      "                     variables with only upper bounds:        0\n",
      "Total number of equality constraints.................:    45060\n",
      "Total number of inequality constraints...............:     2525\n",
      "        inequality constraints with only lower bounds:        0\n",
      "   inequality constraints with lower and upper bounds:     2525\n",
      "        inequality constraints with only upper bounds:        0\n",
      "\n",
      "iter    objective    inf_pr   inf_du lg(mu)  ||d||  lg(rg) alpha_du alpha_pr  ls\n",
      "   0 -6.2276615e+00 2.51e+03 1.98e-05   0.0 0.00e+00    -  0.00e+00 0.00e+00   0\n",
      "   9  7.4075811e+01 3.11e+03 1.76e+03   0.0 3.02e+03    -  8.89e-01 1.00e+00h  1\n",
      "  19  2.9156111e+01 3.13e+03 2.52e-01  -3.0 3.16e+03    -  8.69e-01 1.00e+00h  1\n",
      "  29  2.6710457e+01 1.97e-01 4.08e-02  -3.2 3.12e+03    -  9.86e-01 1.00e+00h  1\n",
      "  39  2.6852665e+01 3.13e+03 9.40e-02  -3.2 3.16e+03    -  3.11e-01 9.73e-01h  1\n",
      "  49  2.5758519e+01 3.12e+03 1.00e-01  -3.7 3.14e+03    -  3.44e-01 8.31e-01h  1\n",
      "  59  2.5135884e+01 3.12e+03 1.50e-01  -3.9 3.10e+03    -  1.77e-01 1.70e-01h  1\n",
      "  69  2.5213294e+01 3.11e+03 1.16e-01  -4.3 3.13e+03    -  1.71e-01 5.78e-01h  1\n",
      "  79  2.4934761e+01 3.11e+03 3.42e-02  -5.1 3.11e+03    -  1.00e+00 1.00e+00h  1\n",
      "  88  2.5338034e+01 3.12e+03 1.45e-01  -4.4 3.14e+03    -  8.48e-02 6.10e-02h  1\n",
      "iter    objective    inf_pr   inf_du lg(mu)  ||d||  lg(rg) alpha_du alpha_pr  ls\n",
      "  98  2.4849314e+01 3.12e+03 1.51e-02  -5.1 3.76e+00    -  1.00e+00 9.98e-01h  1\n",
      " 108  2.4862866e+01 3.13e+03 3.24e-01  -5.8 3.06e+03    -  4.48e-02 9.58e-03h  1\n",
      " 117  2.4860439e+01 2.36e+03 1.80e+01  -5.8 2.53e+03    -  1.55e-01 6.45e-02h  1\n",
      " 127  2.4983016e+01 3.12e+03 6.44e-01  -4.8 3.08e+03    -  2.19e-02 8.18e-02h  1\n",
      " 137  2.4843666e+01 1.77e+03 1.16e-01  -4.8 3.13e+03    -  9.44e-03 4.33e-01h  1\n",
      " 147  2.4813213e+01 3.12e+03 3.50e-03  -4.6 3.12e+03    -  1.00e+00 1.00e+00h  1\n",
      " 157  2.4808116e+01 1.22e-03 1.37e-02  -5.7 2.86e+03    -  3.33e-01 1.00e+00h  1\n",
      " 167  2.4815422e+01 1.80e+03 1.91e-01  -6.0 1.79e+03    -  1.34e-02 4.74e-02h  1\n",
      " 177  2.4803295e+01 8.74e-05 2.47e-03  -7.1 1.17e+00    -  1.00e+00 1.00e+00h  1\n",
      "\n",
      "Number of Iterations....: 177\n",
      "\n",
      "                                   (scaled)                 (unscaled)\n",
      "Objective...............:   2.4803295352293169e+01    2.4803295352293169e+01\n",
      "Dual infeasibility......:   2.4656119281844802e-03    2.4656119281844802e-03\n",
      "Constraint violation....:   4.6695991938294767e-05    8.7419345277339730e-05\n",
      "Complementarity.........:   1.1294482044946418e-07    1.1294482044946418e-07\n",
      "Overall NLP error.......:   2.4656119281844802e-03    2.4656119281844802e-03\n",
      "\n",
      "\n",
      "Number of objective function evaluations             = 178\n",
      "Number of objective gradient evaluations             = 178\n",
      "Number of equality constraint evaluations            = 178\n",
      "Number of inequality constraint evaluations          = 178\n",
      "Number of equality constraint Jacobian evaluations   = 178\n",
      "Number of inequality constraint Jacobian evaluations = 178\n",
      "Number of Lagrangian Hessian evaluations             = 0\n",
      "Total CPU secs in IPOPT (w/o function evaluations)   =     79.643\n",
      "Total CPU secs in NLP function evaluations           =    118.717\n",
      "\n",
      "\n",
      "Timing Statistics:\n",
      "\n",
      "OverallAlgorithm....................:    198.359 (sys:     17.663 wall:    195.213)\n",
      " PrintProblemStatistics.............:      0.000 (sys:      0.000 wall:      0.000)\n",
      " InitializeIterates.................:      3.272 (sys:      0.231 wall:      3.222)\n",
      " UpdateHessian......................:      0.308 (sys:      0.007 wall:      0.315)\n",
      " OutputIteration....................:      0.002 (sys:      0.000 wall:      0.003)\n",
      " UpdateBarrierParameter.............:     37.754 (sys:      8.615 wall:     36.066)\n",
      " ComputeSearchDirection.............:     38.539 (sys:      8.542 wall:     36.703)\n",
      " ComputeAcceptableTrialPoint........:     83.700 (sys:      0.136 wall:     83.955)\n",
      " AcceptTrialPoint...................:      0.009 (sys:      0.001 wall:      0.010)\n",
      " CheckConvergence...................:     34.773 (sys:      0.130 wall:     34.936)\n",
      "PDSystemSolverTotal.................:     76.179 (sys:     17.106 wall:     72.602)\n",
      " PDSystemSolverSolveOnce............:     75.518 (sys:     17.094 wall:     71.929)\n",
      " ComputeResiduals...................:      0.604 (sys:      0.007 wall:      0.611)\n",
      " StdAugSystemSolverMultiSolve.......:     74.570 (sys:     16.754 wall:     70.339)\n",
      " LinearSystemScaling................:      0.000 (sys:      0.000 wall:      0.000)\n",
      " LinearSystemSymbolicFactorization..:      0.031 (sys:      0.006 wall:      0.042)\n",
      " LinearSystemFactorization..........:     59.510 (sys:     13.741 wall:     54.024)\n",
      " LinearSystemBackSolve..............:     13.860 (sys:      2.135 wall:     14.226)\n",
      " LinearSystemStructureConverter.....:      0.121 (sys:      0.004 wall:      0.124)\n",
      "  LinearSystemStructureConverterInit:      0.015 (sys:      0.002 wall:      0.018)\n",
      "QualityFunctionSearch...............:      0.067 (sys:      0.008 wall:      0.075)\n",
      "TryCorrector........................:      0.000 (sys:      0.000 wall:      0.000)\n",
      "Task1...............................:      0.016 (sys:      0.002 wall:      0.018)\n",
      "Task2...............................:      0.032 (sys:      0.001 wall:      0.033)\n",
      "Task3...............................:      0.003 (sys:      0.001 wall:      0.004)\n",
      "Task4...............................:      0.000 (sys:      0.000 wall:      0.000)\n",
      "Task5...............................:      0.009 (sys:      0.001 wall:      0.010)\n",
      "Function Evaluations................:    118.717 (sys:      0.234 wall:    119.102)\n",
      " Objective function.................:      8.646 (sys:      0.012 wall:      8.667)\n",
      " Objective function gradient........:      4.145 (sys:      0.006 wall:      4.154)\n",
      " Equality constraints...............:     74.953 (sys:      0.102 wall:     75.165)\n",
      " Inequality constraints.............:      0.402 (sys:      0.001 wall:      0.404)\n",
      " Equality constraint Jacobian.......:     30.568 (sys:      0.114 wall:     30.711)\n",
      " Inequality constraint Jacobian.....:      0.002 (sys:      0.000 wall:      0.002)\n",
      " Lagrangian Hessian.................:      0.000 (sys:      0.000 wall:      0.000)\n",
      "\n",
      "EXIT: Optimal Solution Found.\n"
     ]
    },
    {
     "name": "stderr",
     "output_type": "stream",
     "text": [
      "2021-06-23T12:14:54.425 | INFO | main_fte: Optimisation solver took 239.93s\n",
      "2021-06-23T12:14:54.429 | INFO | main_fte: Generate outputs...\n"
     ]
    },
    {
     "name": "stdout",
     "output_type": "stream",
     "text": [
      "Saved /Users/zico/msc/dev/AcinoSet/data/2017_08_29/top/jules/run1_1/fte_pw/fte.pickle\n",
      "Saved /Users/zico/msc/dev/AcinoSet/data/2017_08_29/top/jules/run1_1/fte_pw/cam*_fte.h5\n",
      "Saved /Users/zico/msc/dev/AcinoSet/data/2017_08_29/top/jules/run1_1/fte_pw/cam*_fte.csv\n",
      "\n",
      "Saving labeled videos...\n",
      "Loading cam1 and data.\n",
      "Loading cam2 and data.\n",
      "Loading cam3 and data.Loading cam4 and data.\n",
      "Loading cam5 and data.\n",
      "Loading cam6 and data.\n",
      "\n",
      "\n",
      "Duration of video: 1.59 s, recorded with 90.0 fps!\n",
      "Total frames: 143 with frame dimensions: 1920 x 1080\n",
      "\n",
      "Generating frames and creating video...\n",
      "Duration of video: 1.59 s, recorded with 90.0 fps!\n",
      "\n",
      "Total frames: 143 with frame dimensions: 1920 x 1080\n",
      "Generating frames and creating video...\n",
      "Duration of video: 1.59 s, recorded with 90.0 fps!"
     ]
    },
    {
     "name": "stderr",
     "output_type": "stream",
     "text": [
      "  0%|          | 0/143 [00:00<?, ? f/s]"
     ]
    },
    {
     "name": "stdout",
     "output_type": "stream",
     "text": [
      "\n",
      "Duration of video: 1.59 s, recorded with 90.0 fps!\n"
     ]
    },
    {
     "name": "stderr",
     "output_type": "stream",
     "text": [
      "  0%|          | 0/143 [00:00<?, ? f/s]"
     ]
    },
    {
     "name": "stdout",
     "output_type": "stream",
     "text": [
      "\n",
      "Total frames: 143 with frame dimensions: 1920 x 1080\n",
      "Duration of video: 1.59 s, recorded with 90.0 fps!\n",
      "Duration of video: 1.59 s, recorded with 90.0 fps!Total frames: 143 with frame dimensions: 1920 x 1080\n",
      "\n",
      "\n",
      "\n",
      "Generating frames and creating video...Generating frames and creating video...Generating frames and creating video...\n",
      "Total frames: 143 with frame dimensions: 1920 x 1080\n",
      "Total frames: 143 with frame dimensions: 1920 x 1080\n",
      "\n",
      "Generating frames and creating video...\n",
      "\n"
     ]
    },
    {
     "name": "stderr",
     "output_type": "stream",
     "text": [
      "100%|██████████| 143/143 [00:12<00:00, 11.78 f/s]\n",
      "100%|██████████| 143/143 [00:12<00:00, 11.13 f/s]\n",
      " 91%|█████████ | 130/143 [00:14<00:01, 11.02 f/s]\n",
      "100%|██████████| 143/143 [00:14<00:00,  9.55 f/s]\n",
      " 99%|█████████▉| 142/143 [00:14<00:00, 23.05 f/s]\n",
      "100%|██████████| 143/143 [00:14<00:00,  9.67 f/s]\n",
      "2021-06-23T12:15:24.248 | INFO | main_fte: Done\n"
     ]
    },
    {
     "name": "stdout",
     "output_type": "stream",
     "text": [
      "Done!\n",
      "\n"
     ]
    }
   ],
   "source": [
    "# Run the optimisation\n",
    "main_fte.run(root_dir, data_path, start_frame, end_frame, dlc_thresh, init_ekf=False, single_view=0, generate_reprojection_videos=True, out_dir_prefix=\"/Users/zico/msc/dev/AcinoSet/data\")"
   ]
  },
  {
   "cell_type": "code",
   "execution_count": null,
   "metadata": {},
   "outputs": [],
   "source": [
    "# Compare the optimisation with previous results i.e. compare the output pickle file fte.pickle. This is a visual inspection.abs\n",
    "main_fte.plot_cheetah(root_dir, data_path, out_dir_prefix=\"/Users/zico/msc/dev/AcinoSet/data\")"
   ]
  },
  {
   "cell_type": "code",
   "execution_count": null,
   "metadata": {},
   "outputs": [],
   "source": [
    "# Compare the optimisation with previous results i.e. compare the output pickle file fte.pickle. This is a visual inspection.abs\n",
    "main_fte.compare_cheetahs(\"/Users/zico/msc/dev/AcinoSet/data/2017_08_29/top/jules/run1_1/fte_pw_1/fte.pickle\", root_dir, data_path, out_dir_prefix=\"/Users/zico/msc/dev/AcinoSet/data\")"
   ]
  },
  {
   "cell_type": "code",
   "execution_count": null,
   "metadata": {},
   "outputs": [],
   "source": [
    "eval_dir = os.path.join(\"/Users/zico/msc/dev/AcinoSet/data\", data_path, \"fte_pw\")\n",
    "data = data_ops.load_pickle(os.path.join(eval_dir, \"fte.pickle\"))\n",
    "results_dir = os.path.join(eval_dir, \"evaluation\")\n",
    "os.makedirs(eval_dir, exist_ok=True)\n",
    "max_delta_acc = evaluate_fte.eval_delta_acc(data, results_dir)\n",
    "evaluate_fte.eval_model_error(data, results_dir)\n",
    "evaluate_fte.eval_meas_error(data, results_dir)\n",
    "logger.info(max_delta_acc)"
   ]
  },
  {
   "cell_type": "code",
   "execution_count": null,
   "metadata": {},
   "outputs": [],
   "source": [
    "fig_fpath = os.path.join(os.path.join(os.path.join(\"..\", \"data\"), data_path, \"fte_pw\"), 'fte.svg')\n",
    "pw_file = data_ops.load_pickle(os.path.join(os.path.join(\"..\", \"data\"), data_path, \"fte_pw\", \"fte.pickle\"))\n",
    "app.plot_cheetah_states(pw_file[\"x\"], out_fpath=fig_fpath)"
   ]
  },
  {
   "cell_type": "code",
   "execution_count": null,
   "metadata": {},
   "outputs": [],
   "source": [
    "main_fte.plot_cost_functions()"
   ]
  },
  {
   "cell_type": "code",
   "execution_count": null,
   "metadata": {},
   "outputs": [],
   "source": []
  }
 ],
 "metadata": {
  "interpreter": {
   "hash": "aee8b7b246df8f9039afb4144a1f6fd8d2ca17a180786b69acc140d282b71a49"
  },
  "kernelspec": {
   "display_name": "Python [conda env:pypy]",
   "language": "python",
   "name": "conda-env-pypy-py"
  },
  "language_info": {
   "codemirror_mode": {
    "name": "ipython",
    "version": 3
   },
   "file_extension": ".py",
   "mimetype": "text/x-python",
   "name": "python",
   "nbconvert_exporter": "python",
   "pygments_lexer": "ipython3",
   "version": "3.7.10"
  },
  "metadata": {
   "interpreter": {
    "hash": "aee8b7b246df8f9039afb4144a1f6fd8d2ca17a180786b69acc140d282b71a49"
   }
  }
 },
 "nbformat": 4,
 "nbformat_minor": 4
}
