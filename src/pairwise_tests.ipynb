{
 "cells": [
  {
   "cell_type": "code",
   "execution_count": null,
   "metadata": {},
   "outputs": [],
   "source": [
    "import os\n",
    "import main_fte\n",
    "\n",
    "%load_ext autoreload\n",
    "%autoreload 2\n",
    "\n",
    "%matplotlib inline"
   ]
  },
  {
   "cell_type": "code",
   "execution_count": null,
   "metadata": {},
   "outputs": [],
   "source": [
    "# Configurations for the optimisation.\n",
    "root_dir = os.path.join(\"/Users/zico/OneDrive - University of Cape Town/msc/data/cheetah_videos\")\n",
    "# out_dir = os.path.join(\"/Users/zico/OneDrive - University of Cape Town/msc/data/analysed\")\n",
    "# If you are running the code remotely on the Linux i9.\n",
    "# root_dir = os.path.join(\"/\",\"data\", \"zico\", \"cheetah_videos\")\n",
    "# out_dir = os.path.join(\"/\", \"data\", \"zico\", \"analysed\")\n",
    "# data_path = \"kinetic_dataset/2009_09_08/arabia/trial15\"\n",
    "# data_path = \"kinetic_dataset/2009_09_07/arabia/trial06\"\n",
    "# data_path = \"kinetic_dataset/2009_09_08/shiraz/trial04\"\n",
    "# data_path = \"kinetic_dataset/2009_09_08/shiraz/trial02\"\n",
    "# data_path = \"kinetic_dataset/2009_09_07/shiraz/trial04\"\n",
    "data_path = \"kinetic_dataset/2009_09_11/shiraz/trial01\"\n",
    "# data_path = \"kinetic_dataset/2009_09_11/shiraz/trial02\"\n",
    "# data_path = \"2017_08_29/top/jules/run1_2\"\n",
    "# data_path = \"2019_03_07/menya/run\"\n",
    "start_frame = 70\n",
    "end_frame = 130\n",
    "dlc_thresh = 0.5"
   ]
  },
  {
   "cell_type": "code",
   "execution_count": null,
   "metadata": {},
   "outputs": [],
   "source": [
    "# Run the optimisation.\n",
    "# {\"cam\": 2, \"frame\": 10}, {\"cam\": 3, \"frame\": -51} trail02\n",
    "# [{\"cam\": 2, \"frame\": -5}, {\"cam\": 3, \"frame\": -48}]\n",
    "main_fte.run(root_dir,\n",
    "             data_path,\n",
    "             start_frame,\n",
    "             end_frame,\n",
    "             dlc_thresh,\n",
    "             sync_offset=[{\n",
    "                 \"cam\": 2,\n",
    "                 \"frame\": 10\n",
    "             }, {\n",
    "                 \"cam\": 3,\n",
    "                 \"frame\": -51\n",
    "             }],\n",
    "             cam_est_idx=-1,\n",
    "             hand_labeled=False,\n",
    "             generate_reprojection_videos=True)\n"
   ]
  },
  {
   "cell_type": "code",
   "execution_count": null,
   "metadata": {},
   "outputs": [],
   "source": [
    "# Plot the 3D trajectory for visual inspection.\n",
    "main_fte.plot_cheetah(root_dir, data_path, fte_type=\"dynamic_auto\")"
   ]
  },
  {
   "cell_type": "code",
   "execution_count": null,
   "metadata": {},
   "outputs": [],
   "source": [
    "# Compare the 3D trajectory for two different reconstruct`ions.\n",
    "main_fte.compare_cheetahs(root_dir, data_path, fte_type1=\"dynamic_auto\", fte_type2=\"fte_kinematic\")"
   ]
  },
  {
   "cell_type": "code",
   "execution_count": null,
   "metadata": {},
   "outputs": [],
   "source": [
    "# Generate metrics.\n",
    "main_fte.metrics(root_dir, data_path, start_frame, end_frame, dlc_thresh)"
   ]
  },
  {
   "cell_type": "code",
   "execution_count": null,
   "metadata": {},
   "outputs": [],
   "source": [
    "from glob import glob\n",
    "from lib.app import create_labeled_videos\n",
    "video_paths = sorted(glob(os.path.join(root_dir, data_path, 'cam[1-9].mp4')))  # original vids should be in the parent dir\n",
    "create_labeled_videos(video_paths,\n",
    "                      out_dir=os.path.join(root_dir, data_path, \"fte_kinematic\"),\n",
    "                      draw_skeleton=True,\n",
    "                      pcutoff=dlc_thresh)\n"
   ]
  },
  {
   "cell_type": "code",
   "execution_count": null,
   "metadata": {},
   "outputs": [],
   "source": []
  }
 ],
 "metadata": {
  "kernelspec": {
   "display_name": "Python 3.9.13 64-bit",
   "language": "python",
   "name": "python3"
  },
  "language_info": {
   "codemirror_mode": {
    "name": "ipython",
    "version": 3
   },
   "file_extension": ".py",
   "mimetype": "text/x-python",
   "name": "python",
   "nbconvert_exporter": "python",
   "pygments_lexer": "ipython3",
   "version": "3.9.13"
  },
  "metadata": {
   "interpreter": {
    "hash": "aee8b7b246df8f9039afb4144a1f6fd8d2ca17a180786b69acc140d282b71a49"
   }
  },
  "vscode": {
   "interpreter": {
    "hash": "397704579725e15f5c7cb49fe5f0341eb7531c82d19f2c29d197e8b64ab5776b"
   }
  }
 },
 "nbformat": 4,
 "nbformat_minor": 4
}
