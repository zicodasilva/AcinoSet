{
 "cells": [
  {
   "cell_type": "code",
   "execution_count": 1,
   "metadata": {},
   "outputs": [
    {
     "name": "stdout",
     "output_type": "stream",
     "text": [
      "The autoreload extension is already loaded. To reload it, use:\n",
      "  %reload_ext autoreload\n"
     ]
    }
   ],
   "source": [
    "import os\n",
    "from glob import glob\n",
    "\n",
    "import main_fte\n",
    "from py_utils import data_ops\n",
    "import evaluate_fte\n",
    "from lib import app\n",
    "from py_utils import log\n",
    "\n",
    "%load_ext autoreload\n",
    "%autoreload 2\n",
    "\n",
    "%matplotlib inline\n",
    "\n",
    "# root_dir = os.path.join(\"..\", \"data\")\n",
    "root_dir = os.path.join(\"/Users/zico/OneDrive - University of Cape Town/CheetahReconstructionResults/cheetah_videos\")\n",
    "# If you are running the code remotely on the Linux i9.\n",
    "# root_dir = os.path.join(\"/\",\"data\", \"dlc\", \"to_analyse\", \"cheetah_videos\")\\\n",
    "logger = log.logger(\"main\")"
   ]
  },
  {
   "cell_type": "code",
   "execution_count": null,
   "metadata": {},
   "outputs": [],
   "source": [
    "# Generate the pose functions if this has not been done before (note this should only be performed once). It will be saved in the root_dir.\n",
    "functions = main_fte.create_pose_functions(root_dir)"
   ]
  },
  {
   "cell_type": "code",
   "execution_count": 2,
   "metadata": {},
   "outputs": [],
   "source": [
    "# Configurations for the optimisation. 2017_08_29/top/phantom/run1_1 2017_08_29/top/phantom/flick1_1 2019_02_27/kiara/run\n",
    "# 2017_08_29/top/jules/run1_1\n",
    "data_path = os.path.join(\"2017_08_29\", \"top\", \"jules\", \"run1_1\")\n",
    "# /Users/zico/OneDrive - University of Cape Town/CheetahReconstructionResults/paws-pw-included/2019_03_09/jules/flick2\n",
    "start_frame = 10\n",
    "end_frame = 110\n",
    "dlc_thresh = 0.5"
   ]
  },
  {
   "cell_type": "code",
   "execution_count": 17,
   "metadata": {
    "tags": [
     "outputPrepend"
    ]
   },
   "outputs": [
    {
     "name": "stderr",
     "output_type": "stream",
     "text": [
      "2021-09-20T08:04:39.418 | INFO | main_fte: Prepare data - Start\n"
     ]
    },
    {
     "name": "stdout",
     "output_type": "stream",
     "text": [
      "Loaded extrinsics from /Users/zico/OneDrive - University of Cape Town/CheetahReconstructionResults/cheetah_videos/2017_08_29/top/extrinsic_calib/6_cam_scene_sba.json\n",
      "\n"
     ]
    },
    {
     "name": "stderr",
     "output_type": "stream",
     "text": [
      "2021-09-20T08:04:40.126 | INFO | main_fte: Load H5 2D DLC prediction data\n"
     ]
    },
    {
     "name": "stdout",
     "output_type": "stream",
     "text": [
      "Found 2070 pairwise points between camera 0 and 1\n",
      "Found 1729 pairwise points between camera 1 and 2\n",
      "Found 1016 pairwise points between camera 2 and 3\n",
      "Found 785 pairwise points between camera 3 and 4\n",
      "Found 767 pairwise points between camera 4 and 5\n",
      "Found 903 pairwise points between camera 5 and 0\n",
      "\n"
     ]
    },
    {
     "name": "stderr",
     "output_type": "stream",
     "text": [
      "2021-09-20T08:04:40.602 | INFO | main_fte: Estimate the initial trajectory\n",
      "2021-09-20T08:04:41.061 | INFO | main_fte: Train motion prediction model\n",
      "2021-09-20T08:04:41.145 | INFO | main_fte: X_train: (3269, 18), y_train: (3269, 6)\n",
      "2021-09-20T08:04:41.147 | INFO | main_fte: X_test: (578, 18), y_test: (578, 6)\n",
      "2021-09-20T08:04:41.162 | INFO | main_fte: Prepare data - End\n",
      "2021-09-20T08:04:41.167 | INFO | main_fte: Start frame: 9, End frame: 110, Frame rate: 90\n",
      "2021-09-20T08:04:41.171 | INFO | main_fte: Setup optimisation - Start\n",
      "2021-09-20T08:04:41.371 | INFO | main_fte: Measurement initialisation...Done\n",
      "2021-09-20T08:04:44.964 | INFO | main_fte: Variable initialisation...Done\n",
      "2021-09-20T08:05:15.037 | INFO | main_fte: Constaint initialisation...Done\n",
      "2021-09-20T08:05:15.879 | INFO | main_fte: Objective initialisation...Done\n",
      "2021-09-20T08:05:15.883 | INFO | main_fte: Setup optimisation - End\n",
      "2021-09-20T08:05:15.886 | INFO | main_fte: Initialisation took 36.46s\n"
     ]
    },
    {
     "name": "stdout",
     "output_type": "stream",
     "text": [
      "Ipopt 3.13.3: print_level=5\n",
      "max_iter=400\n",
      "max_cpu_time=10000\n",
      "Tol=0.1\n",
      "linear_solver=ma86\n",
      "option_file_name=/var/folders/_2/61j71l3s06zfdc543275_g8w0000gn/T/tmpnyx497bq_ipopt.opt\n",
      "\n",
      "Using option file \"/var/folders/_2/61j71l3s06zfdc543275_g8w0000gn/T/tmpnyx497bq_ipopt.opt\".\n",
      "\n",
      "\n",
      "******************************************************************************\n",
      "This program contains Ipopt, a library for large-scale nonlinear optimization.\n",
      " Ipopt is released as open source code under the Eclipse Public License (EPL).\n",
      "         For more information visit https://github.com/coin-or/Ipopt\n",
      "******************************************************************************\n",
      "\n",
      "This is Ipopt version 3.13.3, running with linear solver ma86.\n",
      "\n",
      "Number of nonzeros in equality constraint Jacobian...:   126018\n",
      "Number of nonzeros in inequality constraint Jacobian.:     2525\n",
      "Number of nonzeros in Lagrangian Hessian.............:        0\n",
      "\n",
      "Total number of variables............................:    25030\n",
      "                     variables with only lower bounds:        0\n",
      "                variables with lower and upper bounds:        0\n",
      "                     variables with only upper bounds:        0\n",
      "Total number of equality constraints.................:    21996\n",
      "Total number of inequality constraints...............:     2525\n",
      "        inequality constraints with only lower bounds:        0\n",
      "   inequality constraints with lower and upper bounds:     2525\n",
      "        inequality constraints with only upper bounds:        0\n",
      "\n",
      "iter    objective    inf_pr   inf_du lg(mu)  ||d||  lg(rg) alpha_du alpha_pr  ls\n",
      "   0 -1.0379436e+00 1.29e+03 3.76e-05   0.0 0.00e+00    -  0.00e+00 0.00e+00   0\n",
      "  13  7.7656421e+00 5.13e-01 6.83e-02  -2.8 3.91e+01    -  7.83e-01 1.00e+00h  1\n",
      "  26  5.6837585e+00 3.40e-02 2.32e-02  -3.5 2.07e+01    -  8.62e-01 1.00e+00h  1\n",
      "  39  5.2512202e+00 7.44e-02 4.30e-02  -3.6 3.21e+01    -  2.75e-01 8.38e-01h  1\n",
      "  51  5.0379935e+00 1.33e-01 5.08e-02  -4.3 1.36e+01    -  8.15e-01 9.99e-01h  1\n",
      "  63  4.9087254e+00 2.85e-02 1.95e-02  -4.5 1.42e+01    -  5.82e-01 1.00e+00h  1\n",
      "  76  5.0924390e+00 7.49e-01 1.82e-01  -4.6 8.66e+01    -  3.02e-02 3.95e-01h  1\n",
      "  89  4.8930119e+00 5.37e-02 1.26e+00  -4.5 1.73e+01    -  4.88e-02 1.00e+00h  1\n",
      " 102  4.7696231e+00 6.25e-03 6.96e-03  -4.7 1.11e+01    -  8.60e-01 9.72e-01h  1\n",
      " 115  4.7441972e+00 6.36e-02 2.35e-02  -5.1 6.67e+01    -  7.21e-01 5.08e-01h  1\n",
      "iter    objective    inf_pr   inf_du lg(mu)  ||d||  lg(rg) alpha_du alpha_pr  ls\n",
      "\n",
      "Number of Iterations....: 123\n",
      "\n",
      "                                   (scaled)                 (unscaled)\n",
      "Objective...............:   4.7149007826616067e+00    4.7149007826616067e+00\n",
      "Dual infeasibility......:   6.1839806266997255e-04    6.1839806266997255e-04\n",
      "Constraint violation....:   5.7966362369210600e-05    5.7966362369210600e-05\n",
      "Complementarity.........:   1.0572662992097150e-05    1.0572662992097150e-05\n",
      "Overall NLP error.......:   6.1839806266997255e-04    6.1839806266997255e-04\n",
      "\n",
      "\n",
      "Number of objective function evaluations             = 124\n",
      "Number of objective gradient evaluations             = 124\n",
      "Number of equality constraint evaluations            = 124\n",
      "Number of inequality constraint evaluations          = 124\n",
      "Number of equality constraint Jacobian evaluations   = 124\n",
      "Number of inequality constraint Jacobian evaluations = 124\n",
      "Number of Lagrangian Hessian evaluations             = 0\n",
      "Total CPU secs in IPOPT (w/o function evaluations)   =     48.008\n",
      "Total CPU secs in NLP function evaluations           =     62.086\n",
      "\n",
      "\n",
      "Timing Statistics:\n",
      "\n",
      "OverallAlgorithm....................:    110.094 (sys:      9.563 wall:    104.167)\n",
      " PrintProblemStatistics.............:      0.000 (sys:      0.000 wall:      0.000)\n",
      " InitializeIterates.................:      2.843 (sys:      0.140 wall:      2.649)\n",
      " UpdateHessian......................:      0.135 (sys:      0.002 wall:      0.139)\n",
      " OutputIteration....................:      0.001 (sys:      0.000 wall:      0.002)\n",
      " UpdateBarrierParameter.............:     25.917 (sys:      5.493 wall:     22.306)\n",
      " ComputeSearchDirection.............:     19.394 (sys:      3.678 wall:     16.721)\n",
      " ComputeAcceptableTrialPoint........:     43.573 (sys:      0.142 wall:     43.928)\n",
      " AcceptTrialPoint...................:      0.007 (sys:      0.000 wall:      0.007)\n",
      " CheckConvergence...................:     18.223 (sys:      0.107 wall:     18.413)\n",
      "PDSystemSolverTotal.................:     45.231 (sys:      9.151 wall:     38.925)\n",
      " PDSystemSolverSolveOnce............:     44.965 (sys:      9.146 wall:     38.653)\n",
      " ComputeResiduals...................:      0.242 (sys:      0.003 wall:      0.245)\n",
      " StdAugSystemSolverMultiSolve.......:     45.020 (sys:      9.021 wall:     38.233)\n",
      " LinearSystemScaling................:      0.000 (sys:      0.000 wall:      0.000)\n",
      " LinearSystemSymbolicFactorization..:      0.019 (sys:      0.003 wall:      0.023)\n",
      " LinearSystemFactorization..........:     38.219 (sys:      7.692 wall:     31.236)\n",
      " LinearSystemBackSolve..............:      6.326 (sys:      1.005 wall:      6.191)\n",
      " LinearSystemStructureConverter.....:      0.051 (sys:      0.002 wall:      0.054)\n",
      "  LinearSystemStructureConverterInit:      0.009 (sys:      0.002 wall:      0.011)\n",
      "QualityFunctionSearch...............:      0.053 (sys:      0.007 wall:      0.060)\n",
      "TryCorrector........................:      0.000 (sys:      0.000 wall:      0.000)\n",
      "Task1...............................:      0.014 (sys:      0.002 wall:      0.015)\n",
      "Task2...............................:      0.026 (sys:      0.001 wall:      0.027)\n",
      "Task3...............................:      0.002 (sys:      0.001 wall:      0.003)\n",
      "Task4...............................:      0.000 (sys:      0.000 wall:      0.000)\n",
      "Task5...............................:      0.006 (sys:      0.001 wall:      0.007)\n",
      "Function Evaluations................:     62.086 (sys:      0.233 wall:     62.617)\n",
      " Objective function.................:      1.415 (sys:      0.005 wall:      1.425)\n",
      " Objective function gradient........:      0.712 (sys:      0.003 wall:      0.719)\n",
      " Equality constraints...............:     42.100 (sys:      0.127 wall:     42.435)\n",
      " Inequality constraints.............:      0.304 (sys:      0.001 wall:      0.306)\n",
      " Equality constraint Jacobian.......:     17.554 (sys:      0.096 wall:     17.730)\n",
      " Inequality constraint Jacobian.....:      0.001 (sys:      0.000 wall:      0.001)\n",
      " Lagrangian Hessian.................:      0.000 (sys:      0.000 wall:      0.000)\n",
      "\n",
      "EXIT: Optimal Solution Found.\n"
     ]
    },
    {
     "name": "stderr",
     "output_type": "stream",
     "text": [
      "2021-09-20T08:07:23.509 | INFO | main_fte: Optimisation solver took 127.62s\n",
      "2021-09-20T08:07:23.524 | INFO | main_fte: Generate outputs...\n"
     ]
    },
    {
     "name": "stdout",
     "output_type": "stream",
     "text": [
      "Saved /Users/zico/msc/dev/AcinoSet/data/2017_08_29/top/jules/run1_1/fte_pw_2/fte.pickle\n",
      "Saved /Users/zico/msc/dev/AcinoSet/data/2017_08_29/top/jules/run1_1/fte_pw_2/cam*_fte.h5\n",
      "Saved /Users/zico/msc/dev/AcinoSet/data/2017_08_29/top/jules/run1_1/fte_pw_2/cam*_fte.csv\n",
      "\n",
      "Saving labeled videos...\n",
      "Loading cam1 and data.\n",
      "\n",
      "Loading cam2 and data.Loading cam3 and data.Loading cam4 and data.\n",
      "\n",
      "Loading cam5 and data.\n",
      "Loading cam6 and data.\n",
      "\n",
      "Duration of video: 1.59 s, recorded with 90.0 fps!\n",
      "Total frames: 143 with frame dimensions: 1920 x 1080\n",
      "Duration of video: 1.59 s, recorded with 90.0 fps!\n",
      "Generating frames and creating video...\n",
      "\n",
      "Total frames: 143 with frame dimensions: 1920 x 1080\n",
      "Generating frames and creating video...\n",
      "\n",
      "Duration of video: 1.59 s, recorded with 90.0 fps!\n",
      "Duration of video: 1.59 s, recorded with 90.0 fps!\n",
      "\n",
      "Total frames: 143 with frame dimensions: 1920 x 1080Total frames: 143 with frame dimensions: 1920 x 1080"
     ]
    },
    {
     "name": "stderr",
     "output_type": "stream",
     "text": [
      "  0%|          | 0/143 [00:00<?, ? f/s]"
     ]
    },
    {
     "name": "stdout",
     "output_type": "stream",
     "text": [
      "\n",
      "\n",
      "Generating frames and creating video...Generating frames and creating video...\n",
      "\n"
     ]
    },
    {
     "name": "stderr",
     "output_type": "stream",
     "text": [
      "  0%|          | 0/143 [00:00<?, ? f/s]"
     ]
    },
    {
     "name": "stdout",
     "output_type": "stream",
     "text": [
      "\n",
      "Duration of video: 1.59 s, recorded with 90.0 fps!\n",
      "Duration of video: 1.59 s, recorded with 90.0 fps!"
     ]
    },
    {
     "name": "stderr",
     "output_type": "stream",
     "text": [
      "  0%|          | 0/143 [00:00<?, ? f/s]"
     ]
    },
    {
     "name": "stdout",
     "output_type": "stream",
     "text": [
      "\n",
      "\n"
     ]
    },
    {
     "name": "stderr",
     "output_type": "stream",
     "text": [
      "  0%|          | 0/143 [00:00<?, ? f/s]"
     ]
    },
    {
     "name": "stdout",
     "output_type": "stream",
     "text": [
      "Total frames: 143 with frame dimensions: 1920 x 1080Total frames: 143 with frame dimensions: 1920 x 1080\n",
      "\n",
      "Generating frames and creating video...Generating frames and creating video...\n",
      "\n"
     ]
    },
    {
     "name": "stderr",
     "output_type": "stream",
     "text": [
      "100%|██████████| 143/143 [12:35<00:00,  5.28s/ f] \n",
      " 90%|████████▉ | 128/143 [12:45<00:13,  1.09 f/s]\n",
      " 86%|████████▌ | 123/143 [12:52<00:32,  1.63s/ f]\n",
      "100%|██████████| 143/143 [12:57<00:00,  5.44s/ f]\n",
      "100%|██████████| 143/143 [12:57<00:00,  5.44s/ f]\n",
      "100%|██████████| 143/143 [12:58<00:00,  5.44s/ f]\n",
      "2021-09-20T08:20:31.835 | INFO | main_fte: Done\n"
     ]
    },
    {
     "name": "stdout",
     "output_type": "stream",
     "text": [
      "Done!\n",
      "\n"
     ]
    }
   ],
   "source": [
    "# Run the optimisation\n",
    "main_fte.run(root_dir, data_path, start_frame, end_frame, dlc_thresh, init_ekf=False, single_view=2, pairwise_included=0, generate_reprojection_videos=True, out_dir_prefix=\"/Users/zico/msc/dev/AcinoSet/data\")"
   ]
  },
  {
   "cell_type": "code",
   "execution_count": null,
   "metadata": {},
   "outputs": [],
   "source": [
    "dummy_scene = \"/Users/zico/OneDrive - University of Cape Town/CheetahReconstructionResults/cheetah_videos/2017_08_29/top/extrinsic_calib/6_cam_scene_sba.json\"\n",
    "main_fte.plot_trajectory(\"/Users/zico/msc/dev/monocular_estimation/data/synthesized.pickle\", dummy_scene)"
   ]
  },
  {
   "cell_type": "code",
   "execution_count": null,
   "metadata": {},
   "outputs": [],
   "source": [
    "# Compare the optimisation with previous results i.e. compare the output pickle file fte.pickle. This is a visual inspection.abs\n",
    "main_fte.plot_cheetah(root_dir, data_path, out_dir_prefix=\"/Users/zico/msc/dev/AcinoSet/data\")"
   ]
  },
  {
   "cell_type": "code",
   "execution_count": null,
   "metadata": {},
   "outputs": [],
   "source": [
    "# Compare the optimisation with previous results i.e. compare the output pickle file fte.pickle. This is a visual inspection.abs\n",
    "main_fte.compare_cheetahs(\"/Users/zico/msc/dev/monocular_estimation/lily_discrete_trajectory.pickle\", root_dir, data_path, out_dir_prefix=\"/Users/zico/msc/dev/AcinoSet/data\")"
   ]
  },
  {
   "cell_type": "code",
   "execution_count": null,
   "metadata": {},
   "outputs": [],
   "source": [
    "eval_dir = os.path.join(\"/Users/zico/msc/dev/AcinoSet/data\", data_path, \"fte_pw\")\n",
    "data = data_ops.load_pickle(os.path.join(eval_dir, \"fte.pickle\"))\n",
    "results_dir = os.path.join(eval_dir, \"evaluation\")\n",
    "os.makedirs(eval_dir, exist_ok=True)\n",
    "max_delta_acc = evaluate_fte.eval_delta_acc(data, results_dir)\n",
    "evaluate_fte.eval_model_error(data, results_dir)\n",
    "evaluate_fte.eval_meas_error(data, results_dir)\n",
    "logger.info(max_delta_acc)"
   ]
  },
  {
   "cell_type": "code",
   "execution_count": null,
   "metadata": {},
   "outputs": [],
   "source": [
    "fig_fpath = os.path.join(os.path.join(os.path.join(\"..\", \"data\"), data_path, \"fte_pw\"), 'fte.svg')\n",
    "pw_file = data_ops.load_pickle(os.path.join(os.path.join(\"..\", \"data\"), data_path, \"fte_pw\", \"fte.pickle\"))\n",
    "app.plot_cheetah_states(pw_file[\"x\"], out_fpath=fig_fpath)"
   ]
  },
  {
   "cell_type": "code",
   "execution_count": null,
   "metadata": {},
   "outputs": [],
   "source": [
    "main_fte.plot_cost_functions()"
   ]
  },
  {
   "cell_type": "code",
   "execution_count": null,
   "metadata": {},
   "outputs": [],
   "source": []
  }
 ],
 "metadata": {
  "interpreter": {
   "hash": "aee8b7b246df8f9039afb4144a1f6fd8d2ca17a180786b69acc140d282b71a49"
  },
  "kernelspec": {
   "display_name": "Python [conda env:pypy] *",
   "language": "python",
   "name": "conda-env-pypy-py"
  },
  "language_info": {
   "codemirror_mode": {
    "name": "ipython",
    "version": 3
   },
   "file_extension": ".py",
   "mimetype": "text/x-python",
   "name": "python",
   "nbconvert_exporter": "python",
   "pygments_lexer": "ipython3",
   "version": "3.7.10"
  },
  "metadata": {
   "interpreter": {
    "hash": "aee8b7b246df8f9039afb4144a1f6fd8d2ca17a180786b69acc140d282b71a49"
   }
  }
 },
 "nbformat": 4,
 "nbformat_minor": 4
}
