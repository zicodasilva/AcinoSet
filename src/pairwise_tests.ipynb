{
 "cells": [
  {
   "cell_type": "code",
   "execution_count": 2,
   "metadata": {},
   "outputs": [
    {
     "name": "stdout",
     "output_type": "stream",
     "text": [
      "The autoreload extension is already loaded. To reload it, use:\n",
      "  %reload_ext autoreload\n"
     ]
    }
   ],
   "source": [
    "import os\n",
    "from glob import glob\n",
    "\n",
    "import main_fte\n",
    "from py_utils import data_ops\n",
    "import evaluate_fte\n",
    "from lib import app\n",
    "from py_utils import log\n",
    "\n",
    "%load_ext autoreload\n",
    "%autoreload 2\n",
    "\n",
    "%matplotlib inline\n",
    "\n",
    "# root_dir = os.path.join(\"..\", \"data\")\n",
    "root_dir = os.path.join(\"/Users/zico/OneDrive - University of Cape Town/CheetahReconstructionResults/cheetah_videos\")\n",
    "# If you are running the code remotely on the Linux i9.\n",
    "# root_dir = os.path.join(\"/\",\"data\", \"dlc\", \"to_analyse\", \"cheetah_videos\")\\\n",
    "logger = log.logger(\"main\")"
   ]
  },
  {
   "cell_type": "code",
   "execution_count": 6,
   "metadata": {},
   "outputs": [],
   "source": [
    "# Generate the pose functions if this has not been done before (note this should only be performed once). It will be saved in the root_dir.\n",
    "functions = main_fte.create_pose_functions(root_dir)"
   ]
  },
  {
   "cell_type": "code",
   "execution_count": 7,
   "metadata": {},
   "outputs": [],
   "source": [
    "# Configurations for the optimisation. 2017_08_29/top/phantom/run1_1 2017_08_29/top/phantom/flick1_1 2019_02_27/kiara/run\n",
    "data_path = os.path.join(\"2017_08_29\", \"top\", \"jules\", \"run1_1\")\n",
    "start_frame = 20\n",
    "end_frame = 120\n",
    "dlc_thresh = 0.5"
   ]
  },
  {
   "cell_type": "code",
   "execution_count": 9,
   "metadata": {
    "tags": [
     "outputPrepend"
    ]
   },
   "outputs": [
    {
     "name": "stderr",
     "output_type": "stream",
     "text": [
      "2021-06-21T22:42:23.507 | INFO | main_fte: Prepare data - Start\n",
      "2021-06-21T22:42:24.505 | INFO | main_fte: Load H5 2D DLC prediction data\n",
      "2021-06-21T22:42:24.941 | INFO | main_fte: Estimate the initial trajectory\n",
      "2021-06-21T22:42:25.447 | INFO | main_fte: Prepare data - End\n",
      "2021-06-21T22:42:25.451 | INFO | main_fte: Start frame: 19, End frame: 120, Frame rate: 90\n",
      "2021-06-21T22:42:25.454 | INFO | main_fte: Setup optimisation - Start\n",
      "2021-06-21T22:42:26.463 | INFO | main_fte: Measurement initialisation...Done\n",
      "2021-06-21T22:42:33.910 | INFO | main_fte: Variable initialisation...Done\n",
      "2021-06-21T22:42:51.673 | INFO | main_fte: Constaint initialisation...Done\n",
      "2021-06-21T22:42:54.432 | INFO | main_fte: Objective initialisation...Done\n",
      "2021-06-21T22:42:54.435 | INFO | main_fte: Setup optimisation - End\n",
      "2021-06-21T22:42:54.438 | INFO | main_fte: Initialisation took 30.92s\n",
      "2021-06-21T22:45:03.272 | INFO | main_fte: Optimisation solver took 128.83s\n",
      "2021-06-21T22:45:03.274 | INFO | main_fte: Generate outputs...\n",
      "100%|██████████| 143/143 [00:12<00:00, 11.72 f/s]\n",
      " 99%|█████████▊| 141/143 [00:12<00:00, 15.90 f/s]\n",
      "100%|██████████| 143/143 [00:12<00:00, 11.72 f/s]\n",
      "100%|██████████| 143/143 [00:12<00:00, 11.61 f/s]\n",
      "\n",
      "100%|██████████| 143/143 [00:12<00:00, 11.49 f/s]\n",
      "2021-06-21T22:45:21.737 | INFO | main_fte: Done\n"
     ]
    }
   ],
   "source": [
    "# Run the optimisation\n",
    "main_fte.run(root_dir, data_path, start_frame, end_frame, dlc_thresh, init_ekf=False, single_view=0, generate_reprojection_videos=True, out_dir_prefix=\"/Users/zico/msc/dev/AcinoSet/data\")"
   ]
  },
  {
   "cell_type": "code",
   "execution_count": null,
   "metadata": {},
   "outputs": [],
   "source": [
    "# Compare the optimisation with previous results i.e. compare the output pickle file fte.pickle. This is a visual inspection.abs\n",
    "main_fte.plot_cheetah(root_dir, data_path, out_dir_prefix=\"/Users/zico/msc/dev/AcinoSet/data\")"
   ]
  },
  {
   "cell_type": "code",
   "execution_count": null,
   "metadata": {},
   "outputs": [],
   "source": [
    "# Compare the optimisation with previous results i.e. compare the output pickle file fte.pickle. This is a visual inspection.abs\n",
    "main_fte.compare_cheetahs(\"/Users/zico/msc/dev/AcinoSet/data/2019_03_09/lily/run/fte_pw_1/fte.pickle\", root_dir, data_path, out_dir_prefix=\"/Users/zico/msc/dev/AcinoSet/data\")"
   ]
  },
  {
   "cell_type": "code",
   "execution_count": null,
   "metadata": {},
   "outputs": [],
   "source": [
    "eval_dir = os.path.join(\"/Users/zico/msc/dev/AcinoSet/data\", data_path, \"fte_pw\")\n",
    "data = data_ops.load_pickle(os.path.join(eval_dir, \"fte.pickle\"))\n",
    "results_dir = os.path.join(eval_dir, \"evaluation\")\n",
    "os.makedirs(eval_dir, exist_ok=True)\n",
    "max_delta_acc = evaluate_fte.eval_delta_acc(data, results_dir)\n",
    "evaluate_fte.eval_model_error(data, results_dir)\n",
    "evaluate_fte.eval_meas_error(data, results_dir)\n",
    "logger.info(max_delta_acc)"
   ]
  },
  {
   "cell_type": "code",
   "execution_count": null,
   "metadata": {},
   "outputs": [],
   "source": [
    "fig_fpath = os.path.join(os.path.join(os.path.join(\"..\", \"data\"), data_path, \"fte_pw\"), 'fte.svg')\n",
    "pw_file = data_ops.load_pickle(os.path.join(os.path.join(\"..\", \"data\"), data_path, \"fte_pw\", \"fte.pickle\"))\n",
    "app.plot_cheetah_states(pw_file[\"x\"], out_fpath=fig_fpath)"
   ]
  },
  {
   "cell_type": "code",
   "execution_count": null,
   "metadata": {},
   "outputs": [],
   "source": [
    "main_fte.plot_cost_functions()"
   ]
  },
  {
   "cell_type": "code",
   "execution_count": null,
   "metadata": {},
   "outputs": [],
   "source": []
  }
 ],
 "metadata": {
  "kernelspec": {
   "display_name": "Python [conda env:pypy]",
   "language": "python",
   "name": "conda-env-pypy-py"
  },
  "language_info": {
   "codemirror_mode": {
    "name": "ipython",
    "version": 3
   },
   "file_extension": ".py",
   "mimetype": "text/x-python",
   "name": "python",
   "nbconvert_exporter": "python",
   "pygments_lexer": "ipython3",
   "version": "3.7.10"
  },
  "metadata": {
   "interpreter": {
    "hash": "aee8b7b246df8f9039afb4144a1f6fd8d2ca17a180786b69acc140d282b71a49"
   }
  }
 },
 "nbformat": 4,
 "nbformat_minor": 4
}
