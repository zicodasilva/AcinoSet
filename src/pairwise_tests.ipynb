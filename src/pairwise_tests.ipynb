{
 "cells": [
  {
   "cell_type": "code",
   "execution_count": 1,
   "metadata": {},
   "outputs": [
    {
     "name": "stdout",
     "output_type": "stream",
     "text": [
      "The autoreload extension is already loaded. To reload it, use:\n",
      "  %reload_ext autoreload\n"
     ]
    }
   ],
   "source": [
    "import os\n",
    "from glob import glob\n",
    "\n",
    "import main_fte\n",
    "from py_utils import data_ops\n",
    "import evaluate_fte\n",
    "from lib import app\n",
    "from py_utils import log\n",
    "\n",
    "%load_ext autoreload\n",
    "%autoreload 2\n",
    "\n",
    "%matplotlib inline\n",
    "\n",
    "# root_dir = os.path.join(\"..\", \"data\")\n",
    "root_dir = os.path.join(\"/Users/zico/OneDrive - University of Cape Town/CheetahReconstructionResults/cheetah_videos\")\n",
    "# If you are running the code remotely on the Linux i9.\n",
    "# root_dir = os.path.join(\"/\",\"data\", \"dlc\", \"to_analyse\", \"cheetah_videos\")\\\n",
    "logger = log.logger(\"main\")"
   ]
  },
  {
   "cell_type": "code",
   "execution_count": null,
   "metadata": {},
   "outputs": [],
   "source": [
    "# Generate the pose functions if this has not been done before (note this should only be performed once). It will be saved in the root_dir.\n",
    "functions = main_fte.create_pose_functions(root_dir)"
   ]
  },
  {
   "cell_type": "code",
   "execution_count": 2,
   "metadata": {},
   "outputs": [],
   "source": [
    "# Configurations for the optimisation. 2017_08_29/top/phantom/run1_1 2017_08_29/top/phantom/flick1_1 2019_02_27/kiara/run\n",
    "# 2017_08_29/top/jules/run1_1\n",
    "data_path = os.path.join(\"2017_08_29\", \"top\", \"jules\", \"run1_1\")\n",
    "# 2019_03_09LilyFlick\n",
    "# 2019_03_09JulesFlick2\n",
    "# 2017_12_16PhantomFlick2_1\n",
    "# 2017_12_21/bottom/jules/flick2_1\n",
    "start_frame = 10\n",
    "end_frame = 110\n",
    "dlc_thresh = 0.5\n",
    "filtered_markers = ()\n",
    "# filtered_markers = (\"r_shoulder\", \"r_front_knee\", \"r_front_ankle\", \"r_front_paw\")"
   ]
  },
  {
   "cell_type": "code",
   "execution_count": null,
   "metadata": {
    "tags": [
     "outputPrepend"
    ]
   },
   "outputs": [
    {
     "name": "stderr",
     "output_type": "stream",
     "text": [
      "2021-08-22T11:21:37.669 | INFO | main_fte: Prepare data - Start\n",
      "2021-08-22T11:21:37.829 | INFO | main_fte: Load H5 2D DLC prediction data\n"
     ]
    },
    {
     "name": "stdout",
     "output_type": "stream",
     "text": [
      "Loaded extrinsics from /Users/zico/OneDrive - University of Cape Town/CheetahReconstructionResults/cheetah_videos/2017_08_29/top/extrinsic_calib/6_cam_scene_sba.json\n",
      "\n",
      "Found 2070 pairwise points between camera 0 and 1\n",
      "Found 1729 pairwise points between camera 1 and 2\n"
     ]
    },
    {
     "name": "stderr",
     "output_type": "stream",
     "text": [
      "2021-08-22T11:21:37.935 | INFO | main_fte: Estimate the initial trajectory\n",
      "2021-08-22T11:21:37.985 | INFO | main_fte: Prepare data - End\n",
      "2021-08-22T11:21:37.986 | INFO | main_fte: Start frame: 9, End frame: 110, Frame rate: 90.0\n",
      "2021-08-22T11:21:37.987 | INFO | main_fte: Setup optimisation - Start\n",
      "2021-08-22T11:21:37.989 | INFO | main_fte: Drop out frames: (42, 43, 44, 45, 46, 47, 48, 49, 50, 51, 74, 75, 76, 77, 78, 79, 80, 81, 82, 83, 97, 98, 99, 100, 101, 102, 103, 104, 105, 106, 11, 12, 13, 14, 15, 16, 17, 18, 19, 20, 71, 72, 73, 74, 75, 76, 77, 78, 79, 80, 36, 37, 38, 39, 40, 41, 42, 43, 44, 45, 58, 59, 60, 61, 62, 63, 64, 65, 66, 67)\n"
     ]
    },
    {
     "name": "stdout",
     "output_type": "stream",
     "text": [
      "Found 1016 pairwise points between camera 2 and 3\n",
      "Found 785 pairwise points between camera 3 and 4\n",
      "Found 767 pairwise points between camera 4 and 5\n",
      "Found 903 pairwise points between camera 5 and 0\n",
      "\n"
     ]
    },
    {
     "name": "stderr",
     "output_type": "stream",
     "text": [
      "2021-08-22T11:21:38.243 | INFO | main_fte: Measurement initialisation...Done\n",
      "2021-08-22T11:21:39.834 | INFO | main_fte: Variable initialisation...Done\n",
      "2021-08-22T11:23:10.697 | INFO | main_fte: Constaint initialisation...Done\n",
      "2021-08-22T11:23:13.449 | INFO | main_fte: Objective initialisation...Done\n",
      "2021-08-22T11:23:13.449 | INFO | main_fte: Setup optimisation - End\n",
      "2021-08-22T11:23:13.450 | INFO | main_fte: Initialisation took 95.78s\n"
     ]
    },
    {
     "name": "stdout",
     "output_type": "stream",
     "text": [
      "Ipopt 3.13.4: print_level=5\n",
      "max_iter=400\n",
      "max_cpu_time=10000\n",
      "Tol=0.1\n",
      "linear_solver=ma86\n",
      "option_file_name=/var/folders/_2/61j71l3s06zfdc543275_g8w0000gn/T/tmp8h0x8xkd_ipopt.opt\n",
      "\n",
      "Using option file \"/var/folders/_2/61j71l3s06zfdc543275_g8w0000gn/T/tmp8h0x8xkd_ipopt.opt\".\n",
      "\n",
      "\n",
      "******************************************************************************\n",
      "This program contains Ipopt, a library for large-scale nonlinear optimization.\n",
      " Ipopt is released as open source code under the Eclipse Public License (EPL).\n",
      "         For more information visit https://github.com/coin-or/Ipopt\n",
      "******************************************************************************\n",
      "\n",
      "This is Ipopt version 3.13.4, running with linear solver ma86.\n",
      "\n",
      "Number of nonzeros in equality constraint Jacobian...:   336979\n",
      "Number of nonzeros in inequality constraint Jacobian.:     2531\n",
      "Number of nonzeros in Lagrangian Hessian.............:        0\n",
      "\n",
      "Total number of variables............................:    48082\n",
      "                     variables with only lower bounds:        0\n",
      "                variables with lower and upper bounds:        0\n",
      "                     variables with only upper bounds:        0\n",
      "Total number of equality constraints.................:    45061\n",
      "Total number of inequality constraints...............:     2531\n",
      "        inequality constraints with only lower bounds:        0\n",
      "   inequality constraints with lower and upper bounds:     2531\n",
      "        inequality constraints with only upper bounds:        0\n",
      "\n",
      "iter    objective    inf_pr   inf_du lg(mu)  ||d||  lg(rg) alpha_du alpha_pr  ls\n",
      "   0 -6.2276615e+00 2.52e+03 4.88e-05   0.0 0.00e+00    -  0.00e+00 0.00e+00   0\n",
      "   7  5.3362345e+01 2.19e+03 2.14e+06   1.9 2.58e+03    -  5.03e-02 3.08e-01f  1\n",
      "  14  7.8255400e+01 3.12e+03 1.91e+01  -1.2 3.19e+03    -  7.75e-01 1.00e+00h  1\n",
      "  21  5.3167636e+01 3.13e+03 4.39e+00  -2.7 4.18e+01    -  9.96e-01 1.00e+00h  1\n",
      "  28  4.5562087e+01 3.12e+03 3.69e+00  -2.6 3.12e+03    -  9.91e-01 1.00e+00h  1\n",
      "  35  4.2132925e+01 3.13e+03 3.38e+00  -2.8 3.06e+02    -  2.42e-01 6.97e-01h  1\n",
      "  42  4.2040261e+01 3.13e+03 2.95e+00  -2.8 3.15e+03    -  2.54e-01 1.00e+00h  1\n",
      "  49  4.0372350e+01 3.12e+03 9.73e+00  -3.3 3.16e+03    -  1.26e-01 1.00e+00h  1\n",
      "  56  3.9359121e+01 3.12e+03 2.49e+00  -3.7 3.24e+03    -  1.29e-01 9.06e-02h  1\n",
      "  63  3.8614893e+01 7.41e-03 1.39e-01  -4.2 3.41e+00    -  1.00e+00 1.00e+00h  1\n",
      "iter    objective    inf_pr   inf_du lg(mu)  ||d||  lg(rg) alpha_du alpha_pr  ls\n",
      "  70  3.8605372e+01 1.18e+03 1.49e+00  -4.1 3.13e+03    -  6.27e-01 6.22e-01h  1\n",
      "  77  3.8347753e+01 3.12e+03 1.05e+00  -4.3 3.12e+03    -  4.82e-01 3.76e-01h  1\n",
      "  84  3.8149518e+01 5.59e-02 1.88e-01  -4.2 1.85e+01    -  8.28e-01 5.17e-01h  1\n",
      "  91  3.8094179e+01 3.12e+03 4.98e-01  -3.7 2.78e+03    -  3.25e-02 1.30e-01h  1\n",
      "  98  3.8122284e+01 2.46e+03 1.06e+00  -5.0 1.13e+03    -  1.02e-01 3.21e-01h  1\n",
      " 105  3.7951580e+01 3.12e+03 1.99e-01  -6.0 7.92e+01    -  1.00e+00 2.66e-01h  1\n",
      " 112  3.7904990e+01 1.41e-03 1.24e-01  -5.9 3.01e+00    -  1.00e+00 1.00e+00h  1\n",
      "\n",
      "Number of Iterations....: 113\n",
      "\n",
      "                                   (scaled)                 (unscaled)\n",
      "Objective...............:   3.7903056564072017e+01    3.7903056564072017e+01\n",
      "Dual infeasibility......:   4.7995156365605862e-02    4.7995156365605862e-02\n",
      "Constraint violation....:   5.9357721442054867e-05    7.2728601367089141e-05\n",
      "Complementarity.........:   2.4422309999492169e-06    2.4422309999492169e-06\n",
      "Overall NLP error.......:   4.7995156365605862e-02    4.7995156365605862e-02\n",
      "\n",
      "\n",
      "Number of objective function evaluations             = 114\n",
      "Number of objective gradient evaluations             = 114\n",
      "Number of equality constraint evaluations            = 114\n",
      "Number of inequality constraint evaluations          = 114\n",
      "Number of equality constraint Jacobian evaluations   = 114\n",
      "Number of inequality constraint Jacobian evaluations = 114\n",
      "Number of Lagrangian Hessian evaluations             = 0\n",
      "Total CPU secs in IPOPT (w/o function evaluations)   =    466.724\n",
      "Total CPU secs in NLP function evaluations           =    254.772\n",
      "\n",
      "\n",
      "Timing Statistics:\n",
      "\n",
      "OverallAlgorithm....................:    721.495 (sys:     25.796 wall:    178.551)\n",
      " PrintProblemStatistics.............:      0.003 (sys:      0.000 wall:      0.000)\n",
      " InitializeIterates.................:      7.422 (sys:      0.258 wall:      4.505)\n",
      " UpdateHessian......................:      0.255 (sys:      0.004 wall:      0.261)\n",
      " OutputIteration....................:      0.003 (sys:      0.000 wall:      0.002)\n",
      " UpdateBarrierParameter.............:    294.639 (sys:     13.398 wall:     41.543)\n",
      " ComputeSearchDirection.............:    164.297 (sys:      6.517 wall:     22.824)\n",
      " ComputeAcceptableTrialPoint........:    222.951 (sys:      5.475 wall:     77.627)\n",
      " AcceptTrialPoint...................:      0.007 (sys:      0.001 wall:      0.007)\n",
      " CheckConvergence...................:     31.915 (sys:      0.144 wall:     31.781)\n",
      "PDSystemSolverTotal.................:    457.952 (sys:     19.839 wall:     64.223)\n",
      " PDSystemSolverSolveOnce............:    453.059 (sys:     19.683 wall:     63.574)\n",
      " ComputeResiduals...................:      4.563 (sys:      0.136 wall:      0.599)\n",
      " StdAugSystemSolverMultiSolve.......:    443.925 (sys:     18.890 wall:     62.359)\n",
      " LinearSystemScaling................:      0.000 (sys:      0.000 wall:      0.000)\n",
      " LinearSystemSymbolicFactorization..:      0.032 (sys:      0.006 wall:      0.038)\n",
      " LinearSystemFactorization..........:    324.236 (sys:     13.868 wall:     45.725)\n",
      " LinearSystemBackSolve..............:    113.416 (sys:      4.164 wall:     15.049)\n",
      " LinearSystemStructureConverter.....:      0.113 (sys:      0.007 wall:      0.111)\n",
      "  LinearSystemStructureConverterInit:      0.018 (sys:      0.004 wall:      0.026)\n",
      "QualityFunctionSearch...............:      0.560 (sys:      0.030 wall:      0.075)\n",
      "TryCorrector........................:      0.000 (sys:      0.000 wall:      0.000)\n",
      "Task1...............................:      0.134 (sys:      0.007 wall:      0.018)\n",
      "Task2...............................:      0.232 (sys:      0.008 wall:      0.031)\n",
      "Task3...............................:      0.031 (sys:      0.002 wall:      0.004)\n",
      "Task4...............................:      0.000 (sys:      0.000 wall:      0.000)\n",
      "Task5...............................:      0.081 (sys:      0.004 wall:      0.011)\n",
      "Function Evaluations................:    254.772 (sys:      5.562 wall:    109.909)\n",
      " Objective function.................:     48.455 (sys:      1.650 wall:      6.428)\n",
      " Objective function gradient........:      2.249 (sys:      0.004 wall:      2.270)\n",
      " Equality constraints...............:    174.175 (sys:      3.784 wall:     71.124)\n",
      " Inequality constraints.............:      0.542 (sys:      0.001 wall:      0.543)\n",
      " Equality constraint Jacobian.......:     29.348 (sys:      0.123 wall:     29.543)\n",
      " Inequality constraint Jacobian.....:      0.002 (sys:      0.000 wall:      0.002)\n",
      " Lagrangian Hessian.................:      0.000 (sys:      0.000 wall:      0.000)\n",
      "\n",
      "EXIT: Optimal Solution Found.\n"
     ]
    },
    {
     "name": "stderr",
     "output_type": "stream",
     "text": [
      "2021-08-22T11:28:02.267 | INFO | main_fte: Optimisation solver took 288.82s\n",
      "2021-08-22T11:28:02.268 | INFO | main_fte: Generate outputs...\n"
     ]
    },
    {
     "name": "stdout",
     "output_type": "stream",
     "text": [
      "shutter delay: [0.0, 0.0042718012384349874, 0.0006440225775971452, 0.002825030614534458, 0.006375957993716625, -0.0014923264650331333]\n",
      "Saved /Users/zico/msc/dev/AcinoSet/data/2017_08_29/top/jules/run1_1/fte_pw/fte.pickle\n",
      "Saved /Users/zico/msc/dev/AcinoSet/data/2017_08_29/top/jules/run1_1/fte_pw/cam*_fte.h5\n",
      "Saved /Users/zico/msc/dev/AcinoSet/data/2017_08_29/top/jules/run1_1/fte_pw/cam*_fte.csv\n",
      "\n",
      "Saving labeled videos...\n",
      "Loading cam1 and data.Loading cam2 and data.Loading cam3 and data.Loading cam4 and data.Loading cam5 and data.\n",
      "\n",
      "\n"
     ]
    }
   ],
   "source": [
    "# Run the optimisation\n",
    "main_fte.run(root_dir, data_path, start_frame, end_frame, dlc_thresh, num_filtered = 70, filtered_markers=filtered_markers, init_ekf=False, single_view=0, pairwise_included=0, generate_reprojection_videos=True, out_dir_prefix=\"/Users/zico/msc/dev/AcinoSet/data\")"
   ]
  },
  {
   "cell_type": "code",
   "execution_count": 10,
   "metadata": {},
   "outputs": [
    {
     "name": "stderr",
     "output_type": "stream",
     "text": [
      "2021-08-22T11:54:28.886 | WARNING | main_fte: No ground truth labels for this test.\n"
     ]
    },
    {
     "name": "stdout",
     "output_type": "stream",
     "text": [
      "Loaded extrinsics from /Users/zico/OneDrive - University of Cape Town/CheetahReconstructionResults/cheetah_videos/2017_08_29/top/extrinsic_calib/6_cam_scene_sba.json\n",
      "\n"
     ]
    },
    {
     "data": {
      "text/plain": [
       "(               count       mean        std       min       25%        50%  \\\n",
       " nose           446.0   3.268723   2.034845  0.034375  1.918688   2.850124   \n",
       " r_eye          331.0   3.136926   1.809357  0.221269  1.791824   2.844379   \n",
       " l_eye          265.0   3.117339   2.338987  0.173641  1.462213   2.486146   \n",
       " neck_base      446.0   9.088051   7.762922  0.549881  3.814597   6.810693   \n",
       " spine          506.0  11.955826  42.157223  0.432702  4.329945   7.669853   \n",
       " tail_base      451.0  14.928687  44.798040  1.151767  5.730018   9.612671   \n",
       " tail1          464.0  13.621335  36.180150  0.397667  4.810210   8.312550   \n",
       " tail2          475.0  12.638408  64.336720  0.043457  2.151719   3.376544   \n",
       " r_shoulder     292.0   7.549803   3.543765  0.809054  4.917148   7.250024   \n",
       " r_front_knee   342.0   9.697555   9.823575  0.240613  4.897979   7.174575   \n",
       " r_front_ankle  445.0  12.224490  12.075348  0.430569  4.918344   8.164632   \n",
       " r_front_paw    466.0  16.282921  24.388674  0.750698  5.431464  10.130138   \n",
       " l_shoulder     194.0  15.565838  11.655256  1.070710  7.627078  12.980800   \n",
       " l_front_knee   244.0  12.504299   8.656123  0.539652  6.355938  10.523170   \n",
       " l_front_ankle  384.0  11.927613  12.635235  0.768742  5.975990   9.420305   \n",
       " l_front_paw    375.0  14.434075  21.172981  0.085259  4.688379   8.913335   \n",
       " r_hip          297.0  10.069735   7.256231  0.492452  5.050791   8.632273   \n",
       " r_back_knee    317.0  11.346068  11.156359  0.625029  6.660053   9.724371   \n",
       " r_back_ankle   383.0   7.365185   8.861603  0.138388  3.351106   5.274093   \n",
       " r_back_paw     414.0  12.357393  18.844162  0.379696  4.658420   7.602142   \n",
       " l_hip          170.0  21.029369  18.703143  0.992819  8.296712  13.168068   \n",
       " l_back_knee    250.0  18.712180  16.426596  1.077903  7.494460  11.885720   \n",
       " l_back_ankle   362.0   8.863766   7.068346  0.814916  5.028685   7.526532   \n",
       " l_back_paw     393.0  11.117851   9.928624  0.316473  4.738196   8.598816   \n",
       " \n",
       "                      75%         max  \n",
       " nose            4.177656   12.817545  \n",
       " r_eye           4.120870    9.672132  \n",
       " l_eye           4.236046   17.555018  \n",
       " neck_base      11.488870   43.948755  \n",
       " spine          14.385528  942.642826  \n",
       " tail_base      16.015090  937.357816  \n",
       " tail1          13.941002  749.899143  \n",
       " tail2           5.008569  733.818381  \n",
       " r_shoulder      9.634940   20.158030  \n",
       " r_front_knee   10.668618   70.221586  \n",
       " r_front_ankle  15.301980   89.821469  \n",
       " r_front_paw    17.253343  256.170098  \n",
       " l_shoulder     19.440277   57.684350  \n",
       " l_front_knee   15.889689   52.954612  \n",
       " l_front_ankle  14.105315  169.748331  \n",
       " l_front_paw    15.382533  204.379855  \n",
       " r_hip          13.976801   77.950732  \n",
       " r_back_knee    13.768372  181.106057  \n",
       " r_back_ankle    8.519316  106.671448  \n",
       " r_back_paw     12.770271  137.925382  \n",
       " l_hip          30.527935   94.468810  \n",
       " l_back_knee    24.805497   71.979363  \n",
       " l_back_ankle   11.088165   71.306293  \n",
       " l_back_paw     13.956945   77.320778  ,\n",
       "         nose      r_eye      l_eye  neck_base      spine  tail_base  \\\n",
       " %  72.607261  55.775578  43.894389  76.732673  80.363036  75.907591   \n",
       " \n",
       "        tail1     tail2  r_shoulder  r_front_knee  ...  l_front_ankle  \\\n",
       " %  74.422442  76.89769   48.514851     54.455446  ...      57.920792   \n",
       " \n",
       "    l_front_paw  r_hip  r_back_knee  r_back_ankle  r_back_paw      l_hip  \\\n",
       " %    60.726073   50.0    54.455446     64.026403    70.29703  29.867987   \n",
       " \n",
       "    l_back_knee  l_back_ankle  l_back_paw  \n",
       " %    49.834983     55.775578   64.191419  \n",
       " \n",
       " [1 rows x 24 columns])"
      ]
     },
     "execution_count": 10,
     "metadata": {},
     "output_type": "execute_result"
    },
    {
     "data": {
      "image/png": "[encoded data removed]",
      "text/plain": [
       "<Figure size 600x400 with 1 Axes>"
      ]
     },
     "metadata": {
      "needs_background": "light"
     },
     "output_type": "display_data"
    },
    {
     "data": {
      "image/png": "[encoded data removed]",
      "text/plain": [
       "<Figure size 600x400 with 1 Axes>"
      ]
     },
     "metadata": {
      "needs_background": "light"
     },
     "output_type": "display_data"
    }
   ],
   "source": [
    "main_fte.metrics(root_dir, data_path, start_frame, end_frame, dlc_thresh, out_dir_prefix=\"/Users/zico/msc/dev/AcinoSet/data\")"
   ]
  },
  {
   "cell_type": "code",
   "execution_count": null,
   "metadata": {},
   "outputs": [],
   "source": [
    "dummy_scene = \"/Users/zico/OneDrive - University of Cape Town/CheetahReconstructionResults/cheetah_videos/2017_08_29/top/extrinsic_calib/6_cam_scene_sba.json\"\n",
    "main_fte.plot_trajectory(\"/Users/zico/msc/dev/monocular_estimation/data/synthesized.pickle\", dummy_scene)"
   ]
  },
  {
   "cell_type": "code",
   "execution_count": null,
   "metadata": {},
   "outputs": [],
   "source": [
    "# Compare the optimisation with previous results i.e. compare the output pickle file fte.pickle. This is a visual inspection.abs\n",
    "main_fte.plot_cheetah(root_dir, data_path, out_dir_prefix=\"/Users/zico/msc/dev/AcinoSet/data\")"
   ]
  },
  {
   "cell_type": "code",
   "execution_count": null,
   "metadata": {},
   "outputs": [],
   "source": [
    "# Compare the optimisation with previous results i.e. compare the output pickle file fte.pickle. This is a visual inspection.abs\n",
    "main_fte.compare_cheetahs(\"/Users/zico/msc/dev/monocular_estimation/lily_discrete_trajectory.pickle\", root_dir, data_path, out_dir_prefix=\"/Users/zico/msc/dev/AcinoSet/data\")"
   ]
  },
  {
   "cell_type": "code",
   "execution_count": null,
   "metadata": {},
   "outputs": [],
   "source": [
    "eval_dir = os.path.join(\"/Users/zico/msc/dev/AcinoSet/data\", data_path, \"fte_pw\")\n",
    "data = data_ops.load_pickle(os.path.join(eval_dir, \"fte.pickle\"))\n",
    "results_dir = os.path.join(eval_dir, \"evaluation\")\n",
    "os.makedirs(eval_dir, exist_ok=True)\n",
    "max_delta_acc = evaluate_fte.eval_delta_acc(data, results_dir)\n",
    "evaluate_fte.eval_model_error(data, results_dir)\n",
    "evaluate_fte.eval_meas_error(data, results_dir)\n",
    "logger.info(max_delta_acc)"
   ]
  },
  {
   "cell_type": "code",
   "execution_count": null,
   "metadata": {},
   "outputs": [],
   "source": [
    "fig_fpath = os.path.join(os.path.join(os.path.join(\"..\", \"data\"), data_path, \"fte_pw\"), 'fte.svg')\n",
    "pw_file = data_ops.load_pickle(os.path.join(os.path.join(\"..\", \"data\"), data_path, \"fte_pw\", \"fte.pickle\"))\n",
    "app.plot_cheetah_states(pw_file[\"x\"], out_fpath=fig_fpath)"
   ]
  },
  {
   "cell_type": "code",
   "execution_count": null,
   "metadata": {},
   "outputs": [],
   "source": [
    "main_fte.plot_cost_functions()"
   ]
  },
  {
   "cell_type": "code",
   "execution_count": null,
   "metadata": {},
   "outputs": [],
   "source": []
  }
 ],
 "metadata": {
  "interpreter": {
   "hash": "aee8b7b246df8f9039afb4144a1f6fd8d2ca17a180786b69acc140d282b71a49"
  },
  "kernelspec": {
   "display_name": "Python [conda env:pypy] *",
   "language": "python",
   "name": "conda-env-pypy-py"
  },
  "language_info": {
   "codemirror_mode": {
    "name": "ipython",
    "version": 3
   },
   "file_extension": ".py",
   "mimetype": "text/x-python",
   "name": "python",
   "nbconvert_exporter": "python",
   "pygments_lexer": "ipython3",
   "version": "3.7.10"
  },
  "metadata": {
   "interpreter": {
    "hash": "aee8b7b246df8f9039afb4144a1f6fd8d2ca17a180786b69acc140d282b71a49"
   }
  }
 },
 "nbformat": 4,
 "nbformat_minor": 4
}
