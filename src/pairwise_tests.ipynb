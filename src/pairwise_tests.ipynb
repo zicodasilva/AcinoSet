{
 "cells": [
  {
   "cell_type": "code",
   "execution_count": 1,
   "metadata": {},
   "outputs": [
    {
     "name": "stdout",
     "output_type": "stream",
     "text": [
      "The autoreload extension is already loaded. To reload it, use:\n",
      "  %reload_ext autoreload\n"
     ]
    }
   ],
   "source": [
    "import os\n",
    "from glob import glob\n",
    "\n",
    "import main_fte\n",
    "from py_utils import data_ops\n",
    "import evaluate_fte\n",
    "from lib import app\n",
    "from py_utils import log\n",
    "\n",
    "%load_ext autoreload\n",
    "%autoreload 2\n",
    "\n",
    "%matplotlib inline\n",
    "\n",
    "# root_dir = os.path.join(\"..\", \"data\")\n",
    "root_dir = os.path.join(\"/Users/zico/OneDrive - University of Cape Town/CheetahReconstructionResults/cheetah_videos\")\n",
    "# If you are running the code remotely on the Linux i9.\n",
    "# root_dir = os.path.join(\"/\",\"data\", \"dlc\", \"to_analyse\", \"cheetah_videos\")\\\n",
    "logger = log.logger(\"main\")"
   ]
  },
  {
   "cell_type": "code",
   "execution_count": null,
   "metadata": {},
   "outputs": [],
   "source": [
    "# Generate the pose functions if this has not been done before (note this should only be performed once). It will be saved in the root_dir.\n",
    "functions = main_fte.create_pose_functions(root_dir)"
   ]
  },
  {
   "cell_type": "code",
   "execution_count": 2,
   "metadata": {},
   "outputs": [],
   "source": [
    "# Configurations for the optimisation. 2017_08_29/top/phantom/run1_1 2017_08_29/top/phantom/flick1_1 2019_02_27/kiara/run\n",
    "# 2017_08_29/top/jules/run1_1\n",
    "data_path = os.path.join(\"2017_08_29\", \"top\", \"jules\", \"run1_1\")\n",
    "# /Users/zico/OneDrive - University of Cape Town/CheetahReconstructionResults/paws-pw-included/2019_03_09/jules/flick2\n",
    "start_frame = 10\n",
    "end_frame = 110\n",
    "dlc_thresh = 0.5"
   ]
  },
  {
   "cell_type": "code",
   "execution_count": 5,
   "metadata": {
    "tags": [
     "outputPrepend"
    ]
   },
   "outputs": [
    {
     "name": "stderr",
     "output_type": "stream",
     "text": [
      "2021-08-20T07:53:33.134 | INFO | main_fte: Prepare data - Start\n"
     ]
    },
    {
     "name": "stdout",
     "output_type": "stream",
     "text": [
      "Loaded extrinsics from /Users/zico/OneDrive - University of Cape Town/CheetahReconstructionResults/cheetah_videos/2017_08_29/top/extrinsic_calib/6_cam_scene_sba.json\n",
      "\n"
     ]
    },
    {
     "name": "stderr",
     "output_type": "stream",
     "text": [
      "2021-08-20T07:53:33.932 | INFO | main_fte: Load H5 2D DLC prediction data\n"
     ]
    },
    {
     "name": "stdout",
     "output_type": "stream",
     "text": [
      "Found 2070 pairwise points between camera 0 and 1\n",
      "Found 1729 pairwise points between camera 1 and 2\n",
      "Found 1016 pairwise points between camera 2 and 3\n",
      "Found 785 pairwise points between camera 3 and 4\n"
     ]
    },
    {
     "name": "stderr",
     "output_type": "stream",
     "text": [
      "2021-08-20T07:53:34.359 | INFO | main_fte: Estimate the initial trajectory\n"
     ]
    },
    {
     "name": "stdout",
     "output_type": "stream",
     "text": [
      "Found 767 pairwise points between camera 4 and 5\n",
      "Found 903 pairwise points between camera 5 and 0\n",
      "\n"
     ]
    },
    {
     "name": "stderr",
     "output_type": "stream",
     "text": [
      "2021-08-20T07:53:34.825 | INFO | main_fte: Prepare data - End\n",
      "2021-08-20T07:53:34.832 | INFO | main_fte: Start frame: 9, End frame: 110, Frame rate: 90\n",
      "2021-08-20T07:53:34.837 | INFO | main_fte: Setup optimisation - Start\n",
      "2021-08-20T07:53:35.207 | INFO | main_fte: Measurement initialisation...Done\n",
      "2021-08-20T07:53:38.724 | INFO | main_fte: Variable initialisation...Done\n",
      "2021-08-20T07:54:08.696 | INFO | main_fte: Constaint initialisation...Done\n",
      "2021-08-20T07:54:09.418 | INFO | main_fte: Objective initialisation...Done\n",
      "2021-08-20T07:54:09.421 | INFO | main_fte: Setup optimisation - End\n",
      "2021-08-20T07:54:09.423 | INFO | main_fte: Initialisation took 36.28s\n"
     ]
    },
    {
     "name": "stdout",
     "output_type": "stream",
     "text": [
      "Ipopt 3.13.3: print_level=5\n",
      "max_iter=400\n",
      "max_cpu_time=10000\n",
      "Tol=0.1\n",
      "linear_solver=ma86\n",
      "option_file_name=/var/folders/_2/61j71l3s06zfdc543275_g8w0000gn/T/tmpu6szy766_ipopt.opt\n",
      "\n",
      "Using option file \"/var/folders/_2/61j71l3s06zfdc543275_g8w0000gn/T/tmpu6szy766_ipopt.opt\".\n",
      "\n",
      "\n",
      "******************************************************************************\n",
      "This program contains Ipopt, a library for large-scale nonlinear optimization.\n",
      " Ipopt is released as open source code under the Eclipse Public License (EPL).\n",
      "         For more information visit https://github.com/coin-or/Ipopt\n",
      "******************************************************************************\n",
      "\n",
      "This is Ipopt version 3.13.3, running with linear solver ma86.\n",
      "\n",
      "Number of nonzeros in equality constraint Jacobian...:   336979\n",
      "Number of nonzeros in inequality constraint Jacobian.:     2531\n",
      "Number of nonzeros in Lagrangian Hessian.............:        0\n",
      "\n",
      "Total number of variables............................:    48082\n",
      "                     variables with only lower bounds:        0\n",
      "                variables with lower and upper bounds:        0\n",
      "                     variables with only upper bounds:        0\n",
      "Total number of equality constraints.................:    45061\n",
      "Total number of inequality constraints...............:     2531\n",
      "        inequality constraints with only lower bounds:        0\n",
      "   inequality constraints with lower and upper bounds:     2531\n",
      "        inequality constraints with only upper bounds:        0\n",
      "\n",
      "iter    objective    inf_pr   inf_du lg(mu)  ||d||  lg(rg) alpha_du alpha_pr  ls\n",
      "   0 -6.2276615e+00 2.52e+03 4.86e-05   0.0 0.00e+00    -  0.00e+00 0.00e+00   0\n",
      "   8  5.9496336e+01 1.53e+03 1.58e+06   1.7 2.35e+03    -  2.01e-01 3.63e-01h  1\n",
      "  16  5.2998094e+01 3.13e+03 4.68e+00  -2.5 3.14e+03    -  7.19e-01 1.00e+00h  1\n",
      "  23  4.3738303e+01 2.41e+00 3.30e+00  -2.7 3.12e+03    -  7.39e-01 1.00e+00h  1\n",
      "  30  3.7779356e+01 3.12e+03 1.77e+00  -2.8 5.08e+01    -  9.44e-01 1.00e+00h  1\n",
      "  37  3.5094775e+01 3.12e+03 2.40e+00  -2.8 9.00e+01    -  9.81e-01 1.00e+00h  1\n",
      "  44  3.4319161e+01 3.12e+03 4.76e-01  -3.3 3.13e+03    -  1.00e+00 7.73e-01h  1\n",
      "  52  3.3715623e+01 2.27e-02 2.87e-01  -3.2 3.13e+03    -  1.00e+00 1.00e+00h  1\n",
      "  60  5.4990291e+01 3.13e+03 1.83e+01  -2.6 3.16e+03    -  2.17e-01 6.06e-01h  1\n",
      "  67  3.4867152e+01 3.12e+03 4.43e+00  -3.1 3.12e+03    -  9.93e-01 1.00e+00h  1\n",
      "iter    objective    inf_pr   inf_du lg(mu)  ||d||  lg(rg) alpha_du alpha_pr  ls\n",
      "  75  3.3167777e+01 3.12e+03 8.79e-01  -4.1 3.13e+03    -  3.82e-01 6.49e-01h  1\n",
      "  83  3.3466566e+01 2.43e+03 3.15e+00  -3.9 3.16e+03    -  1.22e-01 3.12e-01h  1\n",
      "  91  3.2773696e+01 1.06e-03 5.08e-02  -4.3 3.12e+03    -  1.00e+00 1.00e+00h  1\n",
      "  98  3.2720510e+01 8.04e-03 2.23e-01 -11.0 1.07e+01    -  3.61e-01 2.45e-01h  1\n",
      " 106  3.2683849e+01 7.85e-03 2.27e-01  -5.4 3.02e+02    -  2.60e-01 1.03e-01h  1\n",
      " 114  3.2723593e+01 7.97e-02 1.24e+00  -6.0 6.97e+02    -  5.74e-03 1.26e-01h  1\n",
      " 122  3.2608475e+01 5.24e-02 6.28e-01  -5.4 2.19e+02    -  3.88e-02 1.24e-02h  1\n",
      " 130  3.2524902e+01 5.17e-04 2.66e-01  -5.5 2.94e+00    -  1.00e+00 1.00e+00h  1\n",
      " 138  3.2511184e+01 2.16e-03 5.84e-02  -7.9 1.56e+02    -  1.05e-01 3.61e-03h  1\n",
      " 146  3.2805183e+01 3.12e+03 2.21e+00  -6.2 3.24e+01    -  9.83e-03 4.91e-01h  1\n",
      "iter    objective    inf_pr   inf_du lg(mu)  ||d||  lg(rg) alpha_du alpha_pr  ls\n",
      " 154  3.2772141e+01 4.76e+02 2.17e+00  -4.5 2.31e+03    -  9.28e-04 7.95e-01h  1\n",
      " 162  3.2480105e+01 1.30e-03 6.76e-02  -7.0 5.61e+00    -  9.99e-01 2.58e-01h  1\n",
      "\n",
      "Number of Iterations....: 166\n",
      "\n",
      "                                   (scaled)                 (unscaled)\n",
      "Objective...............:   3.2478003678506880e+01    3.2478003678506880e+01\n",
      "Dual infeasibility......:   2.1020837953779421e-02    2.1020837953779421e-02\n",
      "Constraint violation....:   1.2950547916383688e-05    3.7562188367701310e-05\n",
      "Complementarity.........:   2.7856217553533531e-08    2.7856217553533531e-08\n",
      "Overall NLP error.......:   2.1020837953779421e-02    2.1020837953779421e-02\n",
      "\n",
      "\n",
      "Number of objective function evaluations             = 167\n",
      "Number of objective gradient evaluations             = 167\n",
      "Number of equality constraint evaluations            = 167\n",
      "Number of inequality constraint evaluations          = 167\n",
      "Number of equality constraint Jacobian evaluations   = 167\n",
      "Number of inequality constraint Jacobian evaluations = 167\n",
      "Number of Lagrangian Hessian evaluations             = 0\n",
      "Total CPU secs in IPOPT (w/o function evaluations)   =     84.901\n",
      "Total CPU secs in NLP function evaluations           =    157.233\n",
      "\n",
      "\n",
      "Timing Statistics:\n",
      "\n",
      "OverallAlgorithm....................:    242.134 (sys:     17.278 wall:    238.804)\n",
      " PrintProblemStatistics.............:      0.000 (sys:      0.000 wall:      0.000)\n",
      " InitializeIterates.................:      4.618 (sys:      0.187 wall:      4.567)\n",
      " UpdateHessian......................:      0.372 (sys:      0.007 wall:      0.382)\n",
      " OutputIteration....................:      0.002 (sys:      0.000 wall:      0.002)\n",
      " UpdateBarrierParameter.............:     52.335 (sys:     11.093 wall:     49.249)\n",
      " ComputeSearchDirection.............:     28.007 (sys:      5.457 wall:     26.707)\n",
      " ComputeAcceptableTrialPoint........:    109.399 (sys:      0.286 wall:    110.121)\n",
      " AcceptTrialPoint...................:      0.009 (sys:      0.001 wall:      0.010)\n",
      " CheckConvergence...................:     47.391 (sys:      0.247 wall:     47.763)\n",
      "PDSystemSolverTotal.................:     80.203 (sys:     16.520 wall:     75.786)\n",
      " PDSystemSolverSolveOnce............:     79.380 (sys:     16.509 wall:     74.950)\n",
      " ComputeResiduals...................:      0.765 (sys:      0.007 wall:      0.774)\n",
      " StdAugSystemSolverMultiSolve.......:     78.169 (sys:     16.112 wall:     73.088)\n",
      " LinearSystemScaling................:      0.000 (sys:      0.000 wall:      0.000)\n",
      " LinearSystemSymbolicFactorization..:      0.038 (sys:      0.007 wall:      0.046)\n",
      " LinearSystemFactorization..........:     61.036 (sys:     12.805 wall:     55.046)\n",
      " LinearSystemBackSolve..............:     15.799 (sys:      2.361 wall:     15.753)\n",
      " LinearSystemStructureConverter.....:      0.151 (sys:      0.007 wall:      0.160)\n",
      "  LinearSystemStructureConverterInit:      0.022 (sys:      0.006 wall:      0.029)\n",
      "QualityFunctionSearch...............:      0.084 (sys:      0.010 wall:      0.094)\n",
      "TryCorrector........................:      0.000 (sys:      0.000 wall:      0.000)\n",
      "Task1...............................:      0.021 (sys:      0.002 wall:      0.024)\n",
      "Task2...............................:      0.039 (sys:      0.001 wall:      0.041)\n",
      "Task3...............................:      0.004 (sys:      0.001 wall:      0.005)\n",
      "Task4...............................:      0.000 (sys:      0.000 wall:      0.000)\n",
      "Task5...............................:      0.012 (sys:      0.001 wall:      0.014)\n",
      "Function Evaluations................:    157.233 (sys:      0.496 wall:    158.286)\n",
      " Objective function.................:      7.045 (sys:      0.019 wall:      7.096)\n",
      " Objective function gradient........:      2.968 (sys:      0.007 wall:      2.984)\n",
      " Equality constraints...............:    102.249 (sys:      0.242 wall:    102.890)\n",
      " Inequality constraints.............:      0.566 (sys:      0.001 wall:      0.567)\n",
      " Equality constraint Jacobian.......:     44.403 (sys:      0.227 wall:     44.746)\n",
      " Inequality constraint Jacobian.....:      0.003 (sys:      0.000 wall:      0.003)\n",
      " Lagrangian Hessian.................:      0.000 (sys:      0.000 wall:      0.000)\n",
      "\n",
      "EXIT: Optimal Solution Found.\n"
     ]
    },
    {
     "name": "stderr",
     "output_type": "stream",
     "text": [
      "2021-08-20T07:59:02.900 | INFO | main_fte: Optimisation solver took 293.47s\n",
      "2021-08-20T07:59:02.902 | INFO | main_fte: Generate outputs...\n"
     ]
    },
    {
     "name": "stdout",
     "output_type": "stream",
     "text": [
      "shutter delay: [0.0, 0.004212397655285515, 0.0005029479034304115, 0.002612424871608314, 0.006201389374020852, -0.0017953757200895174]\n",
      "Saved /Users/zico/msc/dev/AcinoSet/data/2017_08_29/top/jules/run1_1/fte_pw/fte.pickle\n",
      "Saved /Users/zico/msc/dev/AcinoSet/data/2017_08_29/top/jules/run1_1/fte_pw/cam*_fte.h5\n",
      "Saved /Users/zico/msc/dev/AcinoSet/data/2017_08_29/top/jules/run1_1/fte_pw/cam*_fte.csv\n",
      "\n",
      "Saving labeled videos...\n",
      "Loading cam1 and data.\n",
      "Loading cam2 and data.\n",
      "Loading cam3 and data.\n",
      "Loading cam4 and data.Loading cam5 and data.\n",
      "\n",
      "Loading cam6 and data.\n",
      "\n",
      "Duration of video: 1.59 s, recorded with 90.0 fps!\n",
      "Total frames: 143 with frame dimensions: 1920 x 1080\n",
      "Duration of video: 1.59 s, recorded with 90.0 fps!\n",
      "Generating frames and creating video...\n",
      "\n",
      "\n",
      "Duration of video: 1.59 s, recorded with 90.0 fps!\n",
      "Total frames: 143 with frame dimensions: 1920 x 1080\n",
      "Total frames: 143 with frame dimensions: 1920 x 1080Generating frames and creating video...\n",
      "\n",
      "\n",
      "Duration of video: 1.59 s, recorded with 90.0 fps!\n",
      "Generating frames and creating video...\n",
      "\n",
      "Total frames: 143 with frame dimensions: 1920 x 1080\n",
      "Duration of video: 1.59 s, recorded with 90.0 fps!\n",
      "\n",
      "Generating frames and creating video..."
     ]
    },
    {
     "name": "stderr",
     "output_type": "stream",
     "text": [
      "  0%|          | 0/143 [00:00<?, ? f/s]"
     ]
    },
    {
     "name": "stdout",
     "output_type": "stream",
     "text": [
      "Total frames: 143 with frame dimensions: 1920 x 1080\n",
      "Duration of video: 1.59 s, recorded with 90.0 fps!"
     ]
    },
    {
     "name": "stderr",
     "output_type": "stream",
     "text": [
      "  0%|          | 0/143 [00:00<?, ? f/s]"
     ]
    },
    {
     "name": "stdout",
     "output_type": "stream",
     "text": [
      "Generating frames and creating video...\n",
      "\n",
      "\n",
      "Total frames: 143 with frame dimensions: 1920 x 1080"
     ]
    },
    {
     "name": "stderr",
     "output_type": "stream",
     "text": [
      "  0%|          | 0/143 [00:00<?, ? f/s]"
     ]
    },
    {
     "name": "stdout",
     "output_type": "stream",
     "text": [
      "\n",
      "Generating frames and creating video...\n"
     ]
    },
    {
     "name": "stderr",
     "output_type": "stream",
     "text": [
      " 93%|█████████▎| 133/143 [00:10<00:00, 11.24 f/s]\n",
      " 97%|█████████▋| 138/143 [00:11<00:00, 13.42 f/s]\n",
      "100%|██████████| 143/143 [00:11<00:00, 12.78 f/s]\n",
      "100%|██████████| 143/143 [00:11<00:00, 12.58 f/s]\n",
      "100%|██████████| 143/143 [00:11<00:00, 12.62 f/s]\n",
      "100%|██████████| 143/143 [00:11<00:00, 12.48 f/s]\n",
      "2021-08-20T07:59:29.211 | INFO | main_fte: Done\n"
     ]
    },
    {
     "name": "stdout",
     "output_type": "stream",
     "text": [
      "Done!\n",
      "\n"
     ]
    }
   ],
   "source": [
    "# Run the optimisation\n",
    "main_fte.run(root_dir, data_path, start_frame, end_frame, dlc_thresh, init_ekf=False, single_view=0, pairwise_included=0, generate_reprojection_videos=True, out_dir_prefix=\"/Users/zico/msc/dev/AcinoSet/data\")"
   ]
  },
  {
   "cell_type": "code",
   "execution_count": null,
   "metadata": {},
   "outputs": [],
   "source": [
    "dummy_scene = \"/Users/zico/OneDrive - University of Cape Town/CheetahReconstructionResults/cheetah_videos/2017_08_29/top/extrinsic_calib/6_cam_scene_sba.json\"\n",
    "main_fte.plot_trajectory(\"/Users/zico/msc/dev/monocular_estimation/data/synthesized.pickle\", dummy_scene)"
   ]
  },
  {
   "cell_type": "code",
   "execution_count": null,
   "metadata": {},
   "outputs": [],
   "source": [
    "# Compare the optimisation with previous results i.e. compare the output pickle file fte.pickle. This is a visual inspection.abs\n",
    "main_fte.plot_cheetah(root_dir, data_path, out_dir_prefix=\"/Users/zico/msc/dev/AcinoSet/data\")"
   ]
  },
  {
   "cell_type": "code",
   "execution_count": null,
   "metadata": {},
   "outputs": [],
   "source": [
    "# Compare the optimisation with previous results i.e. compare the output pickle file fte.pickle. This is a visual inspection.abs\n",
    "main_fte.compare_cheetahs(\"/Users/zico/msc/dev/monocular_estimation/lily_discrete_trajectory.pickle\", root_dir, data_path, out_dir_prefix=\"/Users/zico/msc/dev/AcinoSet/data\")"
   ]
  },
  {
   "cell_type": "code",
   "execution_count": null,
   "metadata": {},
   "outputs": [],
   "source": [
    "eval_dir = os.path.join(\"/Users/zico/msc/dev/AcinoSet/data\", data_path, \"fte_pw\")\n",
    "data = data_ops.load_pickle(os.path.join(eval_dir, \"fte.pickle\"))\n",
    "results_dir = os.path.join(eval_dir, \"evaluation\")\n",
    "os.makedirs(eval_dir, exist_ok=True)\n",
    "max_delta_acc = evaluate_fte.eval_delta_acc(data, results_dir)\n",
    "evaluate_fte.eval_model_error(data, results_dir)\n",
    "evaluate_fte.eval_meas_error(data, results_dir)\n",
    "logger.info(max_delta_acc)"
   ]
  },
  {
   "cell_type": "code",
   "execution_count": null,
   "metadata": {},
   "outputs": [],
   "source": [
    "fig_fpath = os.path.join(os.path.join(os.path.join(\"..\", \"data\"), data_path, \"fte_pw\"), 'fte.svg')\n",
    "pw_file = data_ops.load_pickle(os.path.join(os.path.join(\"..\", \"data\"), data_path, \"fte_pw\", \"fte.pickle\"))\n",
    "app.plot_cheetah_states(pw_file[\"x\"], out_fpath=fig_fpath)"
   ]
  },
  {
   "cell_type": "code",
   "execution_count": null,
   "metadata": {},
   "outputs": [],
   "source": [
    "main_fte.plot_cost_functions()"
   ]
  },
  {
   "cell_type": "code",
   "execution_count": null,
   "metadata": {},
   "outputs": [],
   "source": []
  }
 ],
 "metadata": {
  "interpreter": {
   "hash": "aee8b7b246df8f9039afb4144a1f6fd8d2ca17a180786b69acc140d282b71a49"
  },
  "kernelspec": {
   "display_name": "Python [conda env:pypy] *",
   "language": "python",
   "name": "conda-env-pypy-py"
  },
  "language_info": {
   "codemirror_mode": {
    "name": "ipython",
    "version": 3
   },
   "file_extension": ".py",
   "mimetype": "text/x-python",
   "name": "python",
   "nbconvert_exporter": "python",
   "pygments_lexer": "ipython3",
   "version": "3.7.10"
  },
  "metadata": {
   "interpreter": {
    "hash": "aee8b7b246df8f9039afb4144a1f6fd8d2ca17a180786b69acc140d282b71a49"
   }
  }
 },
 "nbformat": 4,
 "nbformat_minor": 4
}
