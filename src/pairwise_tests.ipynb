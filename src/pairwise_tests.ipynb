{
 "cells": [
  {
   "cell_type": "code",
   "execution_count": 1,
   "metadata": {},
   "outputs": [
    {
     "name": "stdout",
     "output_type": "stream",
     "text": [
      "The autoreload extension is already loaded. To reload it, use:\n",
      "  %reload_ext autoreload\n"
     ]
    }
   ],
   "source": [
    "import os\n",
    "from glob import glob\n",
    "\n",
    "import main_fte\n",
    "from py_utils import data_ops\n",
    "import evaluate_fte\n",
    "from lib import app\n",
    "from py_utils import log\n",
    "\n",
    "%load_ext autoreload\n",
    "%autoreload 2\n",
    "\n",
    "%matplotlib inline\n",
    "\n",
    "# root_dir = os.path.join(\"..\", \"data\")\n",
    "root_dir = os.path.join(\"/Users/zico/OneDrive - University of Cape Town/CheetahReconstructionResults/cheetah_videos\")\n",
    "# If you are running the code remotely on the Linux i9.\n",
    "# root_dir = os.path.join(\"/\",\"data\", \"dlc\", \"to_analyse\", \"cheetah_videos\")\\\n",
    "logger = log.logger(\"main\")"
   ]
  },
  {
   "cell_type": "code",
   "execution_count": null,
   "metadata": {},
   "outputs": [],
   "source": [
    "# Generate the pose functions if this has not been done before (note this should only be performed once). It will be saved in the root_dir.\n",
    "functions = main_fte.create_pose_functions(root_dir)"
   ]
  },
  {
   "cell_type": "code",
   "execution_count": 2,
   "metadata": {},
   "outputs": [],
   "source": [
    "# Configurations for the optimisation. 2017_08_29/top/phantom/run1_1 2017_08_29/top/phantom/flick1_1 2019_02_27/kiara/run\n",
    "# 2017_08_29/top/jules/run1_1\n",
    "data_path = os.path.join(\"2017_08_29\", \"top\", \"jules\", \"run1_1\")\n",
    "# 2019_03_09LilyFlick\n",
    "# 2019_03_09JulesFlick2\n",
    "# 2017_12_16PhantomFlick2_1\n",
    "# 2017_12_21/bottom/jules/flick2_1\n",
    "start_frame = 10\n",
    "end_frame = 110\n",
    "dlc_thresh = 0.5\n",
    "# filtered_markers = ()\n",
    "filtered_markers = (\"r_front_ankle\", \"r_front_paw\", \"r_back_ankle\", \"r_back_paw\")\n",
    "# ((10, 20), (30, 40), (40, 50), (50, 60), (20, 30), (80, 90), (90, 105))\n",
    "# ((10, 20), (30, 40), (40, 50), (20, 30), (80, 90))\n",
    "# ((10, 20), (50, 55), (80, 90))"
   ]
  },
  {
   "cell_type": "code",
   "execution_count": 9,
   "metadata": {
    "tags": [
     "outputPrepend"
    ]
   },
   "outputs": [
    {
     "name": "stderr",
     "output_type": "stream",
     "text": [
      "2021-08-23T11:32:20.636 | INFO | main_fte: Prepare data - Start\n"
     ]
    },
    {
     "name": "stdout",
     "output_type": "stream",
     "text": [
      "Loaded extrinsics from /Users/zico/OneDrive - University of Cape Town/CheetahReconstructionResults/cheetah_videos/2017_08_29/top/extrinsic_calib/6_cam_scene_sba.json\n",
      "\n"
     ]
    },
    {
     "name": "stderr",
     "output_type": "stream",
     "text": [
      "2021-08-23T11:32:21.214 | INFO | main_fte: Load H5 2D DLC prediction data\n"
     ]
    },
    {
     "name": "stdout",
     "output_type": "stream",
     "text": [
      "Found 2070 pairwise points between camera 0 and 1\n",
      "Found 1729 pairwise points between camera 1 and 2\n",
      "Found 1016 pairwise points between camera 2 and 3\n",
      "Found 785 pairwise points between camera 3 and 4\n"
     ]
    },
    {
     "name": "stderr",
     "output_type": "stream",
     "text": [
      "2021-08-23T11:32:21.612 | INFO | main_fte: Estimate the initial trajectory\n"
     ]
    },
    {
     "name": "stdout",
     "output_type": "stream",
     "text": [
      "Found 767 pairwise points between camera 4 and 5\n",
      "Found 903 pairwise points between camera 5 and 0\n",
      "\n"
     ]
    },
    {
     "name": "stderr",
     "output_type": "stream",
     "text": [
      "2021-08-23T11:32:22.044 | INFO | main_fte: Prepare data - End\n",
      "2021-08-23T11:32:22.048 | INFO | main_fte: Start frame: 9, End frame: 110, Frame rate: 90\n",
      "2021-08-23T11:32:22.051 | INFO | main_fte: Setup optimisation - Start\n",
      "2021-08-23T11:32:23.623 | INFO | main_fte: Measurement initialisation...Done\n",
      "2021-08-23T11:32:27.954 | INFO | main_fte: Variable initialisation...Done\n",
      "2021-08-23T11:33:08.665 | INFO | main_fte: Constaint initialisation...Done\n",
      "2021-08-23T11:33:12.607 | INFO | main_fte: Objective initialisation...Done\n",
      "2021-08-23T11:33:12.611 | INFO | main_fte: Setup optimisation - End\n",
      "2021-08-23T11:33:12.616 | INFO | main_fte: Initialisation took 51.97s\n"
     ]
    },
    {
     "name": "stdout",
     "output_type": "stream",
     "text": [
      "Ipopt 3.13.3: print_level=5\n",
      "max_iter=400\n",
      "max_cpu_time=10000\n",
      "Tol=0.1\n",
      "linear_solver=ma86\n",
      "option_file_name=/var/folders/_2/61j71l3s06zfdc543275_g8w0000gn/T/tmp303bl7q5_ipopt.opt\n",
      "\n",
      "Using option file \"/var/folders/_2/61j71l3s06zfdc543275_g8w0000gn/T/tmp303bl7q5_ipopt.opt\".\n",
      "\n",
      "\n",
      "******************************************************************************\n",
      "This program contains Ipopt, a library for large-scale nonlinear optimization.\n",
      " Ipopt is released as open source code under the Eclipse Public License (EPL).\n",
      "         For more information visit https://github.com/coin-or/Ipopt\n",
      "******************************************************************************\n",
      "\n",
      "This is Ipopt version 3.13.3, running with linear solver ma86.\n",
      "\n",
      "Number of nonzeros in equality constraint Jacobian...:   802387\n",
      "Number of nonzeros in inequality constraint Jacobian.:     2531\n",
      "Number of nonzeros in Lagrangian Hessian.............:        0\n",
      "\n",
      "Total number of variables............................:   106258\n",
      "                     variables with only lower bounds:        0\n",
      "                variables with lower and upper bounds:        0\n",
      "                     variables with only upper bounds:        0\n",
      "Total number of equality constraints.................:   103237\n",
      "Total number of inequality constraints...............:     2531\n",
      "        inequality constraints with only lower bounds:        0\n",
      "   inequality constraints with lower and upper bounds:     2531\n",
      "        inequality constraints with only upper bounds:        0\n",
      "\n",
      "iter    objective    inf_pr   inf_du lg(mu)  ||d||  lg(rg) alpha_du alpha_pr  ls\n",
      "   0 -1.8682984e+01 2.60e+03 2.99e-05   0.0 0.00e+00    -  0.00e+00 0.00e+00   0\n",
      "   4 -6.0989318e+00 2.59e+03 2.54e+05   1.9 2.62e+03    -  7.26e-02 2.83e-02f  1\n",
      "   8  7.1432104e+01 2.78e+03 6.72e+06   1.9 2.67e+03    -  1.59e-01 1.36e-01f  1\n",
      "  12  1.1850529e+02 2.84e+03 1.34e+07   2.6 2.74e+03    -  1.20e-01 6.26e-02f  1\n",
      "  16  4.8253496e+02 3.13e+03 1.11e+06   1.9 3.22e+03    -  7.61e-01 1.00e+00f  1\n",
      "  20  2.7423536e+02 3.12e+03 7.92e+02  -1.0 3.21e+03    -  6.28e-01 1.00e+00h  1\n",
      "  24  1.8649239e+02 3.13e+03 3.67e+01  -1.1 3.10e+03    -  1.00e+00 1.00e+00h  1\n",
      "  28  1.5462517e+02 3.12e+03 3.31e+01  -2.1 2.85e+02    -  9.92e-01 5.38e-01h  1\n",
      "  32  1.4259495e+02 3.12e+03 6.47e+01  -1.7 3.13e+03    -  5.64e-01 1.00e+00h  1\n",
      "  36  1.2646882e+02 3.12e+03 1.20e+01  -2.7 3.12e+03    -  9.96e-01 1.00e+00h  1\n",
      "iter    objective    inf_pr   inf_du lg(mu)  ||d||  lg(rg) alpha_du alpha_pr  ls\n",
      "  40  1.1840824e+02 3.13e+03 1.12e+01  -1.9 3.13e+03    -  9.92e-01 1.00e+00h  1\n",
      "  44  1.1957068e+02 3.12e+03 2.13e+01  -2.0 1.97e+02    -  1.24e-01 1.00e+00h  1\n",
      "  48  1.1291120e+02 3.13e+03 2.24e+00  -2.4 3.13e+03    -  8.98e-01 1.00e+00h  1\n",
      "  52  1.1266966e+02 7.41e-01 1.59e+00  -3.1 3.11e+03    -  5.95e-01 1.00e+00h  1\n",
      "  56  1.1185309e+02 3.12e+03 4.88e-01  -4.2 3.13e+03    -  1.00e+00 1.00e+00h  1\n",
      "  60  1.1285455e+02 3.00e+03 4.60e+00  -3.7 3.12e+03    -  6.38e-02 5.39e-01h  1\n",
      "  64  1.1145756e+02 2.53e+03 1.62e+00  -4.3 3.13e+03    -  3.86e-01 8.13e-01h  1\n",
      "  68  1.1133134e+02 3.12e+03 5.40e-01  -3.4 7.54e+01    -  6.62e-01 9.27e-01h  1\n",
      "  72  1.1134105e+02 3.13e+03 2.95e+00  -3.7 3.13e+03    -  1.19e-01 1.00e+00h  1\n",
      "  76  1.1165634e+02 2.81e+03 4.01e+00  -3.7 3.10e+03    -  3.87e-02 9.88e-02h  1\n",
      "iter    objective    inf_pr   inf_du lg(mu)  ||d||  lg(rg) alpha_du alpha_pr  ls\n",
      "  80  1.1141577e+02 2.33e+03 2.24e+00  -3.7 1.95e+03    -  1.08e-01 5.63e-01h  1\n",
      "  84  1.1101948e+02 3.12e+03 3.39e-01  -3.6 3.13e+03    -  1.00e+00 1.00e+00h  1\n",
      "  88  1.1099299e+02 7.68e-03 1.11e-01  -4.2 3.49e+01    -  6.08e-01 6.53e-01h  1\n",
      "  92  1.1111503e+02 3.13e+03 1.63e+00  -4.3 3.13e+03    -  6.02e-01 3.77e-01h  1\n",
      "  96  1.1091114e+02 5.05e-04 3.49e-01  -4.8 3.12e+03    -  1.00e+00 1.00e+00h  1\n",
      " 100  1.1093368e+02 2.93e+03 7.17e-01  -4.7 3.13e+03    -  7.57e-02 6.24e-02h  1\n",
      " 104  1.1099864e+02 3.13e+03 9.94e-01  -3.9 3.12e+03    -  5.20e-01 1.00e+00h  1\n",
      " 108  1.1084095e+02 3.41e-03 2.21e-01  -4.6 5.41e+00    -  1.00e+00 1.00e+00h  1\n",
      " 112  1.1104551e+02 3.13e+03 1.01e+00  -3.8 1.96e+02    -  1.30e-01 6.66e-01h  1\n",
      " 116  1.1143423e+02 3.13e+03 2.94e+00  -4.7 1.82e+03    -  4.14e-02 1.54e-01h  1\n",
      "iter    objective    inf_pr   inf_du lg(mu)  ||d||  lg(rg) alpha_du alpha_pr  ls\n",
      " 120  1.1085158e+02 2.18e+03 9.44e-01  -4.7 2.19e+03    -  4.06e-01 2.42e-01h  1\n",
      " 124  1.1080370e+02 3.13e+03 1.80e-01  -5.2 3.12e+03    -  1.00e+00 1.00e+00h  1\n",
      " 128  1.1079296e+02 1.79e-03 1.06e-01  -6.0 4.73e+00    -  1.00e+00 1.00e+00h  1\n",
      "\n",
      "Number of Iterations....: 129\n",
      "\n",
      "                                   (scaled)                 (unscaled)\n",
      "Objective...............:   1.1079277059137485e+02    1.1079277059137485e+02\n",
      "Dual infeasibility......:   3.5926425828352038e-02    3.5926425828352038e-02\n",
      "Constraint violation....:   3.3182373798696472e-05    8.8900212517728505e-05\n",
      "Complementarity.........:   2.3686292079964198e-07    2.3686292079964198e-07\n",
      "Overall NLP error.......:   3.5926425828352038e-02    3.5926425828352038e-02\n",
      "\n",
      "\n",
      "Number of objective function evaluations             = 130\n",
      "Number of objective gradient evaluations             = 130\n",
      "Number of equality constraint evaluations            = 130\n",
      "Number of inequality constraint evaluations          = 130\n",
      "Number of equality constraint Jacobian evaluations   = 130\n",
      "Number of inequality constraint Jacobian evaluations = 130\n",
      "Number of Lagrangian Hessian evaluations             = 0\n",
      "Total CPU secs in IPOPT (w/o function evaluations)   =    118.536\n",
      "Total CPU secs in NLP function evaluations           =    268.168\n",
      "\n",
      "\n",
      "Timing Statistics:\n",
      "\n",
      "OverallAlgorithm....................:    386.703 (sys:     17.820 wall:    388.116)\n",
      " PrintProblemStatistics.............:      0.001 (sys:      0.000 wall:      0.001)\n",
      " InitializeIterates.................:      9.650 (sys:      0.252 wall:      9.713)\n",
      " UpdateHessian......................:      0.719 (sys:      0.025 wall:      0.748)\n",
      " OutputIteration....................:      0.002 (sys:      0.000 wall:      0.002)\n",
      " UpdateBarrierParameter.............:     66.920 (sys:     10.603 wall:     66.280)\n",
      " ComputeSearchDirection.............:     42.394 (sys:      6.087 wall:     43.247)\n",
      " ComputeAcceptableTrialPoint........:    185.630 (sys:      0.480 wall:    186.279)\n",
      " AcceptTrialPoint...................:      0.008 (sys:      0.007 wall:      0.015)\n",
      " CheckConvergence...................:     81.378 (sys:      0.366 wall:     81.828)\n",
      "PDSystemSolverTotal.................:    109.151 (sys:     16.611 wall:    109.283)\n",
      " PDSystemSolverSolveOnce............:    107.542 (sys:     16.489 wall:    107.551)\n",
      " ComputeResiduals...................:      1.513 (sys:      0.068 wall:      1.582)\n",
      " StdAugSystemSolverMultiSolve.......:    105.350 (sys:     15.824 wall:    104.473)\n",
      " LinearSystemScaling................:      0.000 (sys:      0.000 wall:      0.000)\n",
      " LinearSystemSymbolicFactorization..:      0.136 (sys:      0.036 wall:      0.188)\n",
      " LinearSystemFactorization..........:     75.766 (sys:     10.571 wall:     71.657)\n",
      " LinearSystemBackSolve..............:     27.269 (sys:      3.403 wall:     28.584)\n",
      " LinearSystemStructureConverter.....:      0.273 (sys:      0.010 wall:      0.284)\n",
      "  LinearSystemStructureConverterInit:      0.043 (sys:      0.009 wall:      0.053)\n",
      "QualityFunctionSearch...............:      0.072 (sys:      0.008 wall:      0.080)\n",
      "TryCorrector........................:      0.000 (sys:      0.000 wall:      0.000)\n",
      "Task1...............................:      0.016 (sys:      0.002 wall:      0.018)\n",
      "Task2...............................:      0.030 (sys:      0.001 wall:      0.031)\n",
      "Task3...............................:      0.003 (sys:      0.001 wall:      0.003)\n",
      "Task4...............................:      0.000 (sys:      0.000 wall:      0.000)\n",
      "Task5...............................:      0.017 (sys:      0.001 wall:      0.018)\n",
      "Function Evaluations................:    268.168 (sys:      0.759 wall:    269.181)\n",
      " Objective function.................:     22.496 (sys:      0.026 wall:     22.541)\n",
      " Objective function gradient........:      9.323 (sys:      0.012 wall:      9.345)\n",
      " Equality constraints...............:    163.081 (sys:      0.411 wall:    163.641)\n",
      " Inequality constraints.............:      1.220 (sys:      0.002 wall:      1.224)\n",
      " Equality constraint Jacobian.......:     72.045 (sys:      0.308 wall:     72.427)\n",
      " Inequality constraint Jacobian.....:      0.002 (sys:      0.000 wall:      0.002)\n",
      " Lagrangian Hessian.................:      0.000 (sys:      0.000 wall:      0.000)\n",
      "\n",
      "EXIT: Optimal Solution Found.\n"
     ]
    },
    {
     "name": "stderr",
     "output_type": "stream",
     "text": [
      "2021-08-23T11:41:58.525 | INFO | main_fte: Optimisation solver took 525.90s\n",
      "2021-08-23T11:41:58.552 | INFO | main_fte: Generate outputs...\n"
     ]
    },
    {
     "name": "stdout",
     "output_type": "stream",
     "text": [
      "shutter delay: [0.0, 0.003985556231358126, -0.00019033698735263467, 0.002210312440385494, 0.005946206444923116, -0.0013146939440031459]\n",
      "Saved /Users/zico/msc/dev/AcinoSet/data/2017_08_29/top/jules/run1_1/fte_pw/fte.pickle\n"
     ]
    },
    {
     "name": "stderr",
     "output_type": "stream",
     "text": [
      "2021-08-23T11:42:13.001 | INFO | main_fte: Done\n"
     ]
    },
    {
     "name": "stdout",
     "output_type": "stream",
     "text": [
      "Saved /Users/zico/msc/dev/AcinoSet/data/2017_08_29/top/jules/run1_1/fte_pw/cam*_fte.h5\n",
      "Saved /Users/zico/msc/dev/AcinoSet/data/2017_08_29/top/jules/run1_1/fte_pw/cam*_fte.csv\n",
      "\n"
     ]
    }
   ],
   "source": [
    "# Run the optimisation\n",
    "main_fte.run(root_dir, data_path, start_frame, end_frame, dlc_thresh, drop_out_frame_ranges = (), filtered_markers=filtered_markers, init_ekf=False, single_view=0, pairwise_included=2, generate_reprojection_videos=False, out_dir_prefix=\"/Users/zico/msc/dev/AcinoSet/data\")"
   ]
  },
  {
   "cell_type": "code",
   "execution_count": 10,
   "metadata": {},
   "outputs": [
    {
     "name": "stderr",
     "output_type": "stream",
     "text": [
      "2021-08-23T12:43:46.281 | WARNING | main_fte: No ground truth labels for this test.\n"
     ]
    },
    {
     "name": "stdout",
     "output_type": "stream",
     "text": [
      "Loaded extrinsics from /Users/zico/OneDrive - University of Cape Town/CheetahReconstructionResults/cheetah_videos/2017_08_29/top/extrinsic_calib/6_cam_scene_sba.json\n",
      "\n"
     ]
    },
    {
     "data": {
      "text/plain": [
       "(               count       mean        std       min       25%        50%  \\\n",
       " nose           446.0   3.821173   2.471938  0.190591  2.082659   3.213389   \n",
       " r_eye          331.0   3.498064   1.958116  0.379138  1.906839   3.099069   \n",
       " l_eye          265.0   3.945454   3.052461  0.112559  1.868314   3.135198   \n",
       " neck_base      446.0   9.623861   7.688877  0.272522  4.287229   7.449093   \n",
       " spine          506.0  11.436612  42.196256  0.066827  3.931706   7.610038   \n",
       " tail_base      451.0  14.750210  44.818082  0.291895  5.856927   9.679008   \n",
       " tail1          464.0  13.444480  36.146645  0.301425  4.939299   8.487273   \n",
       " tail2          475.0  12.576696  64.582818  0.188433  2.152301   3.413843   \n",
       " r_shoulder     292.0   6.667517   3.413144  0.027631  4.023688   6.485555   \n",
       " r_front_knee   342.0   9.783398   9.064296  0.326014  4.946087   7.615946   \n",
       " r_front_ankle  445.0  15.753520  15.986168  0.493939  6.245118  10.948095   \n",
       " r_front_paw    466.0  16.462268  20.807986  0.495248  6.554478  10.663510   \n",
       " l_shoulder     194.0  13.702420  10.547238  0.402051  5.735004  11.346057   \n",
       " l_front_knee   244.0  13.481541   9.217241  0.880850  6.876433  10.832579   \n",
       " l_front_ankle  384.0  14.295259  13.742057  0.382202  7.170252  10.920048   \n",
       " l_front_paw    375.0  15.928421  19.040131  0.192789  5.887992  10.000954   \n",
       " r_hip          297.0   9.500915   7.095602  0.222436  4.358486   8.039714   \n",
       " r_back_knee    317.0  12.076457  11.007003  0.510441  7.340875  10.580181   \n",
       " r_back_ankle   383.0   8.715103  10.327732  0.248436  3.650444   5.996196   \n",
       " r_back_paw     414.0  12.339073  16.346115  0.795403  5.308206   8.001499   \n",
       " l_hip          170.0  19.949398  17.838357  1.105018  7.372863  13.139642   \n",
       " l_back_knee    250.0  20.357157  16.895986  1.548467  8.995078  12.926119   \n",
       " l_back_ankle   362.0   9.701860  10.075234  0.347443  4.904813   7.380261   \n",
       " l_back_paw     393.0  12.277204  10.537514  0.313189  4.859493  10.030700   \n",
       " \n",
       "                      75%         max  \n",
       " nose            5.073631   16.467396  \n",
       " r_eye           4.809073    8.842903  \n",
       " l_eye           4.926977   20.071512  \n",
       " neck_base      12.007116   41.877759  \n",
       " spine          13.519815  944.957277  \n",
       " tail_base      15.366973  939.365490  \n",
       " tail1          13.922290  753.228278  \n",
       " tail2           4.944240  736.365161  \n",
       " r_shoulder      8.914773   17.417788  \n",
       " r_front_knee   11.784200   63.927765  \n",
       " r_front_ankle  20.465357  110.072333  \n",
       " r_front_paw    20.021753  213.141703  \n",
       " l_shoulder     17.485932   53.939426  \n",
       " l_front_knee   17.699262   45.640796  \n",
       " l_front_ankle  16.489286  174.920153  \n",
       " l_front_paw    17.482788  165.794632  \n",
       " r_hip          13.579836   74.909955  \n",
       " r_back_knee    14.803521  179.305000  \n",
       " r_back_ankle   10.107352  110.899031  \n",
       " r_back_paw     12.199884  120.371276  \n",
       " l_hip          29.075863   93.233664  \n",
       " l_back_knee    26.469555   73.411914  \n",
       " l_back_ankle   10.798038   77.777882  \n",
       " l_back_paw     16.270269   71.893355  ,\n",
       "         nose      r_eye      l_eye  neck_base      spine  tail_base     tail1  \\\n",
       " %  76.567657  68.371837  64.411441  76.567657  77.667767   76.89769  76.89769   \n",
       " \n",
       "        tail2  r_shoulder  r_front_knee  ...  l_front_ankle  l_front_paw  \\\n",
       " %  75.742574   68.536854     70.517052  ...      71.672167    72.607261   \n",
       " \n",
       "        r_hip  r_back_knee  r_back_ankle  r_back_paw      l_hip  l_back_knee  \\\n",
       " %  68.756876    70.242024     73.432343   75.522552  62.046205     68.70187   \n",
       " \n",
       "    l_back_ankle  l_back_paw  \n",
       " %     70.682068   73.487349  \n",
       " \n",
       " [1 rows x 24 columns])"
      ]
     },
     "execution_count": 10,
     "metadata": {},
     "output_type": "execute_result"
    },
    {
     "name": "stderr",
     "output_type": "stream",
     "text": [
      "/Users/zico/opt/anaconda3/envs/pypy/lib_pypy/_functools.py:80: MatplotlibDeprecationWarning: savefig() got unexpected keyword argument \"orientation\" which is no longer supported as of 3.3 and will become an error two minor releases later\n",
      "  return self._func(*(self._args + fargs), **fkeywords)\n"
     ]
    },
    {
     "data": {
      "image/png": "[encoded data removed]",
      "text/plain": [
       "<Figure size 432x288 with 1 Axes>"
      ]
     },
     "metadata": {
      "needs_background": "light"
     },
     "output_type": "display_data"
    },
    {
     "data": {
      "image/png": "[encoded data removed]",
      "text/plain": [
       "<Figure size 432x288 with 1 Axes>"
      ]
     },
     "metadata": {
      "needs_background": "light"
     },
     "output_type": "display_data"
    }
   ],
   "source": [
    "main_fte.metrics(root_dir, data_path, start_frame, end_frame, dlc_thresh, out_dir_prefix=\"/Users/zico/msc/dev/AcinoSet/data\")"
   ]
  },
  {
   "cell_type": "code",
   "execution_count": null,
   "metadata": {},
   "outputs": [],
   "source": [
    "dummy_scene = \"/Users/zico/OneDrive - University of Cape Town/CheetahReconstructionResults/cheetah_videos/2017_08_29/top/extrinsic_calib/6_cam_scene_sba.json\"\n",
    "main_fte.plot_trajectory(\"/Users/zico/msc/dev/monocular_estimation/data/synthesized.pickle\", dummy_scene)"
   ]
  },
  {
   "cell_type": "code",
   "execution_count": null,
   "metadata": {},
   "outputs": [],
   "source": [
    "# Compare the optimisation with previous results i.e. compare the output pickle file fte.pickle. This is a visual inspection.abs\n",
    "main_fte.plot_cheetah(root_dir, data_path, out_dir_prefix=\"/Users/zico/msc/dev/AcinoSet/data\")"
   ]
  },
  {
   "cell_type": "code",
   "execution_count": null,
   "metadata": {},
   "outputs": [],
   "source": [
    "# Compare the optimisation with previous results i.e. compare the output pickle file fte.pickle. This is a visual inspection.abs\n",
    "main_fte.compare_cheetahs(\"/Users/zico/msc/dev/monocular_estimation/lily_discrete_trajectory.pickle\", root_dir, data_path, out_dir_prefix=\"/Users/zico/msc/dev/AcinoSet/data\")"
   ]
  },
  {
   "cell_type": "code",
   "execution_count": null,
   "metadata": {},
   "outputs": [],
   "source": [
    "eval_dir = os.path.join(\"/Users/zico/msc/dev/AcinoSet/data\", data_path, \"fte_pw\")\n",
    "data = data_ops.load_pickle(os.path.join(eval_dir, \"fte.pickle\"))\n",
    "results_dir = os.path.join(eval_dir, \"evaluation\")\n",
    "os.makedirs(eval_dir, exist_ok=True)\n",
    "max_delta_acc = evaluate_fte.eval_delta_acc(data, results_dir)\n",
    "evaluate_fte.eval_model_error(data, results_dir)\n",
    "evaluate_fte.eval_meas_error(data, results_dir)\n",
    "logger.info(max_delta_acc)"
   ]
  },
  {
   "cell_type": "code",
   "execution_count": null,
   "metadata": {},
   "outputs": [],
   "source": [
    "fig_fpath = os.path.join(os.path.join(os.path.join(\"..\", \"data\"), data_path, \"fte_pw\"), 'fte.svg')\n",
    "pw_file = data_ops.load_pickle(os.path.join(os.path.join(\"..\", \"data\"), data_path, \"fte_pw\", \"fte.pickle\"))\n",
    "app.plot_cheetah_states(pw_file[\"x\"], out_fpath=fig_fpath)"
   ]
  },
  {
   "cell_type": "code",
   "execution_count": null,
   "metadata": {},
   "outputs": [],
   "source": [
    "main_fte.plot_cost_functions()"
   ]
  },
  {
   "cell_type": "code",
   "execution_count": null,
   "metadata": {},
   "outputs": [],
   "source": []
  }
 ],
 "metadata": {
  "interpreter": {
   "hash": "aee8b7b246df8f9039afb4144a1f6fd8d2ca17a180786b69acc140d282b71a49"
  },
  "kernelspec": {
   "display_name": "Python [conda env:pypy] *",
   "language": "python",
   "name": "conda-env-pypy-py"
  },
  "language_info": {
   "codemirror_mode": {
    "name": "ipython",
    "version": 3
   },
   "file_extension": ".py",
   "mimetype": "text/x-python",
   "name": "python",
   "nbconvert_exporter": "python",
   "pygments_lexer": "ipython3",
   "version": "3.7.10"
  },
  "metadata": {
   "interpreter": {
    "hash": "aee8b7b246df8f9039afb4144a1f6fd8d2ca17a180786b69acc140d282b71a49"
   }
  }
 },
 "nbformat": 4,
 "nbformat_minor": 4
}
