{
 "cells": [
  {
   "cell_type": "code",
   "execution_count": 1,
   "metadata": {},
   "outputs": [
    {
     "name": "stdout",
     "output_type": "stream",
     "text": [
      "The autoreload extension is already loaded. To reload it, use:\n",
      "  %reload_ext autoreload\n"
     ]
    }
   ],
   "source": [
    "import os\n",
    "from glob import glob\n",
    "\n",
    "import pairwise_fte\n",
    "from all_optimizations import ekf\n",
    "from lib.app import create_labeled_videos\n",
    "\n",
    "%load_ext autoreload\n",
    "%autoreload 2\n",
    "\n",
    "%matplotlib inline\n",
    "\n",
    "root_dir = os.path.join(\"..\", \"data\")\n",
    "# If you are running the code remotely on the Linux i9.\n",
    "# root_dir = os.path.join(\"/\",\"data\", \"dlc\", \"to_analyse\", \"cheetah_videos\")"
   ]
  },
  {
   "cell_type": "code",
   "execution_count": null,
   "metadata": {},
   "outputs": [],
   "source": [
    "# Generate the pose functions if this has not been done before (note this should only be performed once). It will be saved in the root_dir.\n",
    "functions = pairwise_fte.create_pose_functions(root_dir)"
   ]
  },
  {
   "cell_type": "code",
   "execution_count": 2,
   "metadata": {},
   "outputs": [],
   "source": [
    "# Configurations for the optimisation.\n",
    "data_path = os.path.join(\"2017_08_29\", \"top\", \"jules\", \"run1_1\")\n",
    "start_frame = 20\n",
    "end_frame = 120\n",
    "dlc_thresh = 0.5"
   ]
  },
  {
   "cell_type": "code",
   "execution_count": null,
   "metadata": {
    "tags": [
     "outputPrepend"
    ]
   },
   "outputs": [
    {
     "name": "stderr",
     "output_type": "stream",
     "text": [
      "2021-06-22T17:06:01.444 | INFO | pairwise_fte: Prepare data - Start\n"
     ]
    },
    {
     "name": "stdout",
     "output_type": "stream",
     "text": [
      "Loaded extrinsics from ../data/2017_08_29/extrinsic_calib/6_cam_scene_sba.json\n",
      "\n"
     ]
    },
    {
     "name": "stderr",
     "output_type": "stream",
     "text": [
      "2021-06-22T17:06:02.462 | INFO | pairwise_fte: Start frame: 19, End frame: 120, Frame rate: 90\n",
      "2021-06-22T17:06:02.518 | INFO | pairwise_fte: Load H5 2D DLC prediction data\n"
     ]
    },
    {
     "name": "stdout",
     "output_type": "stream",
     "text": [
      "Found 2070 pairwise points between camera 0 and 1\n",
      "Found 1729 pairwise points between camera 1 and 2\n",
      "Found 1016 pairwise points between camera 2 and 3\n",
      "Found 785 pairwise points between camera 3 and 4\n"
     ]
    },
    {
     "name": "stderr",
     "output_type": "stream",
     "text": [
      "2021-06-22T17:06:03.515 | INFO | pairwise_fte: Estimate the initial trajectory\n",
      "2021-06-22T17:06:03.534 | INFO | pairwise_fte: Prepare data - End\n",
      "2021-06-22T17:06:03.537 | INFO | pairwise_fte: Setup optimisation - Start\n"
     ]
    },
    {
     "name": "stdout",
     "output_type": "stream",
     "text": [
      "Found 767 pairwise points between camera 4 and 5\n",
      "Found 903 pairwise points between camera 5 and 0\n",
      "\n"
     ]
    },
    {
     "name": "stderr",
     "output_type": "stream",
     "text": [
      "2021-06-22T17:06:04.413 | INFO | pairwise_fte: Measurement initialisation...Done\n",
      "2021-06-22T17:06:08.299 | INFO | pairwise_fte: Variable initialisation...Done\n",
      "2021-06-22T17:06:32.760 | INFO | pairwise_fte: Constaint initialisation...Done\n",
      "2021-06-22T17:06:35.163 | INFO | pairwise_fte: Objective initialisation...Done\n",
      "2021-06-22T17:06:35.166 | INFO | pairwise_fte: Setup optimisation - End\n",
      "2021-06-22T17:06:35.169 | INFO | pairwise_fte: Initialisation took 33.72s\n"
     ]
    },
    {
     "name": "stdout",
     "output_type": "stream",
     "text": [
      "Ipopt 3.13.3: print_level=5\n",
      "max_iter=10000\n",
      "max_cpu_time=10000\n",
      "Tol=0.1\n",
      "linear_solver=ma86\n",
      "option_file_name=/var/folders/_2/61j71l3s06zfdc543275_g8w0000gn/T/tmpc3c3wthe_ipopt.opt\n",
      "\n",
      "Using option file \"/var/folders/_2/61j71l3s06zfdc543275_g8w0000gn/T/tmpc3c3wthe_ipopt.opt\".\n",
      "\n",
      "\n",
      "******************************************************************************\n",
      "This program contains Ipopt, a library for large-scale nonlinear optimization.\n",
      " Ipopt is released as open source code under the Eclipse Public License (EPL).\n",
      "         For more information visit https://github.com/coin-or/Ipopt\n",
      "******************************************************************************\n",
      "\n",
      "This is Ipopt version 3.13.3, running with linear solver ma86.\n",
      "\n",
      "Number of nonzeros in equality constraint Jacobian...:   245826\n",
      "Number of nonzeros in inequality constraint Jacobian.:     2525\n",
      "Number of nonzeros in Lagrangian Hessian.............:        0\n",
      "\n",
      "Total number of variables............................:    59360\n",
      "                     variables with only lower bounds:        0\n",
      "                variables with lower and upper bounds:        0\n",
      "                     variables with only upper bounds:        0\n",
      "Total number of equality constraints.................:    53460\n",
      "Total number of inequality constraints...............:     2525\n",
      "        inequality constraints with only lower bounds:        0\n",
      "   inequality constraints with lower and upper bounds:        0\n",
      "        inequality constraints with only upper bounds:     2525\n",
      "\n",
      "iter    objective    inf_pr   inf_du lg(mu)  ||d||  lg(rg) alpha_du alpha_pr  ls\n",
      "   0 -6.2276615e+00 2.52e+03 3.86e-02   0.0 0.00e+00    -  0.00e+00 0.00e+00   0\n",
      "   8  5.4057460e+01 3.13e+03 1.79e+00  -7.3 2.00e+02  -7.3 5.05e-01 1.00e+00f  1\n",
      "  18  5.3962419e+01 3.13e+03 1.37e+00  -1.8 3.09e+03 -12.1 2.54e-01 5.71e-01h  1\n",
      "  27  4.3839111e+01 3.13e+03 2.31e-01  -2.4 3.14e+03 -16.4 8.32e-01 1.00e+00h  1\n",
      "  36  4.1590306e+01 3.13e+03 1.19e-01  -3.5 3.12e+03 -20.0 6.05e-01 7.14e-01h  1\n",
      "  45  4.0382824e+01 3.11e+03 6.90e-03  -4.3 3.12e+03 -20.0 1.00e+00 1.00e+00h  1\n",
      "  55  4.0179941e+01 3.13e+03 7.68e-02  -3.5 2.04e+03 -20.0 7.20e-01 1.00e+00h  1\n",
      "  65  3.9848095e+01 3.13e+03 1.14e-02  -3.7 3.12e+03 -20.0 1.00e+00 1.00e+00h  1\n",
      "  74  3.9693791e+01 4.28e-03 1.31e-02  -4.1 7.49e+00 -20.0 1.00e+00 8.32e-01h  1\n",
      "  84  3.9577689e+01 3.12e+03 1.56e-02  -4.9 1.40e+01 -20.0 9.54e-01 5.71e-01h  1\n",
      "iter    objective    inf_pr   inf_du lg(mu)  ||d||  lg(rg) alpha_du alpha_pr  ls\n",
      "  94  3.9524400e+01 3.20e-03 2.24e-02  -5.0 3.11e+03 -20.0 6.51e-01 1.00e+00h  1\n",
      " 104  3.9472430e+01 4.94e-04 2.56e-03  -5.6 6.52e+00 -20.0 1.00e+00 9.98e-01h  1\n",
      " 113  3.9454504e+01 3.14e-04 2.18e-03  -6.1 2.78e+00 -20.0 1.00e+00 1.00e+00h  1\n",
      " 122  3.9444175e+01 5.04e-03 4.31e-03  -5.4 7.76e+00 -20.0 7.16e-01 1.00e+00h  1\n",
      "\n",
      "Number of Iterations....: 123\n",
      "\n",
      "                                   (scaled)                 (unscaled)\n",
      "Objective...............:   3.9444154616623365e+01    3.9444154616623365e+01\n",
      "Dual infeasibility......:   4.4007925684359794e-04    4.4007925684359794e-04\n",
      "Constraint violation....:   2.1024118983525852e-05    5.8065301146825725e-05\n",
      "Complementarity.........:   1.9229775524392543e-06    1.9229775524392543e-06\n",
      "Overall NLP error.......:   4.4007925684359794e-04    4.4007925684359794e-04\n",
      "\n",
      "\n",
      "Number of objective function evaluations             = 124\n",
      "Number of objective gradient evaluations             = 124\n",
      "Number of equality constraint evaluations            = 124\n",
      "Number of inequality constraint evaluations          = 124\n",
      "Number of equality constraint Jacobian evaluations   = 124\n",
      "Number of inequality constraint Jacobian evaluations = 124\n",
      "Number of Lagrangian Hessian evaluations             = 0\n",
      "Total CPU secs in IPOPT (w/o function evaluations)   =     58.995\n",
      "Total CPU secs in NLP function evaluations           =     83.499\n",
      "\n",
      "\n",
      "Timing Statistics:\n",
      "\n",
      "OverallAlgorithm....................:    142.493 (sys:     11.447 wall:    141.821)\n",
      " PrintProblemStatistics.............:      0.000 (sys:      0.000 wall:      0.000)\n",
      " InitializeIterates.................:      3.354 (sys:      0.215 wall:      3.306)\n",
      " UpdateHessian......................:      0.248 (sys:      0.005 wall:      0.255)\n",
      " OutputIteration....................:      0.002 (sys:      0.000 wall:      0.002)\n",
      " UpdateBarrierParameter.............:     32.527 (sys:      6.708 wall:     31.727)\n",
      " ComputeSearchDirection.............:     23.213 (sys:      4.317 wall:     23.100)\n",
      " ComputeAcceptableTrialPoint........:     58.418 (sys:      0.096 wall:     58.571)\n",
      " AcceptTrialPoint...................:      0.006 (sys:      0.001 wall:      0.006)\n",
      " CheckConvergence...................:     24.725 (sys:      0.105 wall:     24.854)\n",
      "PDSystemSolverTotal.................:     55.667 (sys:     11.003 wall:     54.729)\n",
      " PDSystemSolverSolveOnce............:     55.148 (sys:     10.994 wall:     54.201)\n",
      " ComputeResiduals...................:      0.474 (sys:      0.005 wall:      0.479)\n",
      " StdAugSystemSolverMultiSolve.......:     54.284 (sys:     10.753 wall:     52.815)\n",
      " LinearSystemScaling................:      0.000 (sys:      0.000 wall:      0.000)\n",
      " LinearSystemSymbolicFactorization..:      0.035 (sys:      0.007 wall:      0.045)\n",
      " LinearSystemFactorization..........:     41.618 (sys:      8.208 wall:     38.871)\n",
      " LinearSystemBackSolve..............:     11.571 (sys:      1.702 wall:     12.000)\n",
      " LinearSystemStructureConverter.....:      0.117 (sys:      0.005 wall:      0.122)\n",
      "  LinearSystemStructureConverterInit:      0.020 (sys:      0.004 wall:      0.024)\n",
      "QualityFunctionSearch...............:      0.034 (sys:      0.006 wall:      0.040)\n",
      "TryCorrector........................:      0.000 (sys:      0.000 wall:      0.000)\n",
      "Task1...............................:      0.006 (sys:      0.001 wall:      0.007)\n",
      "Task2...............................:      0.014 (sys:      0.001 wall:      0.014)\n",
      "Task3...............................:      0.001 (sys:      0.001 wall:      0.002)\n",
      "Task4...............................:      0.000 (sys:      0.000 wall:      0.000)\n",
      "Task5...............................:      0.008 (sys:      0.001 wall:      0.009)\n",
      "Function Evaluations................:     83.499 (sys:      0.175 wall:     83.759)\n",
      " Objective function.................:      6.109 (sys:      0.008 wall:      6.123)\n",
      " Objective function gradient........:      2.933 (sys:      0.005 wall:      2.942)\n",
      " Equality constraints...............:     52.248 (sys:      0.067 wall:     52.367)\n",
      " Inequality constraints.............:      0.400 (sys:      0.002 wall:      0.405)\n",
      " Equality constraint Jacobian.......:     21.807 (sys:      0.093 wall:     21.920)\n",
      " Inequality constraint Jacobian.....:      0.002 (sys:      0.000 wall:      0.002)\n",
      " Lagrangian Hessian.................:      0.000 (sys:      0.000 wall:      0.000)\n",
      "\n",
      "EXIT: Optimal Solution Found.\n"
     ]
    },
    {
     "name": "stderr",
     "output_type": "stream",
     "text": [
      "2021-06-22T17:09:40.121 | INFO | pairwise_fte: Optimisation solver took 184.95s\n",
      "2021-06-22T17:09:40.124 | INFO | pairwise_fte: Generate outputs...\n"
     ]
    },
    {
     "name": "stdout",
     "output_type": "stream",
     "text": [
      "Saved ../data/2017_08_29/top/jules/run1_1/fte_pw/fte.pickle\n",
      "Saved ../data/2017_08_29/top/jules/run1_1/fte_pw/cam*_fte.h5\n",
      "Saved ../data/2017_08_29/top/jules/run1_1/fte_pw/cam*_fte.csv\n",
      "\n",
      "Saving labeled videos...\n",
      "Loading cam1 and data.\n",
      "Loading cam3 and data.Loading cam2 and data.\n",
      "\n",
      "Loading cam4 and data.\n",
      "Loading cam5 and data.Loading cam6 and data.\n",
      "\n",
      "\n",
      "Duration of video: 1.59 s, recorded with 90.0 fps!\n",
      "Duration of video: 1.59 s, recorded with 90.0 fps!\n",
      "Duration of video: 1.59 s, recorded with 90.0 fps!\n"
     ]
    }
   ],
   "source": [
    "# Run the optimisation\n",
    "pairwise_fte.run(root_dir, data_path, start_frame, end_frame, dlc_thresh, generate_reprojection_videos=True)"
   ]
  },
  {
   "cell_type": "code",
   "execution_count": null,
   "metadata": {},
   "outputs": [],
   "source": [
    "# Create 2D reprojection videos.\n",
    "video_fpaths = sorted(glob(os.path.join(root_dir, data_path, \"cam[1-9].mp4\"))) # original vids should be in the parent dir\n",
    "create_labeled_videos(video_fpaths, out_dir=os.path.join(root_dir, data_path, \"fte_pw\"), draw_skeleton=True, pcutoff=dlc_thresh)"
   ]
  },
  {
   "cell_type": "code",
   "execution_count": null,
   "metadata": {},
   "outputs": [],
   "source": [
    "# Compare the optimisation with previous results i.e. compare the output pickle file fte.pickle. This is a visual inspection.abs\n",
    "orig_file = os.path.join(root_dir, data_path, \"ekf\", \"ekf.pickle\")\n",
    "pw_file = os.path.join(root_dir, data_path, \"fte_pw\", \"fte.pickle\")\n",
    "pairwise_fte.compare(orig_file, pw_file)"
   ]
  },
  {
   "cell_type": "code",
   "execution_count": null,
   "metadata": {},
   "outputs": [],
   "source": [
    "# DEBUB purposes - if you want to display particular frames to inspect the measurements that are incorporated in the optimisation process.\n",
    "# The camera to use.\n",
    "cam_num = 1\n",
    "# The measurements to display 1 - base prediction, 2 - 3 pairwise measurements. Max is 3.\n",
    "pw_values = (1, 2, 3)\n",
    "# Frame number to display.\n",
    "frame_num = 110\n",
    "pairwise_fte.display_test_image(data_dir, cam_num, pw_values, frame_num)"
   ]
  },
  {
   "cell_type": "code",
   "execution_count": null,
   "metadata": {},
   "outputs": [],
   "source": []
  }
 ],
 "metadata": {
  "kernelspec": {
   "display_name": "Python [conda env:pypy]",
   "language": "python",
   "name": "conda-env-pypy-py"
  },
  "language_info": {
   "codemirror_mode": {
    "name": "ipython",
    "version": 3
   },
   "file_extension": ".py",
   "mimetype": "text/x-python",
   "name": "python",
   "nbconvert_exporter": "python",
   "pygments_lexer": "ipython3",
   "version": "3.7.10"
  },
  "metadata": {
   "interpreter": {
    "hash": "767d51c1340bd893661ea55ea3124f6de3c7a262a8b4abca0554b478b1e2ff90"
   }
  }
 },
 "nbformat": 4,
 "nbformat_minor": 4
}
