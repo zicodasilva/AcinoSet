{
 "cells": [
  {
   "cell_type": "code",
   "execution_count": 2,
   "metadata": {},
   "outputs": [
    {
     "name": "stdout",
     "output_type": "stream",
     "text": [
      "The autoreload extension is already loaded. To reload it, use:\n",
      "  %reload_ext autoreload\n"
     ]
    }
   ],
   "source": [
    "import os\n",
    "from glob import glob\n",
    "\n",
    "import main_fte\n",
    "from py_utils import data_ops\n",
    "import evaluate_fte\n",
    "from lib import app\n",
    "\n",
    "os.environ[\"LOG_LOC\"] = str(main_fte.__file__)\n",
    "from py_utils import log\n",
    "\n",
    "%load_ext autoreload\n",
    "%autoreload 2\n",
    "\n",
    "%matplotlib inline\n",
    "\n",
    "# root_dir = os.path.join(\"..\", \"data\")\n",
    "root_dir = os.path.join(\"/Users/zico/OneDrive - University of Cape Town/CheetahReconstructionResults/cheetah_videos\")\n",
    "# If you are running the code remotely on the Linux i9.\n",
    "# root_dir = os.path.join(\"/\",\"data\", \"dlc\", \"to_analyse\", \"cheetah_videos\")\n",
    "logger = log.logger(\"main\")"
   ]
  },
  {
   "cell_type": "code",
   "execution_count": null,
   "metadata": {},
   "outputs": [],
   "source": [
    "# Generate the pose functions if this has not been done before (note this should only be performed once). It will be saved in the root_dir.\n",
    "functions = main_fte.create_pose_functions(root_dir)"
   ]
  },
  {
   "cell_type": "code",
   "execution_count": 3,
   "metadata": {},
   "outputs": [],
   "source": [
    "# Configurations for the optimisation.\n",
    "# 2017_08_29/top/jules/run1_1\n",
    "# 2017_09_02/top/phantom/run1_3\n",
    "# 2017_09_02/top/jules/run1\n",
    "# 2017_08_29/top/phantom/run1_1\n",
    "data_path = os.path.join(\"2017_09_02\", \"top\", \"jules\", \"run1\")\n",
    "start_frame = 21\n",
    "end_frame = 100\n",
    "cam_idx = 1\n",
    "dlc_thresh = 0.5"
   ]
  },
  {
   "cell_type": "code",
   "execution_count": 5,
   "metadata": {
    "tags": [
     "outputPrepend"
    ]
   },
   "outputs": [
    {
     "name": "stderr",
     "output_type": "stream",
     "text": [
      "2021-10-06T08:14:19.699 | INFO | main_fte: Prepare data - Start\n"
     ]
    },
    {
     "name": "stdout",
     "output_type": "stream",
     "text": [
      "Loaded extrinsics from /Users/zico/OneDrive - University of Cape Town/CheetahReconstructionResults/cheetah_videos/2017_09_02/top/extrinsic_calib/6_cam_scene_sba.json\n",
      "\n"
     ]
    },
    {
     "name": "stderr",
     "output_type": "stream",
     "text": [
      "2021-10-06T08:14:20.314 | INFO | main_fte: Load H5 2D DLC prediction data\n"
     ]
    },
    {
     "name": "stdout",
     "output_type": "stream",
     "text": [
      "Found 2276 pairwise points between camera 0 and 1\n",
      "Found 1812 pairwise points between camera 1 and 2\n",
      "Found 869 pairwise points between camera 2 and 3\n",
      "Found 429 pairwise points between camera 3 and 4\n"
     ]
    },
    {
     "name": "stderr",
     "output_type": "stream",
     "text": [
      "2021-10-06T08:14:20.688 | INFO | main_fte: Estimate the initial trajectory\n"
     ]
    },
    {
     "name": "stdout",
     "output_type": "stream",
     "text": [
      "Found 471 pairwise points between camera 4 and 5\n",
      "Found 706 pairwise points between camera 5 and 0\n",
      "\n"
     ]
    },
    {
     "name": "stderr",
     "output_type": "stream",
     "text": [
      "2021-10-06T08:14:20.879 | INFO | main_fte: Prepare data - End\n",
      "2021-10-06T08:14:20.883 | INFO | main_fte: Start frame: 20, End frame: 100, Frame rate: 90\n",
      "2021-10-06T08:14:20.886 | INFO | main_fte: Setup optimisation - Start\n",
      "2021-10-06T08:14:25.465 | INFO | lib.misc: PCA trained for 9 components (86.18%) with reconstruction error [mm]: 104.0434\n",
      "2021-10-06T08:14:25.585 | INFO | main_fte: Measurement initialisation...Done\n",
      "2021-10-06T08:14:28.160 | INFO | main_fte: Variable initialisation...Done\n",
      "2021-10-06T08:14:47.902 | INFO | main_fte: Constaint initialisation...Done\n",
      "2021-10-06T08:14:48.209 | INFO | main_fte: Objective initialisation...Done\n",
      "2021-10-06T08:14:48.212 | INFO | main_fte: Setup optimisation - End\n",
      "2021-10-06T08:14:48.214 | INFO | main_fte: Initialisation took 28.51s\n"
     ]
    },
    {
     "name": "stdout",
     "output_type": "stream",
     "text": [
      "Ipopt 3.13.3: print_level=5\n",
      "max_iter=400\n",
      "max_cpu_time=10000\n",
      "Tol=0.1\n",
      "linear_solver=ma86\n",
      "option_file_name=/var/folders/_2/61j71l3s06zfdc543275_g8w0000gn/T/tmpxdwj9ihs_ipopt.opt\n",
      "\n",
      "Using option file \"/var/folders/_2/61j71l3s06zfdc543275_g8w0000gn/T/tmpxdwj9ihs_ipopt.opt\".\n",
      "\n",
      "\n",
      "******************************************************************************\n",
      "This program contains Ipopt, a library for large-scale nonlinear optimization.\n",
      " Ipopt is released as open source code under the Eclipse Public License (EPL).\n",
      "         For more information visit https://github.com/coin-or/Ipopt\n",
      "******************************************************************************\n",
      "\n",
      "This is Ipopt version 3.13.3, running with linear solver ma86.\n",
      "\n",
      "Number of nonzeros in equality constraint Jacobian...:    93723\n",
      "Number of nonzeros in inequality constraint Jacobian.:      160\n",
      "Number of nonzeros in Lagrangian Hessian.............:        0\n",
      "\n",
      "Total number of variables............................:    13760\n",
      "                     variables with only lower bounds:        0\n",
      "                variables with lower and upper bounds:        0\n",
      "                     variables with only upper bounds:        0\n",
      "Total number of equality constraints.................:    12681\n",
      "Total number of inequality constraints...............:      160\n",
      "        inequality constraints with only lower bounds:        0\n",
      "   inequality constraints with lower and upper bounds:      160\n",
      "        inequality constraints with only upper bounds:        0\n",
      "\n",
      "iter    objective    inf_pr   inf_du lg(mu)  ||d||  lg(rg) alpha_du alpha_pr  ls\n",
      "   0 -8.2213353e-01 1.28e+03 2.39e-05   0.0 0.00e+00    -  0.00e+00 0.00e+00   0\n",
      "  10  1.0539154e+01 1.34e+00 5.00e-01  -3.4 6.89e+01    -  3.44e-01 6.18e-01h  1\n",
      "  20  6.7237976e+00 1.64e-01 2.90e-02  -2.8 5.34e+01    -  1.00e+00 9.93e-01h  1\n",
      "  30  6.1296459e+00 2.06e-02 2.42e-02  -9.8 1.75e+02    -  3.25e-01 1.98e-01h  1\n",
      "  40  5.8505189e+00 5.28e-01 7.45e-03  -4.4 2.50e+01    -  1.00e+00 1.00e+00h  1\n",
      "  50  5.6990555e+00 1.96e-01 1.36e-02  -3.7 3.61e+01    -  1.00e+00 1.00e+00h  1\n",
      "  60  5.6079493e+00 1.98e-01 9.69e-02  -4.2 7.37e+01    -  7.25e-01 1.00e+00h  1\n",
      "  70  5.5640603e+00 1.19e-01 4.27e-02  -3.8 2.51e+02    -  6.91e-01 5.55e-01h  1\n",
      "  80  5.5075248e+00 8.01e-01 8.97e-02  -4.0 8.73e+01    -  2.19e-01 3.45e-01h  1\n",
      "  90  5.4278472e+00 3.90e-01 6.34e-02  -4.2 6.55e+01    -  1.00e+00 9.38e-01h  1\n",
      "iter    objective    inf_pr   inf_du lg(mu)  ||d||  lg(rg) alpha_du alpha_pr  ls\n",
      " 100  5.1965494e+00 2.08e-02 4.76e-03  -4.1 1.73e+01    -  1.00e+00 1.00e+00h  1\n",
      " 110  5.7074475e+00 1.82e+00 2.62e-01  -3.6 3.71e+02    -  3.03e-01 9.72e-01h  1\n",
      " 120  5.0972293e+00 1.48e-03 5.50e-04  -5.5 2.03e+00    -  1.00e+00 1.00e+00h  1\n",
      " 130  5.1172697e+00 5.94e-02 4.87e-01  -5.3 1.45e+02    -  1.53e-01 3.72e-02h  1\n",
      "\n",
      "Number of Iterations....: 137\n",
      "\n",
      "                                   (scaled)                 (unscaled)\n",
      "Objective...............:   5.0709722338290772e+00    5.0709722338290772e+00\n",
      "Dual infeasibility......:   4.0854608321159655e-04    4.0854608321159655e-04\n",
      "Constraint violation....:   2.2180822405459821e-05    2.4437789942766130e-05\n",
      "Complementarity.........:   4.8515592292684083e-07    4.8515592292684083e-07\n",
      "Overall NLP error.......:   4.0854608321159655e-04    4.0854608321159655e-04\n",
      "\n",
      "\n",
      "Number of objective function evaluations             = 138\n",
      "Number of objective gradient evaluations             = 138\n",
      "Number of equality constraint evaluations            = 138\n",
      "Number of inequality constraint evaluations          = 138\n",
      "Number of equality constraint Jacobian evaluations   = 138\n",
      "Number of inequality constraint Jacobian evaluations = 138\n",
      "Number of Lagrangian Hessian evaluations             = 0\n",
      "Total CPU secs in IPOPT (w/o function evaluations)   =     11.869\n",
      "Total CPU secs in NLP function evaluations           =    132.853\n",
      "\n",
      "\n",
      "Timing Statistics:\n",
      "\n",
      "OverallAlgorithm....................:    144.722 (sys:      1.028 wall:    146.007)\n",
      " PrintProblemStatistics.............:      0.000 (sys:      0.000 wall:      0.000)\n",
      " InitializeIterates.................:      5.231 (sys:      0.019 wall:      5.256)\n",
      " UpdateHessian......................:      0.095 (sys:      0.002 wall:      0.098)\n",
      " OutputIteration....................:      0.001 (sys:      0.000 wall:      0.002)\n",
      " UpdateBarrierParameter.............:      4.310 (sys:      0.485 wall:      4.779)\n",
      " ComputeSearchDirection.............:      3.051 (sys:      0.297 wall:      3.340)\n",
      " ComputeAcceptableTrialPoint........:    106.032 (sys:      0.160 wall:    106.435)\n",
      " AcceptTrialPoint...................:      0.006 (sys:      0.000 wall:      0.006)\n",
      " CheckConvergence...................:     25.995 (sys:      0.065 wall:     26.091)\n",
      "PDSystemSolverTotal.................:      7.329 (sys:      0.771 wall:      8.076)\n",
      " PDSystemSolverSolveOnce............:      7.147 (sys:      0.767 wall:      7.891)\n",
      " ComputeResiduals...................:      0.168 (sys:      0.002 wall:      0.170)\n",
      " StdAugSystemSolverMultiSolve.......:      6.821 (sys:      0.653 wall:      7.454)\n",
      " LinearSystemScaling................:      0.000 (sys:      0.000 wall:      0.000)\n",
      " LinearSystemSymbolicFactorization..:      0.011 (sys:      0.003 wall:      0.015)\n",
      " LinearSystemFactorization..........:      4.478 (sys:      0.313 wall:      4.770)\n",
      " LinearSystemBackSolve..............:      2.066 (sys:      0.172 wall:      2.235)\n",
      " LinearSystemStructureConverter.....:      0.032 (sys:      0.001 wall:      0.033)\n",
      "  LinearSystemStructureConverterInit:      0.005 (sys:      0.001 wall:      0.006)\n",
      "QualityFunctionSearch...............:      0.014 (sys:      0.006 wall:      0.020)\n",
      "TryCorrector........................:      0.000 (sys:      0.000 wall:      0.000)\n",
      "Task1...............................:      0.002 (sys:      0.001 wall:      0.003)\n",
      "Task2...............................:      0.003 (sys:      0.001 wall:      0.004)\n",
      "Task3...............................:      0.001 (sys:      0.001 wall:      0.001)\n",
      "Task4...............................:      0.000 (sys:      0.000 wall:      0.000)\n",
      "Task5...............................:      0.003 (sys:      0.001 wall:      0.004)\n",
      "Function Evaluations................:    132.853 (sys:      0.213 wall:    133.341)\n",
      " Objective function.................:      1.071 (sys:      0.003 wall:      1.076)\n",
      " Objective function gradient........:      0.546 (sys:      0.001 wall:      0.548)\n",
      " Equality constraints...............:    104.928 (sys:      0.150 wall:    105.320)\n",
      " Inequality constraints.............:      0.756 (sys:      0.001 wall:      0.757)\n",
      " Equality constraint Jacobian.......:     25.550 (sys:      0.059 wall:     25.640)\n",
      " Inequality constraint Jacobian.....:      0.000 (sys:      0.000 wall:      0.000)\n",
      " Lagrangian Hessian.................:      0.000 (sys:      0.000 wall:      0.000)\n",
      "\n",
      "EXIT: Optimal Solution Found.\n"
     ]
    },
    {
     "name": "stderr",
     "output_type": "stream",
     "text": [
      "2021-10-06T08:19:32.772 | INFO | main_fte: Optimisation solver took 284.55s\n",
      "2021-10-06T08:19:32.776 | INFO | main_fte: Generate outputs...\n"
     ]
    },
    {
     "name": "stdout",
     "output_type": "stream",
     "text": [
      "Saved /Users/zico/msc/dev/AcinoSet/data/2017_09_02/top/jules/run1/fte_1/fte.pickle\n"
     ]
    },
    {
     "name": "stderr",
     "output_type": "stream",
     "text": [
      "2021-10-06T08:19:42.991 | INFO | main_fte: Single view error [mm] across the entire trajectory: 204.0683290922219\n",
      "2021-10-06T08:19:42.995 | INFO | main_fte: Done\n"
     ]
    },
    {
     "name": "stdout",
     "output_type": "stream",
     "text": [
      "Saved /Users/zico/msc/dev/AcinoSet/data/2017_09_02/top/jules/run1/fte_1/cam*_fte.h5\n",
      "Saved /Users/zico/msc/dev/AcinoSet/data/2017_09_02/top/jules/run1/fte_1/cam*_fte.csv\n",
      "\n"
     ]
    }
   ],
   "source": [
    "# Run the optimisation\n",
    "main_fte.run(root_dir, data_path, cam_idx, start_frame, end_frame, dlc_thresh, reduced_space=False, n_comps=5, include_obj_orientation=True, init_fte=False, out_dir_prefix=\"/Users/zico/msc/dev/AcinoSet/data\")"
   ]
  },
  {
   "cell_type": "code",
   "execution_count": null,
   "metadata": {},
   "outputs": [],
   "source": [
    "dummy_scene = \"/Users/zico/OneDrive - University of Cape Town/CheetahReconstructionResults/cheetah_videos/2017_08_29/top/extrinsic_calib/6_cam_scene_sba.json\"\n",
    "main_fte.plot_trajectory(\"/Users/zico/msc/dev/monocular_estimation/data/synthesized.pickle\", dummy_scene)"
   ]
  },
  {
   "cell_type": "code",
   "execution_count": null,
   "metadata": {},
   "outputs": [],
   "source": [
    "# Compare the optimisation with previous results i.e. compare the output pickle file fte.pickle. This is a visual inspection.abs\n",
    "main_fte.plot_cheetah(root_dir, data_path, out_dir_prefix=\"/Users/zico/msc/dev/AcinoSet/data\")"
   ]
  },
  {
   "cell_type": "code",
   "execution_count": null,
   "metadata": {},
   "outputs": [],
   "source": [
    "# Compare the optimisation with previous results i.e. compare the output pickle file fte.pickle. This is a visual inspection.abs\n",
    "main_fte.compare_cheetahs(\"/Users/zico/msc/dev/AcinoSet/data/2017_09_02/top/jules/run1/fte_1/fte.pickle\", root_dir, data_path, fte_type=\"sd_fte\", centered=False, out_dir_prefix=\"/Users/zico/msc/dev/AcinoSet/data\")"
   ]
  },
  {
   "cell_type": "code",
   "execution_count": null,
   "metadata": {},
   "outputs": [],
   "source": [
    "eval_dir = os.path.join(\"/Users/zico/msc/dev/AcinoSet/data\", data_path, \"fte_pw\")\n",
    "data = data_ops.load_pickle(os.path.join(eval_dir, \"fte.pickle\"))\n",
    "results_dir = os.path.join(eval_dir, \"evaluation\")\n",
    "os.makedirs(eval_dir, exist_ok=True)\n",
    "max_delta_acc = evaluate_fte.eval_delta_acc(data, results_dir)\n",
    "evaluate_fte.eval_model_error(data, results_dir)\n",
    "evaluate_fte.eval_meas_error(data, results_dir)\n",
    "logger.info(max_delta_acc)"
   ]
  },
  {
   "cell_type": "code",
   "execution_count": null,
   "metadata": {},
   "outputs": [],
   "source": [
    "fig_fpath = os.path.join(os.path.join(os.path.join(\"..\", \"data\"), data_path, \"fte_pw\"), 'fte.svg')\n",
    "pw_file = data_ops.load_pickle(os.path.join(os.path.join(\"..\", \"data\"), data_path, \"fte_pw\", \"fte.pickle\"))\n",
    "app.plot_cheetah_states(pw_file[\"x\"], out_fpath=fig_fpath)"
   ]
  },
  {
   "cell_type": "code",
   "execution_count": null,
   "metadata": {},
   "outputs": [],
   "source": [
    "main_fte.plot_cost_functions()"
   ]
  },
  {
   "cell_type": "code",
   "execution_count": null,
   "metadata": {},
   "outputs": [],
   "source": []
  }
 ],
 "metadata": {
  "interpreter": {
   "hash": "aee8b7b246df8f9039afb4144a1f6fd8d2ca17a180786b69acc140d282b71a49"
  },
  "kernelspec": {
   "display_name": "Python [conda env:pypy] *",
   "language": "python",
   "name": "conda-env-pypy-py"
  },
  "language_info": {
   "codemirror_mode": {
    "name": "ipython",
    "version": 3
   },
   "file_extension": ".py",
   "mimetype": "text/x-python",
   "name": "python",
   "nbconvert_exporter": "python",
   "pygments_lexer": "ipython3",
   "version": "3.7.10"
  },
  "metadata": {
   "interpreter": {
    "hash": "aee8b7b246df8f9039afb4144a1f6fd8d2ca17a180786b69acc140d282b71a49"
   }
  }
 },
 "nbformat": 4,
 "nbformat_minor": 4
}
