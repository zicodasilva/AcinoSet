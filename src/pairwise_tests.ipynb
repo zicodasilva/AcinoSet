{
 "cells": [
  {
   "cell_type": "code",
   "execution_count": null,
   "metadata": {},
   "outputs": [],
   "source": [
    "import os\n",
    "from glob import glob\n",
    "\n",
    "import main_fte\n",
    "from py_utils import data_ops\n",
    "import evaluate_fte\n",
    "from lib import app\n",
    "from py_utils import log\n",
    "\n",
    "%load_ext autoreload\n",
    "%autoreload 2\n",
    "\n",
    "%matplotlib inline\n",
    "\n",
    "# root_dir = os.path.join(\"..\", \"data\")\n",
    "root_dir = os.path.join(\"/Users/zico/OneDrive - University of Cape Town/CheetahReconstructionResults/cheetah_videos\")\n",
    "# If you are running the code remotely on the Linux i9.\n",
    "# root_dir = os.path.join(\"/\",\"data\", \"dlc\", \"to_analyse\", \"cheetah_videos\")\\\n",
    "logger = log.logger(\"main\")"
   ]
  },
  {
   "cell_type": "code",
   "execution_count": null,
   "metadata": {},
   "outputs": [],
   "source": [
    "# Generate the pose functions if this has not been done before (note this should only be performed once). It will be saved in the root_dir.\n",
    "functions = main_fte.create_pose_functions(root_dir)"
   ]
  },
  {
   "cell_type": "code",
   "execution_count": null,
   "metadata": {},
   "outputs": [],
   "source": [
    "# Configurations for the optimisation. 2017_08_29/top/phantom/run1_1 2017_08_29/top/phantom/flick1_1 2019_02_27/kiara/run\n",
    "# 2017_08_29/top/jules/run1_1 2017_09_02/top/jules/flick1_1\n",
    "data_path = os.path.join(\"2019_03_09\", \"jules\", \"flick2\")\n",
    "# 2019_03_09LilyFlick (10, 110)\n",
    "# 2019_03_09JulesFlick2 (80, 180) *(80, 190)\n",
    "# 2017_09_03TopZorroFlick1_1 (61, 150)\n",
    "# 2017_12_16PhantomFlick2_1 (150, 250)\n",
    "start_frame = 91\n",
    "end_frame = 190\n",
    "dlc_thresh = 0.5\n",
    "filtered_markers = ()\n",
    "# filtered_markers = (\"r_front_ankle\", \"r_front_paw\", \"r_back_ankle\", \"r_back_paw\")\n",
    "# ((10, 20), (30, 40), (40, 50), (50, 60), (20, 30), (80, 90), (90, 105))\n",
    "# ((10, 20), (30, 40), (40, 50), (20, 30), (80, 90))\n",
    "# ((10, 20), (50, 55), (80, 90))"
   ]
  },
  {
   "cell_type": "code",
   "execution_count": null,
   "metadata": {
    "tags": [
     "outputPrepend"
    ]
   },
   "outputs": [],
   "source": [
    "# Run the optimisation\n",
    "main_fte.run(root_dir, data_path, start_frame, end_frame, dlc_thresh, drop_out_frames = (), filtered_markers=filtered_markers, init_ekf=False, single_view=0, enable_shutter_delay=False, pairwise_included=0, generate_reprojection_videos=False, out_dir_prefix=\"/Users/zico/msc/dev/AcinoSet/data\")"
   ]
  },
  {
   "cell_type": "code",
   "execution_count": null,
   "metadata": {},
   "outputs": [],
   "source": [
    "main_fte.metrics(root_dir, data_path, start_frame, end_frame, dlc_thresh, out_dir_prefix=\"/Users/zico/msc/dev/AcinoSet/data\")"
   ]
  },
  {
   "cell_type": "code",
   "execution_count": null,
   "metadata": {},
   "outputs": [],
   "source": [
    "dummy_scene = \"/Users/zico/OneDrive - University of Cape Town/CheetahReconstructionResults/cheetah_videos/2017_08_29/top/extrinsic_calib/6_cam_scene_sba.json\"\n",
    "main_fte.plot_trajectory(\"/Users/zico/msc/dev/monocular_estimation/data/synthesized.pickle\", dummy_scene)"
   ]
  },
  {
   "cell_type": "code",
   "execution_count": null,
   "metadata": {},
   "outputs": [],
   "source": [
    "# Compare the optimisation with previous results i.e. compare the output pickle file fte.pickle. This is a visual inspection.abs\n",
    "main_fte.plot_cheetah(root_dir, data_path, out_dir_prefix=\"/Users/zico/msc/dev/AcinoSet/data\")"
   ]
  },
  {
   "cell_type": "code",
   "execution_count": null,
   "metadata": {},
   "outputs": [],
   "source": [
    "# Compare the optimisation with previous results i.e. compare the output pickle file fte.pickle. This is a visual inspection.abs\n",
    "main_fte.compare_cheetahs(\"/Users/zico/msc/dev/monocular_estimation/lily_discrete_trajectory.pickle\", root_dir, data_path, out_dir_prefix=\"/Users/zico/msc/dev/AcinoSet/data\")"
   ]
  },
  {
   "cell_type": "code",
   "execution_count": null,
   "metadata": {},
   "outputs": [],
   "source": [
    "eval_dir = os.path.join(\"/Users/zico/msc/dev/AcinoSet/data\", data_path, \"fte_pw\")\n",
    "data = data_ops.load_pickle(os.path.join(eval_dir, \"fte.pickle\"))\n",
    "results_dir = os.path.join(eval_dir, \"evaluation\")\n",
    "os.makedirs(eval_dir, exist_ok=True)\n",
    "max_delta_acc = evaluate_fte.eval_delta_acc(data, results_dir)\n",
    "evaluate_fte.eval_model_error(data, results_dir)\n",
    "evaluate_fte.eval_meas_error(data, results_dir)\n",
    "logger.info(max_delta_acc)"
   ]
  },
  {
   "cell_type": "code",
   "execution_count": null,
   "metadata": {},
   "outputs": [],
   "source": [
    "fig_fpath = os.path.join(os.path.join(os.path.join(\"..\", \"data\"), data_path, \"fte_pw\"), 'fte.svg')\n",
    "pw_file = data_ops.load_pickle(os.path.join(os.path.join(\"..\", \"data\"), data_path, \"fte_pw\", \"fte.pickle\"))\n",
    "app.plot_cheetah_states(pw_file[\"x\"], out_fpath=fig_fpath)"
   ]
  },
  {
   "cell_type": "code",
   "execution_count": null,
   "metadata": {},
   "outputs": [],
   "source": [
    "main_fte.plot_cost_functions()"
   ]
  }
 ],
 "metadata": {
  "interpreter": {
   "hash": "aee8b7b246df8f9039afb4144a1f6fd8d2ca17a180786b69acc140d282b71a49"
  },
  "kernelspec": {
   "display_name": "Python [conda env:pypy] *",
   "language": "python",
   "name": "conda-env-pypy-py"
  },
  "language_info": {
   "codemirror_mode": {
    "name": "ipython",
    "version": 3
   },
   "file_extension": ".py",
   "mimetype": "text/x-python",
   "name": "python",
   "nbconvert_exporter": "python",
   "pygments_lexer": "ipython3",
   "version": "3.7.10"
  },
  "metadata": {
   "interpreter": {
    "hash": "aee8b7b246df8f9039afb4144a1f6fd8d2ca17a180786b69acc140d282b71a49"
   }
  }
 },
 "nbformat": 4,
 "nbformat_minor": 4
}
