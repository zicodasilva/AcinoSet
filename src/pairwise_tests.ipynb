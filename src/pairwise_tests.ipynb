{
 "cells": [
  {
   "cell_type": "code",
   "execution_count": null,
   "metadata": {},
   "outputs": [],
   "source": [
    "import os\n",
    "from glob import glob\n",
    "\n",
    "import pairwise_fte\n",
    "from py_utils import data_ops\n",
    "import evaluate_fte\n",
    "from lib import app\n",
    "from py_utils import log\n",
    "\n",
    "%load_ext autoreload\n",
    "%autoreload 2\n",
    "\n",
    "%matplotlib inline\n",
    "\n",
    "root_dir = os.path.join(\"..\", \"data\")\n",
    "# root_dir = os.path.join(\"/Users/zico/OneDrive - University of Cape Town/CheetahReconstructionResults/cheetah_videos\")\n",
    "# If you are running the code remotely on the Linux i9.\n",
    "# root_dir = os.path.join(\"/\",\"data\", \"dlc\", \"to_analyse\", \"cheetah_videos\")\\\n",
    "logger = log.logger(\"main\")"
   ]
  },
  {
   "cell_type": "code",
   "execution_count": null,
   "metadata": {},
   "outputs": [],
   "source": [
    "# Generate the pose functions if this has not been done before (note this should only be performed once). It will be saved in the root_dir.\n",
    "functions = pairwise_fte.create_pose_functions(root_dir)"
   ]
  },
  {
   "cell_type": "code",
   "execution_count": null,
   "metadata": {},
   "outputs": [],
   "source": [
    "# Configurations for the optimisation. 2017_08_29/top/phantom/run1_1 2017_08_29/top/phantom/flick1_1 2019_02_27/kiara/run\n",
    "data_path = os.path.join(\"2019_03_09\", \"lily\", \"run\")\n",
    "start_frame = 80\n",
    "end_frame = 180\n",
    "dlc_thresh = 0.5"
   ]
  },
  {
   "cell_type": "code",
   "execution_count": null,
   "metadata": {
    "tags": [
     "outputPrepend"
    ]
   },
   "outputs": [],
   "source": [
    "# Run the optimisation\n",
    "pairwise_fte.run(root_dir, data_path, start_frame, end_frame, dlc_thresh, init_ekf=True, loss=\"lsq\", generate_reprojection_videos=True, out_dir_prefix=\"/Users/zico/msc/dev/AcinoSet/data\")"
   ]
  },
  {
   "cell_type": "code",
   "execution_count": null,
   "metadata": {},
   "outputs": [],
   "source": [
    "# Compare the optimisation with previous results i.e. compare the output pickle file fte.pickle. This is a visual inspection.abs\n",
    "pairwise_fte.plot_cheetah(root_dir, data_path, out_dir_prefix=\"/Users/zico/msc/dev/AcinoSet/data\")"
   ]
  },
  {
   "cell_type": "code",
   "execution_count": null,
   "metadata": {},
   "outputs": [],
   "source": [
    "# Compare the optimisation with previous results i.e. compare the output pickle file fte.pickle. This is a visual inspection.abs\n",
    "pairwise_fte.compare_cheetahs(\"/Users/zico/msc/dev/AcinoSet/data/2019_03_09/lily/run/fte_pw_1/fte.pickle\", root_dir, data_path, out_dir_prefix=\"/Users/zico/msc/dev/AcinoSet/data\")"
   ]
  },
  {
   "cell_type": "code",
   "execution_count": null,
   "metadata": {},
   "outputs": [],
   "source": [
    "# DEBUB purposes - if you want to display particular frames to inspect the measurements that are incorporated in the optimisation process.\n",
    "# The camera to use.\n",
    "cam_num = 1\n",
    "# The measurements to display 1 - base prediction, 2 - 3 pairwise measurements. Max is 3.\n",
    "pw_values = (1, 2, 3)\n",
    "# Frame number to display.\n",
    "frame_num = 110\n",
    "pairwise_fte.display_test_image(data_dir, cam_num, pw_values, frame_num)"
   ]
  },
  {
   "cell_type": "code",
   "execution_count": null,
   "metadata": {},
   "outputs": [],
   "source": [
    "eval_dir = os.path.join(\"/Users/zico/msc/dev/AcinoSet/data\", data_path, \"fte_pw\")\n",
    "data = data_ops.load_pickle(os.path.join(eval_dir, \"fte.pickle\"))\n",
    "results_dir = os.path.join(eval_dir, \"evaluation\")\n",
    "os.makedirs(eval_dir, exist_ok=True)\n",
    "max_delta_acc = evaluate_fte.eval_delta_acc(data, results_dir)\n",
    "evaluate_fte.eval_model_error(data, results_dir)\n",
    "evaluate_fte.eval_meas_error(data, results_dir)\n",
    "Q = [ # model parameters variance\n",
    "        max_delta_acc[0], max_delta_acc[1], max_delta_acc[2], # x, y, z\n",
    "        max_delta_acc[3], max_delta_acc[6], 0, max_delta_acc[10], 0, 0, 0, 0, 0, 0, 0, 0, 0, 0, #  phi_1, ... , phi_14\n",
    "        max_delta_acc[4], max_delta_acc[7], max_delta_acc[9], max_delta_acc[11], max_delta_acc[13], max_delta_acc[15], max_delta_acc[17], max_delta_acc[18], max_delta_acc[19], max_delta_acc[20], max_delta_acc[21], max_delta_acc[22], max_delta_acc[23], max_delta_acc[24], # theta_1, ... , theta_n\n",
    "        max_delta_acc[5], max_delta_acc[8], 0, max_delta_acc[12], max_delta_acc[14], max_delta_acc[16], 0, 0, 0, 0, 0, 0, 0, 0, # psi_1, ... , psi_n\n",
    "    #     ?, ?, ? # lure's x, y, z variance\n",
    "    ]\n",
    "logger.info(Q)"
   ]
  },
  {
   "cell_type": "code",
   "execution_count": null,
   "metadata": {},
   "outputs": [],
   "source": [
    "fig_fpath = os.path.join(os.path.join(os.path.join(\"..\", \"data\"), data_path, \"fte_pw\"), 'fte.svg')\n",
    "pw_file = data_ops.load_pickle(os.path.join(os.path.join(\"..\", \"data\"), data_path, \"fte_pw\", \"fte.pickle\"))\n",
    "app.plot_cheetah_states(pw_file[\"x\"], out_fpath=fig_fpath)"
   ]
  },
  {
   "cell_type": "code",
   "execution_count": null,
   "metadata": {},
   "outputs": [],
   "source": [
    "pairwise_fte.plot_cost_functions()"
   ]
  },
  {
   "cell_type": "code",
   "execution_count": null,
   "metadata": {},
   "outputs": [],
   "source": []
  }
 ],
 "metadata": {
  "kernelspec": {
   "name": "python395jvsc74a57bd0aee8b7b246df8f9039afb4144a1f6fd8d2ca17a180786b69acc140d282b71a49",
   "display_name": "Python 3.9.5 64-bit"
  },
  "language_info": {
   "codemirror_mode": {
    "name": "ipython",
    "version": 3
   },
   "file_extension": ".py",
   "mimetype": "text/x-python",
   "name": "python",
   "nbconvert_exporter": "python",
   "pygments_lexer": "ipython3",
   "version": "3.9.5"
  },
  "metadata": {
   "interpreter": {
    "hash": "aee8b7b246df8f9039afb4144a1f6fd8d2ca17a180786b69acc140d282b71a49"
   }
  }
 },
 "nbformat": 4,
 "nbformat_minor": 4
}