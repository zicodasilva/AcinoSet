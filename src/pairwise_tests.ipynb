{
 "cells": [
  {
   "cell_type": "code",
   "execution_count": null,
   "metadata": {},
   "outputs": [],
   "source": [
    "import os\n",
    "import main_fte\n",
    "\n",
    "%load_ext autoreload\n",
    "%autoreload 2\n",
    "\n",
    "%matplotlib inline"
   ]
  },
  {
   "cell_type": "code",
   "execution_count": null,
   "metadata": {},
   "outputs": [],
   "source": [
    "# Configurations for the optimisation.\n",
    "# root_dir = os.path.join(\"/Users/zico/OneDrive - University of Cape Town/msc/data\")\n",
    "# out_dir = os.path.join(\"/Users/zico/OneDrive - University of Cape Town/msc/data/analysed\")\n",
    "# If you are running the code remotely on the Linux i9.\n",
    "root_dir = os.path.join(\"/\",\"data\", \"zico\", \"cheetah_videos\")\n",
    "out_dir = os.path.join(\"/\", \"data\", \"zico\", \"analysed\")\n",
    "data_path = os.path.join(\"2019_03_09\", \"jules\", \"flick2\")\n",
    "start_frame = 80\n",
    "end_frame = 180\n",
    "dlc_thresh = 0.5"
   ]
  },
  {
   "cell_type": "code",
   "execution_count": null,
   "metadata": {},
   "outputs": [],
   "source": [
    "# Run the optimisation.\n",
    "main_fte.run(root_dir, data_path, start_frame, end_frame, dlc_thresh, enable_shutter_delay=True, enable_ppms=False, out_dir_prefix=out_dir)"
   ]
  },
  {
   "cell_type": "code",
   "execution_count": null,
   "metadata": {},
   "outputs": [],
   "source": [
    "# Plot the 3D trajectory for visual inspection.\n",
    "main_fte.plot_cheetah(root_dir, data_path, out_dir_prefix=out_dir)"
   ]
  },
  {
   "cell_type": "code",
   "execution_count": null,
   "metadata": {},
   "outputs": [],
   "source": [
    "# Generate metrics.\n",
    "main_fte.metrics(root_dir, data_path, start_frame, end_frame, dlc_thresh)"
   ]
  }
 ],
 "metadata": {
  "interpreter": {
   "hash": "aee8b7b246df8f9039afb4144a1f6fd8d2ca17a180786b69acc140d282b71a49"
  },
  "kernelspec": {
   "display_name": "Python 3.9.5 64-bit",
   "name": "python3"
  },
  "language_info": {
   "codemirror_mode": {
    "name": "ipython",
    "version": 3
   },
   "file_extension": ".py",
   "mimetype": "text/x-python",
   "name": "python",
   "nbconvert_exporter": "python",
   "pygments_lexer": "ipython3",
   "version": "3.9.5"
  },
  "metadata": {
   "interpreter": {
    "hash": "aee8b7b246df8f9039afb4144a1f6fd8d2ca17a180786b69acc140d282b71a49"
   }
  }
 },
 "nbformat": 4,
 "nbformat_minor": 4
}
