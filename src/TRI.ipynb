{
 "cells": [
  {
   "cell_type": "markdown",
   "metadata": {},
   "source": [
    "# Triangulation"
   ]
  },
  {
   "cell_type": "code",
   "execution_count": null,
   "metadata": {},
   "outputs": [],
   "source": [
    "import os\n",
    "import json\n",
    "import numpy as np\n",
    "import matplotlib.pyplot as plt\n",
    "from glob import glob\n",
    "from time import time\n",
    "from lib import misc, utils, app\n",
    "from lib.calib import triangulate_points_fisheye\n",
    "\n",
    "plt.style.use(os.path.join('..', 'configs', 'mplstyle.yaml'))\n",
    "\n",
    "%load_ext autoreload\n",
    "%autoreload 2\n",
    "\n",
    "ROOT_DATA_DIR = os.path.join('..', 'data')"
   ]
  },
  {
   "cell_type": "markdown",
   "metadata": {},
   "source": [
    "# Reconstruction Params\n",
    "Define the params in the cell below. Thereafter, run all cells"
   ]
  },
  {
   "cell_type": "code",
   "execution_count": null,
   "metadata": {},
   "outputs": [],
   "source": [
    "DATA_DIR = os.path.join(ROOT_DATA_DIR, '2019_03_09', 'lily', 'run')\n",
    "\n",
    "start_frame = 70\n",
    "end_frame = 170 # use -1 to reconstruct up to the last frame possible\n",
    "\n",
    "# DLC p_cutoff - any points with likelihood < dlc_thresh are not trusted in optimization\n",
    "dlc_thresh = 0.5 # change this only if the optimization result is unsatisfactory"
   ]
  },
  {
   "cell_type": "markdown",
   "metadata": {},
   "source": [
    "# Reconstruction"
   ]
  },
  {
   "cell_type": "code",
   "execution_count": null,
   "metadata": {},
   "outputs": [],
   "source": [
    "assert os.path.exists(DATA_DIR), f'Data directory not found: {DATA_DIR}'\n",
    "OUT_DIR = os.path.join(DATA_DIR, 'tri')\n",
    "DLC_DIR = os.path.join(DATA_DIR, 'dlc')\n",
    "assert os.path.exists(DLC_DIR), f'DLC directory not found: {DLC_DIR}'\n",
    "os.makedirs(OUT_DIR, exist_ok=True)\n",
    "\n",
    "# load video info\n",
    "res, fps, tot_frames, _ = app.get_vid_info(DATA_DIR) # path to original videos\n",
    "assert end_frame <= tot_frames, f'end_frame must be less than or equal to {tot_frames}'\n",
    "assert end_frame != 0, f'end_frame cannot be 0'\n",
    "if end_frame < 0:\n",
    "    end_frame = end_frame % tot_frames + 1 # cyclic\n",
    "\n",
    "assert 0 < start_frame < tot_frames, f'start_frame must be strictly between 0 and {tot_frames}'\n",
    "assert 0 <= dlc_thresh <= 1, 'dlc_thresh must be from 0 to 1'\n",
    "\n",
    "with open(os.path.join(OUT_DIR, 'reconstruction_params.json'), 'w') as f:\n",
    "    json.dump(dict(start_frame=start_frame, end_frame=end_frame, dlc_thresh=dlc_thresh), f)\n",
    "    \n",
    "start_frame -= 1 # 0 based indexing\n",
    "N = end_frame-start_frame\n",
    "\n",
    "k_arr, d_arr, r_arr, t_arr, cam_res, n_cams, scene_fpath = utils.find_scene_file(DATA_DIR, verbose=False)\n",
    "\n",
    "dlc_points_fpaths = sorted(glob(os.path.join(DLC_DIR, '*.h5')))\n",
    "assert n_cams == len(dlc_points_fpaths)\n",
    "\n",
    "# Load Measurement Data (pixels, likelihood)\n",
    "points_2d_df = utils.load_dlc_points_as_df(dlc_points_fpaths, verbose=False)\n",
    "points_2d_df = points_2d_df[points_2d_df['frame'].between(start_frame, end_frame-1)]\n",
    "points_2d_df = points_2d_df[points_2d_df['likelihood']>dlc_thresh] # ignore points with low likelihood\n",
    "\n",
    "assert len(k_arr) == points_2d_df['camera'].nunique()\n",
    "\n",
    "points_3d_df = utils.get_pairwise_3d_points_from_df(\n",
    "    points_2d_df,\n",
    "    k_arr, d_arr.reshape((-1,4)), r_arr, t_arr,\n",
    "    triangulate_points_fisheye\n",
    ")\n",
    "\n",
    "points_3d_df['point_index'] = points_3d_df.index"
   ]
  },
  {
   "cell_type": "markdown",
   "metadata": {},
   "source": [
    "# Save triangulation results"
   ]
  },
  {
   "cell_type": "code",
   "execution_count": null,
   "metadata": {},
   "outputs": [],
   "source": [
    "markers = misc.get_markers()\n",
    "\n",
    "positions = np.full((N, len(markers), 3), np.nan)\n",
    "for i, marker in enumerate(markers):\n",
    "    marker_pts = points_3d_df[points_3d_df['marker']==marker][['frame', 'x', 'y', 'z']].values\n",
    "    for frame, *pt_3d in marker_pts:\n",
    "        positions[int(frame)-start_frame, i] = pt_3d\n",
    "\n",
    "app.save_tri(positions, OUT_DIR, scene_fpath, start_frame, dlc_thresh)"
   ]
  },
  {
   "cell_type": "markdown",
   "metadata": {},
   "source": [
    "# Plot the cheetah!"
   ]
  },
  {
   "cell_type": "code",
   "execution_count": null,
   "metadata": {},
   "outputs": [],
   "source": [
    "data_fpath = os.path.join(OUT_DIR, 'tri.pickle')\n",
    "app.plot_cheetah_reconstruction(data_fpath, dark_mode=True)"
   ]
  },
  {
   "cell_type": "code",
   "execution_count": null,
   "metadata": {},
   "outputs": [],
   "source": []
  }
 ],
 "metadata": {
  "kernelspec": {
   "display_name": "Python 3",
   "language": "python",
   "name": "python3"
  },
  "language_info": {
   "codemirror_mode": {
    "name": "ipython",
    "version": 3
   },
   "file_extension": ".py",
   "mimetype": "text/x-python",
   "name": "python",
   "nbconvert_exporter": "python",
   "pygments_lexer": "ipython3",
   "version": "3.7.9"
  }
 },
 "nbformat": 4,
 "nbformat_minor": 4
}
