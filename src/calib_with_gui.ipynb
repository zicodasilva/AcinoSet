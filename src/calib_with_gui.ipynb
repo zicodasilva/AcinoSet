{
 "cells": [
  {
   "cell_type": "markdown",
   "id": "3d2988b1-01a8-4f7c-92d9-5d9120cce585",
   "metadata": {},
   "source": [
    "# Camera Calibration"
   ]
  },
  {
   "cell_type": "code",
   "execution_count": null,
   "id": "88e7d239-1e49-4b2a-932f-98a92a29cece",
   "metadata": {},
   "outputs": [],
   "source": [
    "import os\n",
    "import cv2 as cv\n",
    "import numpy as np\n",
    "import matplotlib.pyplot as plt\n",
    "from glob import glob\n",
    "from lib import app\n",
    "from lib.extract import get_frames\n",
    "from lib.utils import load_points, save_points\n",
    "\n",
    "plt.style.use(os.path.join('..', 'configs', 'mplstyle.yaml'))\n",
    "\n",
    "%load_ext autoreload\n",
    "%autoreload 2\n",
    "\n",
    "DATA_ROOT_DIR = os.path.join('..', 'data')"
   ]
  },
  {
   "cell_type": "markdown",
   "id": "19dfb080",
   "metadata": {},
   "source": [
    "# Intrinsic Calibration\n",
    "## 0. Define Params"
   ]
  },
  {
   "cell_type": "code",
   "execution_count": null,
   "id": "53c71195",
   "metadata": {},
   "outputs": [],
   "source": [
    "YEAR = 2019\n",
    "\n",
    "# checkerboard info\n",
    "INTRINSIC_BOARD_SHAPE = (9, 6) # (horizontal, vertical) num of inner corners of checkerboard pattern\n",
    "INTRINSIC_SQUARE_LEN = 0.04    # length of one side of black/white chessboard square in metres\n",
    "\n",
    "# automatically defined params - do not modify\n",
    "INTRINSIC_DATA_DIR = os.path.join(DATA_ROOT_DIR, 'intrinsic_calib', str(YEAR))"
   ]
  },
  {
   "cell_type": "markdown",
   "id": "ca728ef0",
   "metadata": {},
   "source": [
    "## 1. Extract frames\n",
    "You must first define the video you wish to use for calibration. Eg. for 2019, you can define video_fname to be '1.mp4' or '2.mp4'.\n",
    "GUI usage:\n",
    "- `.` - Next frame\n",
    "- `,` - Previous frame\n",
    "- `s` - Save current frame\n",
    "- `q` - Quit"
   ]
  },
  {
   "cell_type": "code",
   "execution_count": null,
   "id": "a1e4a2f9",
   "metadata": {},
   "outputs": [],
   "source": [
    "video_fname = '1.mp4'\n",
    "\n",
    "intrinsic_video_path = os.path.join(INTRINSIC_DATA_DIR, 'videos', video_fname)\n",
    "frames_fpath = os.path.join(INTRINSIC_DATA_DIR, 'frames')\n",
    "if not os.path.exists(frames_fpath):\n",
    "    os.makedirs(frames_fpath)\n",
    "    \n",
    "get_frames(\n",
    "    vid_fpath=intrinsic_video_path, \n",
    "    frame_output_dir=frames_fpath\n",
    ")"
   ]
  },
  {
   "cell_type": "markdown",
   "id": "e1e75c69",
   "metadata": {},
   "source": [
    "## 2. Find calibration board corners\n",
    "You must first define OpenCV's window size. You may need to rerun this cell with various window sizes until you are happy with the accuracy of the results"
   ]
  },
  {
   "cell_type": "code",
   "execution_count": null,
   "id": "4e772d07",
   "metadata": {},
   "outputs": [],
   "source": [
    "window_size = 5 # pixels\n",
    "\n",
    "# prepare the output dir\n",
    "frames_fpath = os.path.join(INTRINSIC_DATA_DIR, 'frames')\n",
    "if not os.path.exists(frames_fpath):\n",
    "    os.makedirs(frames_fpath)\n",
    "    \n",
    "# 'window_size' sets the size of the calibration board corner detector window size\n",
    "app.extract_corners_from_images(\n",
    "    img_dir=frames_fpath, \n",
    "    out_fpath=os.path.join(INTRINSIC_DATA_DIR, 'points.json'), \n",
    "    board_shape=INTRINSIC_BOARD_SHAPE, \n",
    "    board_edge_len=INTRINSIC_SQUARE_LEN, \n",
    "    window_size=window_size, \n",
    "    remove_unused_images=False\n",
    ")"
   ]
  },
  {
   "cell_type": "markdown",
   "id": "fe3d2a38",
   "metadata": {},
   "source": [
    "## 3. Plot detected points"
   ]
  },
  {
   "cell_type": "code",
   "execution_count": null,
   "id": "2b75c081",
   "metadata": {},
   "outputs": [],
   "source": [
    "app.plot_corners(os.path.join(INTRINSIC_DATA_DIR, 'points.json'))"
   ]
  },
  {
   "cell_type": "markdown",
   "id": "76e65cf1",
   "metadata": {},
   "source": [
    "# 4. Calibrate\n",
    "If you are not satisfied with the calibration error, you can remove frames with inaccurate checkerboard points. A feature that shows you how much error each frame adds to the calibration is in the pipeline, but until then you have to determine those frames manually and then remove them"
   ]
  },
  {
   "cell_type": "code",
   "execution_count": null,
   "id": "27fe1376",
   "metadata": {},
   "outputs": [],
   "source": [
    "K, D, R, t, used_points, rms = app.calibrate_fisheye_intrinsics(\n",
    "    points_fpath=os.path.join(INTRINSIC_DATA_DIR, 'points.json'), \n",
    "    out_fpath=os.path.join(INTRINSIC_DATA_DIR, 'camera.json')\n",
    ")\n",
    "print(f'\\nRMS Error is {rms:.3f} pixels')"
   ]
  },
  {
   "cell_type": "markdown",
   "id": "00d09b9f",
   "metadata": {},
   "source": [
    "## 5. Plot undistorted points using newly-found intrinsic parameters"
   ]
  },
  {
   "cell_type": "code",
   "execution_count": null,
   "id": "1f65aa2a",
   "metadata": {},
   "outputs": [],
   "source": [
    "scene = app.plot_points_fisheye_undistort(\n",
    "    points_fpath=os.path.join(INTRINSIC_DATA_DIR, 'points.json'), \n",
    "    camera_fpath=os.path.join(INTRINSIC_DATA_DIR, 'camera.json')\n",
    ")"
   ]
  },
  {
   "cell_type": "code",
   "execution_count": null,
   "id": "827618fe",
   "metadata": {},
   "outputs": [],
   "source": []
  },
  {
   "cell_type": "markdown",
   "id": "e6354e61",
   "metadata": {},
   "source": [
    "# Extrinsic calibration\n",
    "## 0. Define params"
   ]
  },
  {
   "cell_type": "code",
   "execution_count": null,
   "id": "021cff3d",
   "metadata": {},
   "outputs": [],
   "source": [
    "# the path to the scene you wish to calibrate\n",
    "DATA_DIR = os.path.join(DATA_ROOT_DIR, '2019_02_27')\n",
    "# DATA_DIR = os.path.join(DATA_ROOT_DIR, '2017_08_29', 'top')\n",
    "\n",
    "# Extrinsic checkerboard info\n",
    "EXTRINSIC_BOARD_SHAPE = (9, 6)\n",
    "EXTRINSIC_SQUARE_LEN = 0.088 # meters"
   ]
  },
  {
   "cell_type": "markdown",
   "id": "33878935",
   "metadata": {},
   "source": [
    "### Automatically defined params\n",
    "Do not modify"
   ]
  },
  {
   "cell_type": "code",
   "execution_count": null,
   "id": "29241fb1",
   "metadata": {},
   "outputs": [],
   "source": [
    "EXTRINSIC_DATA_DIR = os.path.join(DATA_DIR, 'extrinsic_calib')\n",
    "DUMMY_SCENE = os.path.abspath(os.path.join('..', 'configs', 'dummy_scene.json'))\n",
    "\n",
    "# Camera settings\n",
    "VID_FPATHS = sorted(glob(os.path.join(EXTRINSIC_DATA_DIR, 'videos', 'cam[1-9].mp4'))) # paths to the calibration videos\n",
    "\n",
    "CAMS = [int(os.path.splitext(os.path.basename(cam))[0][-1]) for cam in VID_FPATHS] # must be sorted\n",
    "print('Cams:', CAMS)\n",
    "\n",
    "# Intrinsic calibration\n",
    "YEAR = 2017 if '2017' in DATA_DIR else 2019\n",
    "INTRINSIC_DATA_DIR = os.path.join(DATA_ROOT_DIR, 'intrinsic_calib', str(YEAR))"
   ]
  },
  {
   "cell_type": "markdown",
   "id": "5998b164",
   "metadata": {},
   "source": [
    "## 1. Extract frames from videos\n",
    "You must first define the camera from which you wish to extract frames. ```camera``` must correspond to one of the numbers in ```CAMS```. Thereafter, use the GUI to save only those frames where the checkerboard squares are visible.\n",
    "\n",
    "GUI usage:\n",
    "- `.` - Next frame\n",
    "- `,` - Previous frame\n",
    "- `s` - Save current frame\n",
    "- `q` - Quit"
   ]
  },
  {
   "cell_type": "code",
   "execution_count": null,
   "id": "aa8fb467",
   "metadata": {},
   "outputs": [],
   "source": [
    "camera = 1  # Change as needed (in this example we have cameras 1,2,...\n",
    "assert camera in CAMS\n",
    "\n",
    "frames_fpath = os.path.join(EXTRINSIC_DATA_DIR, 'frames', str(camera))\n",
    "if not os.path.exists(frames_fpath):\n",
    "    os.makedirs(frames_fpath)\n",
    "print('The the output folder is', frames_fpath)\n",
    "\n",
    "get_frames(VID_FPATHS[camera-1], frames_fpath)\n",
    "# cv.waitKey(0); # Needed to close window properly\n",
    "print('GREAT JOB!!')"
   ]
  },
  {
   "cell_type": "markdown",
   "id": "26f50791",
   "metadata": {},
   "source": [
    "### Optional: Convert frames to negatives\n",
    "This is needed for the days that use the checkerboard with a black outline so that OpenCV can detect the checkerboard points correctly"
   ]
  },
  {
   "cell_type": "code",
   "execution_count": null,
   "id": "896447bd",
   "metadata": {},
   "outputs": [],
   "source": [
    "for cam in CAMS:\n",
    "    frames_fpath = os.path.join(EXTRINSIC_DATA_DIR, 'frames', str(cam))\n",
    "    neg_frames_dir = os.path.join(EXTRINSIC_DATA_DIR, 'neg_frames', str(cam))\n",
    "    if not os.path.exists(neg_frames_dir):\n",
    "        os.makedirs(neg_frames_dir)\n",
    "    print('The the output folder is', neg_frames_dir)\n",
    "    \n",
    "    for fname in os.listdir(frames_fpath):\n",
    "        fname = fname.lower()\n",
    "        if fname.endswith('.jpg') or fname.endswith('.png'):\n",
    "            img = cv.imread(os.path.join(frames_fpath, fname))\n",
    "            img_neg = (255 - img)\n",
    "            cv.imwrite(os.path.join(neg_frames_dir, fname), img_neg)"
   ]
  },
  {
   "cell_type": "markdown",
   "id": "31cca50b",
   "metadata": {},
   "source": [
    "## 2. Find calibration board corners\n",
    "Note: This takes a while!\n",
    "\n",
    "You must first define OpenCV's window size. You may need to rerun this cell with various window sizes until you are happy with the accuracy of the results.\n",
    "If the checkerboard with the black outline is used in the calibration vids, change ```'frames'``` to ```'neg_frames'```"
   ]
  },
  {
   "cell_type": "code",
   "execution_count": null,
   "id": "a68daa61",
   "metadata": {},
   "outputs": [],
   "source": [
    "window_size = 5\n",
    "\n",
    "# set directories\n",
    "points_dir = os.path.join(EXTRINSIC_DATA_DIR, 'points')\n",
    "if not os.path.exists(points_dir):\n",
    "    os.makedirs(points_dir)\n",
    "data_dirs = [[\n",
    "    os.path.join(EXTRINSIC_DATA_DIR, 'frames', str(cam)),\n",
    "    os.path.join(points_dir, f'points{cam}.json')\n",
    "] for cam in CAMS]\n",
    "\n",
    "# Find calibration board corners in images and save points\n",
    "for [img_dir, out_fpath] in data_dirs:\n",
    "    # 'window_size' sets the size of the calibration board corner detector window size\n",
    "    app.extract_corners_from_images(\n",
    "        img_dir, \n",
    "        out_fpath,\n",
    "        EXTRINSIC_BOARD_SHAPE,\n",
    "        EXTRINSIC_SQUARE_LEN, \n",
    "        window_size=window_size, \n",
    "        remove_unused_images=False\n",
    "    )"
   ]
  },
  {
   "cell_type": "markdown",
   "id": "80a8d7e5",
   "metadata": {},
   "source": [
    "### Correct points that were detected in the reversed order\n",
    "Sometimes OpenCV detects a frame's checkerboard points in the reverse direction relative to other frames. Use this code to correct those points.\n",
    "\n",
    "For each cam, you must manually insert the frame number that has reversed points. Eg. if img00012.jpg and img00100.jpg from cam3 has reversed points then ```frames = [[],\n",
    "[],\n",
    "[12, 100],\n",
    "[],\n",
    "[],\n",
    "[]]```\n",
    "(assuming there are 6 cams in this example)"
   ]
  },
  {
   "cell_type": "code",
   "execution_count": null,
   "id": "24012dde",
   "metadata": {},
   "outputs": [],
   "source": [
    "points_fpaths = sorted(glob(os.path.join(EXTRINSIC_DATA_DIR, 'points', 'points[1-9].json')))\n",
    "print(points_fpaths)\n",
    "\n",
    "# list of frames where checkerboard points were detected in the wrong orientation\n",
    "frames = [[],\n",
    "         [],\n",
    "         [],\n",
    "         [],\n",
    "         [],\n",
    "         []]\n",
    "assert len(frames) == len(points_fpaths)\n",
    "\n",
    "for i in range(len(frames)):\n",
    "    if frames[i]:\n",
    "        points, fnames, board_shape, board_edge_len, cam_res = load_points(points_fpaths[i])\n",
    "        for f in frames[i]:\n",
    "            img_name = f'img{f:05}.jpg'\n",
    "            index = fnames.index(img_name)\n",
    "            img_pts = points[index]\n",
    "            points[index] = np.flip(img_pts, (0, 1))\n",
    "        save_points(points_fpaths[i], points, fnames, board_shape, board_edge_len, cam_res)"
   ]
  },
  {
   "cell_type": "markdown",
   "id": "98fbd2c2",
   "metadata": {},
   "source": [
    "## 3. Calibrate pairwise extrinsics\n",
    "If one or more cam pairs do not have common image points, you need to use Argus Clicker to define manual points. Thereafter you must rerun the cell below to finalise the extrinsics. If the manual points minimization did not yield satisfactory extrinsic results, you have to adjust the ```redescending_loss``` params in ```calib.adjust_extrinsics_manual_points``` by trial and error (for now) until the results are satisfactory"
   ]
  },
  {
   "cell_type": "code",
   "execution_count": null,
   "id": "15dee13f",
   "metadata": {},
   "outputs": [],
   "source": [
    "camera_fpaths = [os.path.join(INTRINSIC_DATA_DIR, 'camera.json')]*len(CAMS)\n",
    "points_fpaths = sorted(glob(os.path.join(EXTRINSIC_DATA_DIR, 'points','points[1-9].json')))\n",
    "scene_fpath = os.path.join(EXTRINSIC_DATA_DIR, f'{len(points_fpaths)}_cam_scene.json')\n",
    "\n",
    "app.calibrate_fisheye_extrinsics_pairwise(\n",
    "    camera_fpaths, points_fpaths, \n",
    "    out_fpath=scene_fpath,# cams=CAMS,\n",
    "    dummy_scene_fpath=DUMMY_SCENE\n",
    ")"
   ]
  },
  {
   "cell_type": "markdown",
   "id": "d5e1dc2e",
   "metadata": {},
   "source": [
    "## 4. Run calibration SBA\n",
    "Note: Also takes a while!"
   ]
  },
  {
   "cell_type": "code",
   "execution_count": null,
   "id": "01766696",
   "metadata": {},
   "outputs": [],
   "source": [
    "scene_sba_fpath = scene_fpath.replace('.json','_sba.json')\n",
    "\n",
    "res = app.sba_board_points_fisheye(\n",
    "    scene_fpath, points_fpaths, out_fpath=scene_sba_fpath, \n",
    "    manual_points_fpath=manual_points_fpath#, manual_points_only=True,\n",
    "    # camera_indices=None\n",
    ")\n",
    "\n",
    "plt.plot(res['before'], label='Cost before')\n",
    "plt.plot(res['after'], label='Cost after')\n",
    "plt.legend()\n",
    "plt.show()"
   ]
  },
  {
   "cell_type": "markdown",
   "id": "75d7bec9",
   "metadata": {},
   "source": [
    "## 5. Visualize\n",
    "### Plot checkerboard points"
   ]
  },
  {
   "cell_type": "code",
   "execution_count": null,
   "id": "a2e63c99",
   "metadata": {},
   "outputs": [],
   "source": [
    "app.plot_scene(DATA_DIR, dark_mode=True)\n",
    "# Optionally, specify a certain scene file to view (points may be reconstructed incorrectly)\n",
    "# app.plot_scene(DATA_DIR, scene_fname='6_cam_scene_before_corrections.json', dark_mode=True)"
   ]
  },
  {
   "cell_type": "markdown",
   "id": "8865f0f1",
   "metadata": {},
   "source": [
    "### Plot manually defined points"
   ]
  },
  {
   "cell_type": "code",
   "execution_count": null,
   "id": "8f5d3e6e",
   "metadata": {},
   "outputs": [],
   "source": [
    "app.plot_scene(DATA_DIR, manual_points_only=True, dark_mode=True)"
   ]
  },
  {
   "cell_type": "code",
   "execution_count": null,
   "id": "04d878f9",
   "metadata": {},
   "outputs": [],
   "source": []
  }
 ],
 "metadata": {
  "kernelspec": {
   "display_name": "Python 3",
   "language": "python",
   "name": "python3"
  },
  "language_info": {
   "codemirror_mode": {
    "name": "ipython",
    "version": 3
   },
   "file_extension": ".py",
   "mimetype": "text/x-python",
   "name": "python",
   "nbconvert_exporter": "python",
   "pygments_lexer": "ipython3",
   "version": "3.7.9"
  }
 },
 "nbformat": 4,
 "nbformat_minor": 5
}
