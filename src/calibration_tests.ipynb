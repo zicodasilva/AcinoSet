{
 "cells": [
  {
   "cell_type": "code",
   "execution_count": null,
   "metadata": {},
   "outputs": [],
   "source": [
    "import os\n",
    "import cv2 as cv\n",
    "import numpy as np\n",
    "import matplotlib.pyplot as plt\n",
    "from glob import glob\n",
    "from lib import app\n",
    "from lib.utils import load_points, save_points, load_json, save_json\n",
    "\n",
    "plt.style.use(os.path.join(\"..\", \"configs\", \"mplstyle.yaml\"))\n",
    "\n",
    "%load_ext autoreload\n",
    "%autoreload 2\n",
    "\n",
    "%matplotlib inline"
   ]
  },
  {
   "cell_type": "code",
   "execution_count": null,
   "metadata": {},
   "outputs": [],
   "source": [
    "int_path = \"/Users/zico/Downloads/cali_int\"\n",
    "ext_cam1_path = \"/Users/zico/Downloads/cali_ext/601\"\n",
    "ext_cam2_path = \"/Users/zico/Downloads/cali_ext/602\""
   ]
  },
  {
   "cell_type": "code",
   "execution_count": null,
   "metadata": {},
   "outputs": [],
   "source": [
    "def convert_points(json_paths: list, out_fname: str):\n",
    "    data = load_json(json_paths[0])\n",
    "    output = {\n",
    "        \"board_shape\": [9, 1],\n",
    "        \"board_square_len\": 0,\n",
    "        \"camera_resolution\": [data[\"imageWidth\"], data[\"imageHeight\"]],\n",
    "        \"points\": {}\n",
    "    }\n",
    "    for fname in json_paths:\n",
    "        data = load_json(fname)\n",
    "        assert len(data[\"shapes\"]) == 9, f\"File {fname} did not produce enough points\"\n",
    "        output[\"points\"][data[\"imagePath\"]] = []\n",
    "        for i, p in enumerate(data[\"shapes\"]):\n",
    "            assert f\"p{i+1}\" == p[\"label\"]\n",
    "            output[\"points\"][data[\"imagePath\"]].append(p[\"points\"][0])\n",
    "\n",
    "    save_json(out_fname, output)"
   ]
  },
  {
   "cell_type": "code",
   "execution_count": null,
   "metadata": {},
   "outputs": [],
   "source": [
    "# Convert labelme points to acinoset points.\n",
    "# Convert intrinsic points.\n",
    "json_paths = sorted(glob(os.path.join(int_path, '*.json')))\n",
    "convert_points(json_paths, os.path.join(int_path, \"output\", \"points.json\"))\n",
    "\n",
    "# Convert extrinsic points.\n",
    "json_paths = sorted(glob(os.path.join(ext_cam1_path, '*.json')))\n",
    "convert_points(json_paths, os.path.join(os.path.dirname(ext_cam1_path), \"points\", \"points1.json\"))\n",
    "\n",
    "json_paths = sorted(glob(os.path.join(ext_cam2_path, '*.json')))\n",
    "convert_points(json_paths, os.path.join(os.path.dirname(ext_cam2_path), \"points\", \"points2.json\"))"
   ]
  },
  {
   "cell_type": "code",
   "execution_count": null,
   "metadata": {},
   "outputs": [],
   "source": [
    "# Intrinsic calibration.\n",
    "K, D, R, t, used_points = app.calibrate_arabia_intrinsics(os.path.join(int_path, \"output\", \"points.json\"), os.path.join(int_path, \"output\", \"camera.json\"))\n"
   ]
  },
  {
   "cell_type": "code",
   "execution_count": null,
   "metadata": {},
   "outputs": [],
   "source": [
    "# Extrinsic calibration.\n",
    "points_fpaths = sorted(glob(os.path.join(\"/Users/zico/Downloads/cali_ext\", \"points\", \"points[1-4].json\")))\n",
    "scene_fpath = os.path.join(\"/Users/zico/Downloads/cali_ext\", f\"{len(points_fpaths)}_cam_scene.json\")\n",
    "app.calibrate_arabia_extrinsics(scene_fpath, points_fpaths[0], points_fpaths[1], os.path.join(int_path, \"output\", \"camera.json\"))"
   ]
  },
  {
   "cell_type": "code",
   "execution_count": null,
   "metadata": {},
   "outputs": [],
   "source": [
    "# Perform SBA on calibration points to refine extrinsic calibration parameters.\n",
    "scene_sba_fpath = scene_fpath.replace('.json','_sba.json')\n",
    "\n",
    "res = app.sba_board_points_standard(\n",
    "    scene_fpath, points_fpaths, out_fpath=scene_sba_fpath,\n",
    ")\n",
    "\n",
    "plt.plot(res['before'], label='Cost before')\n",
    "plt.plot(res['after'], label='Cost after')\n",
    "plt.legend()\n",
    "plt.show(block=False)"
   ]
  }
 ],
 "metadata": {
  "interpreter": {
   "hash": "aee8b7b246df8f9039afb4144a1f6fd8d2ca17a180786b69acc140d282b71a49"
  },
  "kernelspec": {
   "display_name": "Python 3.9.5 64-bit",
   "language": "python",
   "name": "python3"
  },
  "language_info": {
   "codemirror_mode": {
    "name": "ipython",
    "version": 3
   },
   "file_extension": ".py",
   "mimetype": "text/x-python",
   "name": "python",
   "nbconvert_exporter": "python",
   "pygments_lexer": "ipython3",
   "version": "3.7.9"
  },
  "orig_nbformat": 4
 },
 "nbformat": 4,
 "nbformat_minor": 2
}
